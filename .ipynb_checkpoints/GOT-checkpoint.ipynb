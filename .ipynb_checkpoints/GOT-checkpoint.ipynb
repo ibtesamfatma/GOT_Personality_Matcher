{
 "cells": [
  {
   "cell_type": "code",
   "execution_count": 96,
   "id": "4c85b149",
   "metadata": {},
   "outputs": [],
   "source": [
    "import numpy as np \n",
    "import pandas as pd "
   ]
  },
  {
   "cell_type": "code",
   "execution_count": 97,
   "id": "4fdf1477",
   "metadata": {},
   "outputs": [],
   "source": [
    "df = pd.read_json('script-bag-of-words.json')"
   ]
  },
  {
   "cell_type": "code",
   "execution_count": 98,
   "id": "c4b598f8",
   "metadata": {},
   "outputs": [
    {
     "data": {
      "text/html": [
       "<div>\n",
       "<style scoped>\n",
       "    .dataframe tbody tr th:only-of-type {\n",
       "        vertical-align: middle;\n",
       "    }\n",
       "\n",
       "    .dataframe tbody tr th {\n",
       "        vertical-align: top;\n",
       "    }\n",
       "\n",
       "    .dataframe thead th {\n",
       "        text-align: right;\n",
       "    }\n",
       "</style>\n",
       "<table border=\"1\" class=\"dataframe\">\n",
       "  <thead>\n",
       "    <tr style=\"text-align: right;\">\n",
       "      <th></th>\n",
       "      <th>episodeAlt</th>\n",
       "      <th>seasonNum</th>\n",
       "      <th>episodeNum</th>\n",
       "      <th>episodeTitle</th>\n",
       "      <th>text</th>\n",
       "    </tr>\n",
       "  </thead>\n",
       "  <tbody>\n",
       "    <tr>\n",
       "      <th>68</th>\n",
       "      <td>S8E2</td>\n",
       "      <td>8</td>\n",
       "      <td>2</td>\n",
       "      <td>A Knight of the Seven Kingdoms</td>\n",
       "      <td>[{'name': 'Daenerys Targaryen', 'text': 'About...</td>\n",
       "    </tr>\n",
       "    <tr>\n",
       "      <th>69</th>\n",
       "      <td>S8E3</td>\n",
       "      <td>8</td>\n",
       "      <td>3</td>\n",
       "      <td>The Long Night</td>\n",
       "      <td>[{'name': 'Northman #1', 'text': 'Oi!'}, {'nam...</td>\n",
       "    </tr>\n",
       "    <tr>\n",
       "      <th>70</th>\n",
       "      <td>S8E4</td>\n",
       "      <td>8</td>\n",
       "      <td>4</td>\n",
       "      <td>The Last of the Starks</td>\n",
       "      <td>[{'name': 'Jon Snow', 'text': 'And Everyone It...</td>\n",
       "    </tr>\n",
       "    <tr>\n",
       "      <th>71</th>\n",
       "      <td>S8E5</td>\n",
       "      <td>8</td>\n",
       "      <td>5</td>\n",
       "      <td>The Bells</td>\n",
       "      <td>[{'name': 'Lord Varys', 'text': 'And? Come Not...</td>\n",
       "    </tr>\n",
       "    <tr>\n",
       "      <th>72</th>\n",
       "      <td>S8E6</td>\n",
       "      <td>8</td>\n",
       "      <td>6</td>\n",
       "      <td>The Iron Throne</td>\n",
       "      <td>[{'name': 'Tyrion Lannister', 'text': 'I'll fi...</td>\n",
       "    </tr>\n",
       "  </tbody>\n",
       "</table>\n",
       "</div>"
      ],
      "text/plain": [
       "   episodeAlt  seasonNum  episodeNum                    episodeTitle  \\\n",
       "68       S8E2          8           2  A Knight of the Seven Kingdoms   \n",
       "69       S8E3          8           3                  The Long Night   \n",
       "70       S8E4          8           4          The Last of the Starks   \n",
       "71       S8E5          8           5                       The Bells   \n",
       "72       S8E6          8           6                 The Iron Throne   \n",
       "\n",
       "                                                 text  \n",
       "68  [{'name': 'Daenerys Targaryen', 'text': 'About...  \n",
       "69  [{'name': 'Northman #1', 'text': 'Oi!'}, {'nam...  \n",
       "70  [{'name': 'Jon Snow', 'text': 'And Everyone It...  \n",
       "71  [{'name': 'Lord Varys', 'text': 'And? Come Not...  \n",
       "72  [{'name': 'Tyrion Lannister', 'text': 'I'll fi...  "
      ]
     },
     "execution_count": 98,
     "metadata": {},
     "output_type": "execute_result"
    }
   ],
   "source": [
    "df.tail()"
   ]
  },
  {
   "cell_type": "code",
   "execution_count": 99,
   "id": "47f83c4b",
   "metadata": {},
   "outputs": [],
   "source": [
    "# df.iloc[-1]['text']"
   ]
  },
  {
   "cell_type": "code",
   "execution_count": 100,
   "id": "26c0f123",
   "metadata": {},
   "outputs": [
    {
     "data": {
      "text/html": [
       "<div>\n",
       "<style scoped>\n",
       "    .dataframe tbody tr th:only-of-type {\n",
       "        vertical-align: middle;\n",
       "    }\n",
       "\n",
       "    .dataframe tbody tr th {\n",
       "        vertical-align: top;\n",
       "    }\n",
       "\n",
       "    .dataframe thead th {\n",
       "        text-align: right;\n",
       "    }\n",
       "</style>\n",
       "<table border=\"1\" class=\"dataframe\">\n",
       "  <thead>\n",
       "    <tr style=\"text-align: right;\">\n",
       "      <th></th>\n",
       "      <th>episodeAlt</th>\n",
       "      <th>seasonNum</th>\n",
       "      <th>episodeNum</th>\n",
       "      <th>episodeTitle</th>\n",
       "      <th>text</th>\n",
       "    </tr>\n",
       "  </thead>\n",
       "  <tbody>\n",
       "    <tr>\n",
       "      <th>0</th>\n",
       "      <td>S1E1</td>\n",
       "      <td>1</td>\n",
       "      <td>1</td>\n",
       "      <td>Winter Is Coming</td>\n",
       "      <td>[{'text': 'Easy, boy.', 'name': 'Will'}, {'tex...</td>\n",
       "    </tr>\n",
       "    <tr>\n",
       "      <th>1</th>\n",
       "      <td>S1E2</td>\n",
       "      <td>1</td>\n",
       "      <td>2</td>\n",
       "      <td>The Kingsroad</td>\n",
       "      <td>[{'text': 'And You child... drink, eat. need t...</td>\n",
       "    </tr>\n",
       "    <tr>\n",
       "      <th>2</th>\n",
       "      <td>S1E3</td>\n",
       "      <td>1</td>\n",
       "      <td>3</td>\n",
       "      <td>Lord Snow</td>\n",
       "      <td>[{'text': 'Council. Grand Lord Maester Pycelle...</td>\n",
       "    </tr>\n",
       "    <tr>\n",
       "      <th>3</th>\n",
       "      <td>S1E4</td>\n",
       "      <td>1</td>\n",
       "      <td>4</td>\n",
       "      <td>Cripples, Bastards, and Broken Things</td>\n",
       "      <td>[{'text': 'Lord's The again. been dreaming lit...</td>\n",
       "    </tr>\n",
       "    <tr>\n",
       "      <th>4</th>\n",
       "      <td>S1E5</td>\n",
       "      <td>1</td>\n",
       "      <td>5</td>\n",
       "      <td>The Wolf and the Lion</td>\n",
       "      <td>[{'text': 'Does Hugh Ser any capital? family h...</td>\n",
       "    </tr>\n",
       "  </tbody>\n",
       "</table>\n",
       "</div>"
      ],
      "text/plain": [
       "  episodeAlt  seasonNum  episodeNum                           episodeTitle  \\\n",
       "0       S1E1          1           1                       Winter Is Coming   \n",
       "1       S1E2          1           2                          The Kingsroad   \n",
       "2       S1E3          1           3                              Lord Snow   \n",
       "3       S1E4          1           4  Cripples, Bastards, and Broken Things   \n",
       "4       S1E5          1           5                  The Wolf and the Lion   \n",
       "\n",
       "                                                text  \n",
       "0  [{'text': 'Easy, boy.', 'name': 'Will'}, {'tex...  \n",
       "1  [{'text': 'And You child... drink, eat. need t...  \n",
       "2  [{'text': 'Council. Grand Lord Maester Pycelle...  \n",
       "3  [{'text': 'Lord's The again. been dreaming lit...  \n",
       "4  [{'text': 'Does Hugh Ser any capital? family h...  "
      ]
     },
     "execution_count": 100,
     "metadata": {},
     "output_type": "execute_result"
    }
   ],
   "source": [
    "df.head()"
   ]
  },
  {
   "cell_type": "code",
   "execution_count": 101,
   "id": "85429c10",
   "metadata": {},
   "outputs": [],
   "source": [
    "dw = pd.DataFrame(df['text'][72])"
   ]
  },
  {
   "cell_type": "code",
   "execution_count": 102,
   "id": "475e000a",
   "metadata": {},
   "outputs": [
    {
     "data": {
      "text/html": [
       "<div>\n",
       "<style scoped>\n",
       "    .dataframe tbody tr th:only-of-type {\n",
       "        vertical-align: middle;\n",
       "    }\n",
       "\n",
       "    .dataframe tbody tr th {\n",
       "        vertical-align: top;\n",
       "    }\n",
       "\n",
       "    .dataframe thead th {\n",
       "        text-align: right;\n",
       "    }\n",
       "</style>\n",
       "<table border=\"1\" class=\"dataframe\">\n",
       "  <thead>\n",
       "    <tr style=\"text-align: right;\">\n",
       "      <th></th>\n",
       "      <th>name</th>\n",
       "      <th>text</th>\n",
       "      <th>lang</th>\n",
       "      <th>translation</th>\n",
       "    </tr>\n",
       "  </thead>\n",
       "  <tbody>\n",
       "    <tr>\n",
       "      <th>0</th>\n",
       "      <td>Tyrion Lannister</td>\n",
       "      <td>I'll find later. you</td>\n",
       "      <td>NaN</td>\n",
       "      <td>NaN</td>\n",
       "    </tr>\n",
       "    <tr>\n",
       "      <th>1</th>\n",
       "      <td>Jon Snow</td>\n",
       "      <td>It's Let me men not safe. send some with you.</td>\n",
       "      <td>NaN</td>\n",
       "      <td>NaN</td>\n",
       "    </tr>\n",
       "    <tr>\n",
       "      <th>2</th>\n",
       "      <td>Tyrion Lannister</td>\n",
       "      <td>I'm alone. going</td>\n",
       "      <td>NaN</td>\n",
       "      <td>NaN</td>\n",
       "    </tr>\n",
       "    <tr>\n",
       "      <th>3</th>\n",
       "      <td>Grey Worm</td>\n",
       "      <td>Daenerys I In Queen, Targaryen, die. name of o...</td>\n",
       "      <td>NaN</td>\n",
       "      <td>NaN</td>\n",
       "    </tr>\n",
       "    <tr>\n",
       "      <th>4</th>\n",
       "      <td>Jon Snow</td>\n",
       "      <td>Grey It's These Worm! are men over. prisoners.</td>\n",
       "      <td>NaN</td>\n",
       "      <td>NaN</td>\n",
       "    </tr>\n",
       "    <tr>\n",
       "      <th>...</th>\n",
       "      <td>...</td>\n",
       "      <td>...</td>\n",
       "      <td>...</td>\n",
       "      <td>...</td>\n",
       "    </tr>\n",
       "    <tr>\n",
       "      <th>222</th>\n",
       "      <td>Brienne of Tarth</td>\n",
       "      <td>I agree all brothels. can over precedence ship...</td>\n",
       "      <td>NaN</td>\n",
       "      <td>NaN</td>\n",
       "    </tr>\n",
       "    <tr>\n",
       "      <th>223</th>\n",
       "      <td>Bronn</td>\n",
       "      <td>I a presumptuous statement. that's think very</td>\n",
       "      <td>NaN</td>\n",
       "      <td>NaN</td>\n",
       "    </tr>\n",
       "    <tr>\n",
       "      <th>224</th>\n",
       "      <td>Tyrion Lannister</td>\n",
       "      <td>I a a a and brothel. brought honeycomb into ja...</td>\n",
       "      <td>NaN</td>\n",
       "      <td>NaN</td>\n",
       "    </tr>\n",
       "    <tr>\n",
       "      <th>225</th>\n",
       "      <td>Stark Bannerman</td>\n",
       "      <td>North! Queen The in the</td>\n",
       "      <td>NaN</td>\n",
       "      <td>NaN</td>\n",
       "    </tr>\n",
       "    <tr>\n",
       "      <th>226</th>\n",
       "      <td>Stark Bannermen</td>\n",
       "      <td>North! North! North! North! North! Queen Queen...</td>\n",
       "      <td>NaN</td>\n",
       "      <td>NaN</td>\n",
       "    </tr>\n",
       "  </tbody>\n",
       "</table>\n",
       "<p>227 rows × 4 columns</p>\n",
       "</div>"
      ],
      "text/plain": [
       "                 name                                               text lang  \\\n",
       "0    Tyrion Lannister                               I'll find later. you  NaN   \n",
       "1            Jon Snow      It's Let me men not safe. send some with you.  NaN   \n",
       "2    Tyrion Lannister                                   I'm alone. going  NaN   \n",
       "3           Grey Worm  Daenerys I In Queen, Targaryen, die. name of o...  NaN   \n",
       "4            Jon Snow     Grey It's These Worm! are men over. prisoners.  NaN   \n",
       "..                ...                                                ...  ...   \n",
       "222  Brienne of Tarth  I agree all brothels. can over precedence ship...  NaN   \n",
       "223             Bronn      I a presumptuous statement. that's think very  NaN   \n",
       "224  Tyrion Lannister  I a a a and brothel. brought honeycomb into ja...  NaN   \n",
       "225   Stark Bannerman                            North! Queen The in the  NaN   \n",
       "226   Stark Bannermen  North! North! North! North! North! Queen Queen...  NaN   \n",
       "\n",
       "    translation  \n",
       "0           NaN  \n",
       "1           NaN  \n",
       "2           NaN  \n",
       "3           NaN  \n",
       "4           NaN  \n",
       "..          ...  \n",
       "222         NaN  \n",
       "223         NaN  \n",
       "224         NaN  \n",
       "225         NaN  \n",
       "226         NaN  \n",
       "\n",
       "[227 rows x 4 columns]"
      ]
     },
     "execution_count": 102,
     "metadata": {},
     "output_type": "execute_result"
    }
   ],
   "source": [
    "dw"
   ]
  },
  {
   "cell_type": "code",
   "execution_count": 103,
   "id": "11be4a10",
   "metadata": {},
   "outputs": [
    {
     "name": "stderr",
     "output_type": "stream",
     "text": [
      "2024-07-12 14:56:32,105 [10069] WARNING  py.warnings:109: [JupyterRequire] /var/folders/ym/ht65qg1n1w18jq7chjcggtbr0000gn/T/ipykernel_10069/645600639.py:5: FutureWarning: The frame.append method is deprecated and will be removed from pandas in a future version. Use pandas.concat instead.\n",
      "  dq = dq.append(new_df, ignore_index=True)\n",
      "\n",
      "2024-07-12 14:56:32,110 [10069] WARNING  py.warnings:109: [JupyterRequire] /var/folders/ym/ht65qg1n1w18jq7chjcggtbr0000gn/T/ipykernel_10069/645600639.py:5: FutureWarning: The frame.append method is deprecated and will be removed from pandas in a future version. Use pandas.concat instead.\n",
      "  dq = dq.append(new_df, ignore_index=True)\n",
      "\n",
      "2024-07-12 14:56:32,115 [10069] WARNING  py.warnings:109: [JupyterRequire] /var/folders/ym/ht65qg1n1w18jq7chjcggtbr0000gn/T/ipykernel_10069/645600639.py:5: FutureWarning: The frame.append method is deprecated and will be removed from pandas in a future version. Use pandas.concat instead.\n",
      "  dq = dq.append(new_df, ignore_index=True)\n",
      "\n",
      "2024-07-12 14:56:32,119 [10069] WARNING  py.warnings:109: [JupyterRequire] /var/folders/ym/ht65qg1n1w18jq7chjcggtbr0000gn/T/ipykernel_10069/645600639.py:5: FutureWarning: The frame.append method is deprecated and will be removed from pandas in a future version. Use pandas.concat instead.\n",
      "  dq = dq.append(new_df, ignore_index=True)\n",
      "\n",
      "2024-07-12 14:56:32,123 [10069] WARNING  py.warnings:109: [JupyterRequire] /var/folders/ym/ht65qg1n1w18jq7chjcggtbr0000gn/T/ipykernel_10069/645600639.py:5: FutureWarning: The frame.append method is deprecated and will be removed from pandas in a future version. Use pandas.concat instead.\n",
      "  dq = dq.append(new_df, ignore_index=True)\n",
      "\n",
      "2024-07-12 14:56:32,127 [10069] WARNING  py.warnings:109: [JupyterRequire] /var/folders/ym/ht65qg1n1w18jq7chjcggtbr0000gn/T/ipykernel_10069/645600639.py:5: FutureWarning: The frame.append method is deprecated and will be removed from pandas in a future version. Use pandas.concat instead.\n",
      "  dq = dq.append(new_df, ignore_index=True)\n",
      "\n",
      "2024-07-12 14:56:32,131 [10069] WARNING  py.warnings:109: [JupyterRequire] /var/folders/ym/ht65qg1n1w18jq7chjcggtbr0000gn/T/ipykernel_10069/645600639.py:5: FutureWarning: The frame.append method is deprecated and will be removed from pandas in a future version. Use pandas.concat instead.\n",
      "  dq = dq.append(new_df, ignore_index=True)\n",
      "\n",
      "2024-07-12 14:56:32,135 [10069] WARNING  py.warnings:109: [JupyterRequire] /var/folders/ym/ht65qg1n1w18jq7chjcggtbr0000gn/T/ipykernel_10069/645600639.py:5: FutureWarning: The frame.append method is deprecated and will be removed from pandas in a future version. Use pandas.concat instead.\n",
      "  dq = dq.append(new_df, ignore_index=True)\n",
      "\n",
      "2024-07-12 14:56:32,138 [10069] WARNING  py.warnings:109: [JupyterRequire] /var/folders/ym/ht65qg1n1w18jq7chjcggtbr0000gn/T/ipykernel_10069/645600639.py:5: FutureWarning: The frame.append method is deprecated and will be removed from pandas in a future version. Use pandas.concat instead.\n",
      "  dq = dq.append(new_df, ignore_index=True)\n",
      "\n",
      "2024-07-12 14:56:32,141 [10069] WARNING  py.warnings:109: [JupyterRequire] /var/folders/ym/ht65qg1n1w18jq7chjcggtbr0000gn/T/ipykernel_10069/645600639.py:5: FutureWarning: The frame.append method is deprecated and will be removed from pandas in a future version. Use pandas.concat instead.\n",
      "  dq = dq.append(new_df, ignore_index=True)\n",
      "\n",
      "2024-07-12 14:56:32,144 [10069] WARNING  py.warnings:109: [JupyterRequire] /var/folders/ym/ht65qg1n1w18jq7chjcggtbr0000gn/T/ipykernel_10069/645600639.py:5: FutureWarning: The frame.append method is deprecated and will be removed from pandas in a future version. Use pandas.concat instead.\n",
      "  dq = dq.append(new_df, ignore_index=True)\n",
      "\n",
      "2024-07-12 14:56:32,148 [10069] WARNING  py.warnings:109: [JupyterRequire] /var/folders/ym/ht65qg1n1w18jq7chjcggtbr0000gn/T/ipykernel_10069/645600639.py:5: FutureWarning: The frame.append method is deprecated and will be removed from pandas in a future version. Use pandas.concat instead.\n",
      "  dq = dq.append(new_df, ignore_index=True)\n",
      "\n",
      "2024-07-12 14:56:32,151 [10069] WARNING  py.warnings:109: [JupyterRequire] /var/folders/ym/ht65qg1n1w18jq7chjcggtbr0000gn/T/ipykernel_10069/645600639.py:5: FutureWarning: The frame.append method is deprecated and will be removed from pandas in a future version. Use pandas.concat instead.\n",
      "  dq = dq.append(new_df, ignore_index=True)\n",
      "\n",
      "2024-07-12 14:56:32,155 [10069] WARNING  py.warnings:109: [JupyterRequire] /var/folders/ym/ht65qg1n1w18jq7chjcggtbr0000gn/T/ipykernel_10069/645600639.py:5: FutureWarning: The frame.append method is deprecated and will be removed from pandas in a future version. Use pandas.concat instead.\n",
      "  dq = dq.append(new_df, ignore_index=True)\n",
      "\n",
      "2024-07-12 14:56:32,159 [10069] WARNING  py.warnings:109: [JupyterRequire] /var/folders/ym/ht65qg1n1w18jq7chjcggtbr0000gn/T/ipykernel_10069/645600639.py:5: FutureWarning: The frame.append method is deprecated and will be removed from pandas in a future version. Use pandas.concat instead.\n",
      "  dq = dq.append(new_df, ignore_index=True)\n",
      "\n",
      "2024-07-12 14:56:32,163 [10069] WARNING  py.warnings:109: [JupyterRequire] /var/folders/ym/ht65qg1n1w18jq7chjcggtbr0000gn/T/ipykernel_10069/645600639.py:5: FutureWarning: The frame.append method is deprecated and will be removed from pandas in a future version. Use pandas.concat instead.\n",
      "  dq = dq.append(new_df, ignore_index=True)\n",
      "\n",
      "2024-07-12 14:56:32,166 [10069] WARNING  py.warnings:109: [JupyterRequire] /var/folders/ym/ht65qg1n1w18jq7chjcggtbr0000gn/T/ipykernel_10069/645600639.py:5: FutureWarning: The frame.append method is deprecated and will be removed from pandas in a future version. Use pandas.concat instead.\n",
      "  dq = dq.append(new_df, ignore_index=True)\n",
      "\n",
      "2024-07-12 14:56:32,169 [10069] WARNING  py.warnings:109: [JupyterRequire] /var/folders/ym/ht65qg1n1w18jq7chjcggtbr0000gn/T/ipykernel_10069/645600639.py:5: FutureWarning: The frame.append method is deprecated and will be removed from pandas in a future version. Use pandas.concat instead.\n",
      "  dq = dq.append(new_df, ignore_index=True)\n",
      "\n",
      "2024-07-12 14:56:32,172 [10069] WARNING  py.warnings:109: [JupyterRequire] /var/folders/ym/ht65qg1n1w18jq7chjcggtbr0000gn/T/ipykernel_10069/645600639.py:5: FutureWarning: The frame.append method is deprecated and will be removed from pandas in a future version. Use pandas.concat instead.\n",
      "  dq = dq.append(new_df, ignore_index=True)\n",
      "\n",
      "2024-07-12 14:56:32,176 [10069] WARNING  py.warnings:109: [JupyterRequire] /var/folders/ym/ht65qg1n1w18jq7chjcggtbr0000gn/T/ipykernel_10069/645600639.py:5: FutureWarning: The frame.append method is deprecated and will be removed from pandas in a future version. Use pandas.concat instead.\n",
      "  dq = dq.append(new_df, ignore_index=True)\n",
      "\n",
      "2024-07-12 14:56:32,179 [10069] WARNING  py.warnings:109: [JupyterRequire] /var/folders/ym/ht65qg1n1w18jq7chjcggtbr0000gn/T/ipykernel_10069/645600639.py:5: FutureWarning: The frame.append method is deprecated and will be removed from pandas in a future version. Use pandas.concat instead.\n",
      "  dq = dq.append(new_df, ignore_index=True)\n",
      "\n",
      "2024-07-12 14:56:32,184 [10069] WARNING  py.warnings:109: [JupyterRequire] /var/folders/ym/ht65qg1n1w18jq7chjcggtbr0000gn/T/ipykernel_10069/645600639.py:5: FutureWarning: The frame.append method is deprecated and will be removed from pandas in a future version. Use pandas.concat instead.\n",
      "  dq = dq.append(new_df, ignore_index=True)\n",
      "\n",
      "2024-07-12 14:56:32,189 [10069] WARNING  py.warnings:109: [JupyterRequire] /var/folders/ym/ht65qg1n1w18jq7chjcggtbr0000gn/T/ipykernel_10069/645600639.py:5: FutureWarning: The frame.append method is deprecated and will be removed from pandas in a future version. Use pandas.concat instead.\n",
      "  dq = dq.append(new_df, ignore_index=True)\n",
      "\n",
      "2024-07-12 14:56:32,196 [10069] WARNING  py.warnings:109: [JupyterRequire] /var/folders/ym/ht65qg1n1w18jq7chjcggtbr0000gn/T/ipykernel_10069/645600639.py:5: FutureWarning: The frame.append method is deprecated and will be removed from pandas in a future version. Use pandas.concat instead.\n",
      "  dq = dq.append(new_df, ignore_index=True)\n",
      "\n",
      "2024-07-12 14:56:32,202 [10069] WARNING  py.warnings:109: [JupyterRequire] /var/folders/ym/ht65qg1n1w18jq7chjcggtbr0000gn/T/ipykernel_10069/645600639.py:5: FutureWarning: The frame.append method is deprecated and will be removed from pandas in a future version. Use pandas.concat instead.\n",
      "  dq = dq.append(new_df, ignore_index=True)\n",
      "\n"
     ]
    },
    {
     "name": "stderr",
     "output_type": "stream",
     "text": [
      "2024-07-12 14:56:32,207 [10069] WARNING  py.warnings:109: [JupyterRequire] /var/folders/ym/ht65qg1n1w18jq7chjcggtbr0000gn/T/ipykernel_10069/645600639.py:5: FutureWarning: The frame.append method is deprecated and will be removed from pandas in a future version. Use pandas.concat instead.\n",
      "  dq = dq.append(new_df, ignore_index=True)\n",
      "\n",
      "2024-07-12 14:56:32,211 [10069] WARNING  py.warnings:109: [JupyterRequire] /var/folders/ym/ht65qg1n1w18jq7chjcggtbr0000gn/T/ipykernel_10069/645600639.py:5: FutureWarning: The frame.append method is deprecated and will be removed from pandas in a future version. Use pandas.concat instead.\n",
      "  dq = dq.append(new_df, ignore_index=True)\n",
      "\n",
      "2024-07-12 14:56:32,214 [10069] WARNING  py.warnings:109: [JupyterRequire] /var/folders/ym/ht65qg1n1w18jq7chjcggtbr0000gn/T/ipykernel_10069/645600639.py:5: FutureWarning: The frame.append method is deprecated and will be removed from pandas in a future version. Use pandas.concat instead.\n",
      "  dq = dq.append(new_df, ignore_index=True)\n",
      "\n",
      "2024-07-12 14:56:32,218 [10069] WARNING  py.warnings:109: [JupyterRequire] /var/folders/ym/ht65qg1n1w18jq7chjcggtbr0000gn/T/ipykernel_10069/645600639.py:5: FutureWarning: The frame.append method is deprecated and will be removed from pandas in a future version. Use pandas.concat instead.\n",
      "  dq = dq.append(new_df, ignore_index=True)\n",
      "\n",
      "2024-07-12 14:56:32,221 [10069] WARNING  py.warnings:109: [JupyterRequire] /var/folders/ym/ht65qg1n1w18jq7chjcggtbr0000gn/T/ipykernel_10069/645600639.py:5: FutureWarning: The frame.append method is deprecated and will be removed from pandas in a future version. Use pandas.concat instead.\n",
      "  dq = dq.append(new_df, ignore_index=True)\n",
      "\n",
      "2024-07-12 14:56:32,226 [10069] WARNING  py.warnings:109: [JupyterRequire] /var/folders/ym/ht65qg1n1w18jq7chjcggtbr0000gn/T/ipykernel_10069/645600639.py:5: FutureWarning: The frame.append method is deprecated and will be removed from pandas in a future version. Use pandas.concat instead.\n",
      "  dq = dq.append(new_df, ignore_index=True)\n",
      "\n",
      "2024-07-12 14:56:32,230 [10069] WARNING  py.warnings:109: [JupyterRequire] /var/folders/ym/ht65qg1n1w18jq7chjcggtbr0000gn/T/ipykernel_10069/645600639.py:5: FutureWarning: The frame.append method is deprecated and will be removed from pandas in a future version. Use pandas.concat instead.\n",
      "  dq = dq.append(new_df, ignore_index=True)\n",
      "\n",
      "2024-07-12 14:56:32,234 [10069] WARNING  py.warnings:109: [JupyterRequire] /var/folders/ym/ht65qg1n1w18jq7chjcggtbr0000gn/T/ipykernel_10069/645600639.py:5: FutureWarning: The frame.append method is deprecated and will be removed from pandas in a future version. Use pandas.concat instead.\n",
      "  dq = dq.append(new_df, ignore_index=True)\n",
      "\n",
      "2024-07-12 14:56:32,237 [10069] WARNING  py.warnings:109: [JupyterRequire] /var/folders/ym/ht65qg1n1w18jq7chjcggtbr0000gn/T/ipykernel_10069/645600639.py:5: FutureWarning: The frame.append method is deprecated and will be removed from pandas in a future version. Use pandas.concat instead.\n",
      "  dq = dq.append(new_df, ignore_index=True)\n",
      "\n",
      "2024-07-12 14:56:32,241 [10069] WARNING  py.warnings:109: [JupyterRequire] /var/folders/ym/ht65qg1n1w18jq7chjcggtbr0000gn/T/ipykernel_10069/645600639.py:5: FutureWarning: The frame.append method is deprecated and will be removed from pandas in a future version. Use pandas.concat instead.\n",
      "  dq = dq.append(new_df, ignore_index=True)\n",
      "\n",
      "2024-07-12 14:56:32,245 [10069] WARNING  py.warnings:109: [JupyterRequire] /var/folders/ym/ht65qg1n1w18jq7chjcggtbr0000gn/T/ipykernel_10069/645600639.py:5: FutureWarning: The frame.append method is deprecated and will be removed from pandas in a future version. Use pandas.concat instead.\n",
      "  dq = dq.append(new_df, ignore_index=True)\n",
      "\n",
      "2024-07-12 14:56:32,249 [10069] WARNING  py.warnings:109: [JupyterRequire] /var/folders/ym/ht65qg1n1w18jq7chjcggtbr0000gn/T/ipykernel_10069/645600639.py:5: FutureWarning: The frame.append method is deprecated and will be removed from pandas in a future version. Use pandas.concat instead.\n",
      "  dq = dq.append(new_df, ignore_index=True)\n",
      "\n",
      "2024-07-12 14:56:32,253 [10069] WARNING  py.warnings:109: [JupyterRequire] /var/folders/ym/ht65qg1n1w18jq7chjcggtbr0000gn/T/ipykernel_10069/645600639.py:5: FutureWarning: The frame.append method is deprecated and will be removed from pandas in a future version. Use pandas.concat instead.\n",
      "  dq = dq.append(new_df, ignore_index=True)\n",
      "\n",
      "2024-07-12 14:56:32,257 [10069] WARNING  py.warnings:109: [JupyterRequire] /var/folders/ym/ht65qg1n1w18jq7chjcggtbr0000gn/T/ipykernel_10069/645600639.py:5: FutureWarning: The frame.append method is deprecated and will be removed from pandas in a future version. Use pandas.concat instead.\n",
      "  dq = dq.append(new_df, ignore_index=True)\n",
      "\n",
      "2024-07-12 14:56:32,262 [10069] WARNING  py.warnings:109: [JupyterRequire] /var/folders/ym/ht65qg1n1w18jq7chjcggtbr0000gn/T/ipykernel_10069/645600639.py:5: FutureWarning: The frame.append method is deprecated and will be removed from pandas in a future version. Use pandas.concat instead.\n",
      "  dq = dq.append(new_df, ignore_index=True)\n",
      "\n",
      "2024-07-12 14:56:32,265 [10069] WARNING  py.warnings:109: [JupyterRequire] /var/folders/ym/ht65qg1n1w18jq7chjcggtbr0000gn/T/ipykernel_10069/645600639.py:5: FutureWarning: The frame.append method is deprecated and will be removed from pandas in a future version. Use pandas.concat instead.\n",
      "  dq = dq.append(new_df, ignore_index=True)\n",
      "\n",
      "2024-07-12 14:56:32,269 [10069] WARNING  py.warnings:109: [JupyterRequire] /var/folders/ym/ht65qg1n1w18jq7chjcggtbr0000gn/T/ipykernel_10069/645600639.py:5: FutureWarning: The frame.append method is deprecated and will be removed from pandas in a future version. Use pandas.concat instead.\n",
      "  dq = dq.append(new_df, ignore_index=True)\n",
      "\n",
      "2024-07-12 14:56:32,273 [10069] WARNING  py.warnings:109: [JupyterRequire] /var/folders/ym/ht65qg1n1w18jq7chjcggtbr0000gn/T/ipykernel_10069/645600639.py:5: FutureWarning: The frame.append method is deprecated and will be removed from pandas in a future version. Use pandas.concat instead.\n",
      "  dq = dq.append(new_df, ignore_index=True)\n",
      "\n",
      "2024-07-12 14:56:32,278 [10069] WARNING  py.warnings:109: [JupyterRequire] /var/folders/ym/ht65qg1n1w18jq7chjcggtbr0000gn/T/ipykernel_10069/645600639.py:5: FutureWarning: The frame.append method is deprecated and will be removed from pandas in a future version. Use pandas.concat instead.\n",
      "  dq = dq.append(new_df, ignore_index=True)\n",
      "\n",
      "2024-07-12 14:56:32,282 [10069] WARNING  py.warnings:109: [JupyterRequire] /var/folders/ym/ht65qg1n1w18jq7chjcggtbr0000gn/T/ipykernel_10069/645600639.py:5: FutureWarning: The frame.append method is deprecated and will be removed from pandas in a future version. Use pandas.concat instead.\n",
      "  dq = dq.append(new_df, ignore_index=True)\n",
      "\n",
      "2024-07-12 14:56:32,287 [10069] WARNING  py.warnings:109: [JupyterRequire] /var/folders/ym/ht65qg1n1w18jq7chjcggtbr0000gn/T/ipykernel_10069/645600639.py:5: FutureWarning: The frame.append method is deprecated and will be removed from pandas in a future version. Use pandas.concat instead.\n",
      "  dq = dq.append(new_df, ignore_index=True)\n",
      "\n",
      "2024-07-12 14:56:32,293 [10069] WARNING  py.warnings:109: [JupyterRequire] /var/folders/ym/ht65qg1n1w18jq7chjcggtbr0000gn/T/ipykernel_10069/645600639.py:5: FutureWarning: The frame.append method is deprecated and will be removed from pandas in a future version. Use pandas.concat instead.\n",
      "  dq = dq.append(new_df, ignore_index=True)\n",
      "\n",
      "2024-07-12 14:56:32,298 [10069] WARNING  py.warnings:109: [JupyterRequire] /var/folders/ym/ht65qg1n1w18jq7chjcggtbr0000gn/T/ipykernel_10069/645600639.py:5: FutureWarning: The frame.append method is deprecated and will be removed from pandas in a future version. Use pandas.concat instead.\n",
      "  dq = dq.append(new_df, ignore_index=True)\n",
      "\n",
      "2024-07-12 14:56:32,302 [10069] WARNING  py.warnings:109: [JupyterRequire] /var/folders/ym/ht65qg1n1w18jq7chjcggtbr0000gn/T/ipykernel_10069/645600639.py:5: FutureWarning: The frame.append method is deprecated and will be removed from pandas in a future version. Use pandas.concat instead.\n",
      "  dq = dq.append(new_df, ignore_index=True)\n",
      "\n",
      "2024-07-12 14:56:32,307 [10069] WARNING  py.warnings:109: [JupyterRequire] /var/folders/ym/ht65qg1n1w18jq7chjcggtbr0000gn/T/ipykernel_10069/645600639.py:5: FutureWarning: The frame.append method is deprecated and will be removed from pandas in a future version. Use pandas.concat instead.\n",
      "  dq = dq.append(new_df, ignore_index=True)\n",
      "\n"
     ]
    },
    {
     "name": "stderr",
     "output_type": "stream",
     "text": [
      "2024-07-12 14:56:32,312 [10069] WARNING  py.warnings:109: [JupyterRequire] /var/folders/ym/ht65qg1n1w18jq7chjcggtbr0000gn/T/ipykernel_10069/645600639.py:5: FutureWarning: The frame.append method is deprecated and will be removed from pandas in a future version. Use pandas.concat instead.\n",
      "  dq = dq.append(new_df, ignore_index=True)\n",
      "\n",
      "2024-07-12 14:56:32,317 [10069] WARNING  py.warnings:109: [JupyterRequire] /var/folders/ym/ht65qg1n1w18jq7chjcggtbr0000gn/T/ipykernel_10069/645600639.py:5: FutureWarning: The frame.append method is deprecated and will be removed from pandas in a future version. Use pandas.concat instead.\n",
      "  dq = dq.append(new_df, ignore_index=True)\n",
      "\n",
      "2024-07-12 14:56:32,322 [10069] WARNING  py.warnings:109: [JupyterRequire] /var/folders/ym/ht65qg1n1w18jq7chjcggtbr0000gn/T/ipykernel_10069/645600639.py:5: FutureWarning: The frame.append method is deprecated and will be removed from pandas in a future version. Use pandas.concat instead.\n",
      "  dq = dq.append(new_df, ignore_index=True)\n",
      "\n",
      "2024-07-12 14:56:32,328 [10069] WARNING  py.warnings:109: [JupyterRequire] /var/folders/ym/ht65qg1n1w18jq7chjcggtbr0000gn/T/ipykernel_10069/645600639.py:5: FutureWarning: The frame.append method is deprecated and will be removed from pandas in a future version. Use pandas.concat instead.\n",
      "  dq = dq.append(new_df, ignore_index=True)\n",
      "\n",
      "2024-07-12 14:56:32,333 [10069] WARNING  py.warnings:109: [JupyterRequire] /var/folders/ym/ht65qg1n1w18jq7chjcggtbr0000gn/T/ipykernel_10069/645600639.py:5: FutureWarning: The frame.append method is deprecated and will be removed from pandas in a future version. Use pandas.concat instead.\n",
      "  dq = dq.append(new_df, ignore_index=True)\n",
      "\n",
      "2024-07-12 14:56:32,338 [10069] WARNING  py.warnings:109: [JupyterRequire] /var/folders/ym/ht65qg1n1w18jq7chjcggtbr0000gn/T/ipykernel_10069/645600639.py:5: FutureWarning: The frame.append method is deprecated and will be removed from pandas in a future version. Use pandas.concat instead.\n",
      "  dq = dq.append(new_df, ignore_index=True)\n",
      "\n",
      "2024-07-12 14:56:32,343 [10069] WARNING  py.warnings:109: [JupyterRequire] /var/folders/ym/ht65qg1n1w18jq7chjcggtbr0000gn/T/ipykernel_10069/645600639.py:5: FutureWarning: The frame.append method is deprecated and will be removed from pandas in a future version. Use pandas.concat instead.\n",
      "  dq = dq.append(new_df, ignore_index=True)\n",
      "\n",
      "2024-07-12 14:56:32,348 [10069] WARNING  py.warnings:109: [JupyterRequire] /var/folders/ym/ht65qg1n1w18jq7chjcggtbr0000gn/T/ipykernel_10069/645600639.py:5: FutureWarning: The frame.append method is deprecated and will be removed from pandas in a future version. Use pandas.concat instead.\n",
      "  dq = dq.append(new_df, ignore_index=True)\n",
      "\n",
      "2024-07-12 14:56:32,353 [10069] WARNING  py.warnings:109: [JupyterRequire] /var/folders/ym/ht65qg1n1w18jq7chjcggtbr0000gn/T/ipykernel_10069/645600639.py:5: FutureWarning: The frame.append method is deprecated and will be removed from pandas in a future version. Use pandas.concat instead.\n",
      "  dq = dq.append(new_df, ignore_index=True)\n",
      "\n",
      "2024-07-12 14:56:32,359 [10069] WARNING  py.warnings:109: [JupyterRequire] /var/folders/ym/ht65qg1n1w18jq7chjcggtbr0000gn/T/ipykernel_10069/645600639.py:5: FutureWarning: The frame.append method is deprecated and will be removed from pandas in a future version. Use pandas.concat instead.\n",
      "  dq = dq.append(new_df, ignore_index=True)\n",
      "\n",
      "2024-07-12 14:56:32,364 [10069] WARNING  py.warnings:109: [JupyterRequire] /var/folders/ym/ht65qg1n1w18jq7chjcggtbr0000gn/T/ipykernel_10069/645600639.py:5: FutureWarning: The frame.append method is deprecated and will be removed from pandas in a future version. Use pandas.concat instead.\n",
      "  dq = dq.append(new_df, ignore_index=True)\n",
      "\n",
      "2024-07-12 14:56:32,369 [10069] WARNING  py.warnings:109: [JupyterRequire] /var/folders/ym/ht65qg1n1w18jq7chjcggtbr0000gn/T/ipykernel_10069/645600639.py:5: FutureWarning: The frame.append method is deprecated and will be removed from pandas in a future version. Use pandas.concat instead.\n",
      "  dq = dq.append(new_df, ignore_index=True)\n",
      "\n",
      "2024-07-12 14:56:32,374 [10069] WARNING  py.warnings:109: [JupyterRequire] /var/folders/ym/ht65qg1n1w18jq7chjcggtbr0000gn/T/ipykernel_10069/645600639.py:5: FutureWarning: The frame.append method is deprecated and will be removed from pandas in a future version. Use pandas.concat instead.\n",
      "  dq = dq.append(new_df, ignore_index=True)\n",
      "\n",
      "2024-07-12 14:56:32,379 [10069] WARNING  py.warnings:109: [JupyterRequire] /var/folders/ym/ht65qg1n1w18jq7chjcggtbr0000gn/T/ipykernel_10069/645600639.py:5: FutureWarning: The frame.append method is deprecated and will be removed from pandas in a future version. Use pandas.concat instead.\n",
      "  dq = dq.append(new_df, ignore_index=True)\n",
      "\n",
      "2024-07-12 14:56:32,384 [10069] WARNING  py.warnings:109: [JupyterRequire] /var/folders/ym/ht65qg1n1w18jq7chjcggtbr0000gn/T/ipykernel_10069/645600639.py:5: FutureWarning: The frame.append method is deprecated and will be removed from pandas in a future version. Use pandas.concat instead.\n",
      "  dq = dq.append(new_df, ignore_index=True)\n",
      "\n",
      "2024-07-12 14:56:32,391 [10069] WARNING  py.warnings:109: [JupyterRequire] /var/folders/ym/ht65qg1n1w18jq7chjcggtbr0000gn/T/ipykernel_10069/645600639.py:5: FutureWarning: The frame.append method is deprecated and will be removed from pandas in a future version. Use pandas.concat instead.\n",
      "  dq = dq.append(new_df, ignore_index=True)\n",
      "\n",
      "2024-07-12 14:56:32,398 [10069] WARNING  py.warnings:109: [JupyterRequire] /var/folders/ym/ht65qg1n1w18jq7chjcggtbr0000gn/T/ipykernel_10069/645600639.py:5: FutureWarning: The frame.append method is deprecated and will be removed from pandas in a future version. Use pandas.concat instead.\n",
      "  dq = dq.append(new_df, ignore_index=True)\n",
      "\n",
      "2024-07-12 14:56:32,404 [10069] WARNING  py.warnings:109: [JupyterRequire] /var/folders/ym/ht65qg1n1w18jq7chjcggtbr0000gn/T/ipykernel_10069/645600639.py:5: FutureWarning: The frame.append method is deprecated and will be removed from pandas in a future version. Use pandas.concat instead.\n",
      "  dq = dq.append(new_df, ignore_index=True)\n",
      "\n",
      "2024-07-12 14:56:32,409 [10069] WARNING  py.warnings:109: [JupyterRequire] /var/folders/ym/ht65qg1n1w18jq7chjcggtbr0000gn/T/ipykernel_10069/645600639.py:5: FutureWarning: The frame.append method is deprecated and will be removed from pandas in a future version. Use pandas.concat instead.\n",
      "  dq = dq.append(new_df, ignore_index=True)\n",
      "\n",
      "2024-07-12 14:56:32,414 [10069] WARNING  py.warnings:109: [JupyterRequire] /var/folders/ym/ht65qg1n1w18jq7chjcggtbr0000gn/T/ipykernel_10069/645600639.py:5: FutureWarning: The frame.append method is deprecated and will be removed from pandas in a future version. Use pandas.concat instead.\n",
      "  dq = dq.append(new_df, ignore_index=True)\n",
      "\n",
      "2024-07-12 14:56:32,420 [10069] WARNING  py.warnings:109: [JupyterRequire] /var/folders/ym/ht65qg1n1w18jq7chjcggtbr0000gn/T/ipykernel_10069/645600639.py:5: FutureWarning: The frame.append method is deprecated and will be removed from pandas in a future version. Use pandas.concat instead.\n",
      "  dq = dq.append(new_df, ignore_index=True)\n",
      "\n",
      "2024-07-12 14:56:32,426 [10069] WARNING  py.warnings:109: [JupyterRequire] /var/folders/ym/ht65qg1n1w18jq7chjcggtbr0000gn/T/ipykernel_10069/645600639.py:5: FutureWarning: The frame.append method is deprecated and will be removed from pandas in a future version. Use pandas.concat instead.\n",
      "  dq = dq.append(new_df, ignore_index=True)\n",
      "\n",
      "2024-07-12 14:56:32,432 [10069] WARNING  py.warnings:109: [JupyterRequire] /var/folders/ym/ht65qg1n1w18jq7chjcggtbr0000gn/T/ipykernel_10069/645600639.py:5: FutureWarning: The frame.append method is deprecated and will be removed from pandas in a future version. Use pandas.concat instead.\n",
      "  dq = dq.append(new_df, ignore_index=True)\n",
      "\n"
     ]
    }
   ],
   "source": [
    "dq = pd.DataFrame()\n",
    "\n",
    "for data in range(df.shape[0]):\n",
    "    new_df = pd.DataFrame(df['text'][data])\n",
    "    dq = dq.append(new_df, ignore_index=True)\n",
    "    \n",
    "    "
   ]
  },
  {
   "cell_type": "code",
   "execution_count": 104,
   "id": "72046362",
   "metadata": {},
   "outputs": [
    {
     "data": {
      "text/html": [
       "<div>\n",
       "<style scoped>\n",
       "    .dataframe tbody tr th:only-of-type {\n",
       "        vertical-align: middle;\n",
       "    }\n",
       "\n",
       "    .dataframe tbody tr th {\n",
       "        vertical-align: top;\n",
       "    }\n",
       "\n",
       "    .dataframe thead th {\n",
       "        text-align: right;\n",
       "    }\n",
       "</style>\n",
       "<table border=\"1\" class=\"dataframe\">\n",
       "  <thead>\n",
       "    <tr style=\"text-align: right;\">\n",
       "      <th></th>\n",
       "      <th>text</th>\n",
       "      <th>name</th>\n",
       "      <th>lang</th>\n",
       "      <th>translation</th>\n",
       "      <th>check</th>\n",
       "      <th>type</th>\n",
       "      <th>transation</th>\n",
       "    </tr>\n",
       "  </thead>\n",
       "  <tbody>\n",
       "    <tr>\n",
       "      <th>0</th>\n",
       "      <td>Easy, boy.</td>\n",
       "      <td>Will</td>\n",
       "      <td>NaN</td>\n",
       "      <td>NaN</td>\n",
       "      <td>NaN</td>\n",
       "      <td>NaN</td>\n",
       "      <td>NaN</td>\n",
       "    </tr>\n",
       "    <tr>\n",
       "      <th>1</th>\n",
       "      <td>One They're What a and another before d'you ea...</td>\n",
       "      <td>Waymar Royce</td>\n",
       "      <td>NaN</td>\n",
       "      <td>NaN</td>\n",
       "      <td>NaN</td>\n",
       "      <td>NaN</td>\n",
       "      <td>NaN</td>\n",
       "    </tr>\n",
       "    <tr>\n",
       "      <th>2</th>\n",
       "      <td>I've I've Wildlings a a do ever in life. like ...</td>\n",
       "      <td>Will</td>\n",
       "      <td>NaN</td>\n",
       "      <td>NaN</td>\n",
       "      <td>NaN</td>\n",
       "      <td>NaN</td>\n",
       "      <td>NaN</td>\n",
       "    </tr>\n",
       "    <tr>\n",
       "      <th>3</th>\n",
       "      <td>How close did get? you</td>\n",
       "      <td>Waymar Royce</td>\n",
       "      <td>NaN</td>\n",
       "      <td>NaN</td>\n",
       "      <td>NaN</td>\n",
       "      <td>NaN</td>\n",
       "      <td>NaN</td>\n",
       "    </tr>\n",
       "    <tr>\n",
       "      <th>4</th>\n",
       "      <td>Close any as man would.</td>\n",
       "      <td>Will</td>\n",
       "      <td>NaN</td>\n",
       "      <td>NaN</td>\n",
       "      <td>NaN</td>\n",
       "      <td>NaN</td>\n",
       "      <td>NaN</td>\n",
       "    </tr>\n",
       "    <tr>\n",
       "      <th>...</th>\n",
       "      <td>...</td>\n",
       "      <td>...</td>\n",
       "      <td>...</td>\n",
       "      <td>...</td>\n",
       "      <td>...</td>\n",
       "      <td>...</td>\n",
       "      <td>...</td>\n",
       "    </tr>\n",
       "    <tr>\n",
       "      <th>23564</th>\n",
       "      <td>I agree all brothels. can over precedence ship...</td>\n",
       "      <td>Brienne of Tarth</td>\n",
       "      <td>NaN</td>\n",
       "      <td>NaN</td>\n",
       "      <td>NaN</td>\n",
       "      <td>NaN</td>\n",
       "      <td>NaN</td>\n",
       "    </tr>\n",
       "    <tr>\n",
       "      <th>23565</th>\n",
       "      <td>I a presumptuous statement. that's think very</td>\n",
       "      <td>Bronn</td>\n",
       "      <td>NaN</td>\n",
       "      <td>NaN</td>\n",
       "      <td>NaN</td>\n",
       "      <td>NaN</td>\n",
       "      <td>NaN</td>\n",
       "    </tr>\n",
       "    <tr>\n",
       "      <th>23566</th>\n",
       "      <td>I a a a and brothel. brought honeycomb into ja...</td>\n",
       "      <td>Tyrion Lannister</td>\n",
       "      <td>NaN</td>\n",
       "      <td>NaN</td>\n",
       "      <td>NaN</td>\n",
       "      <td>NaN</td>\n",
       "      <td>NaN</td>\n",
       "    </tr>\n",
       "    <tr>\n",
       "      <th>23567</th>\n",
       "      <td>North! Queen The in the</td>\n",
       "      <td>Stark Bannerman</td>\n",
       "      <td>NaN</td>\n",
       "      <td>NaN</td>\n",
       "      <td>NaN</td>\n",
       "      <td>NaN</td>\n",
       "      <td>NaN</td>\n",
       "    </tr>\n",
       "    <tr>\n",
       "      <th>23568</th>\n",
       "      <td>North! North! North! North! North! Queen Queen...</td>\n",
       "      <td>Stark Bannermen</td>\n",
       "      <td>NaN</td>\n",
       "      <td>NaN</td>\n",
       "      <td>NaN</td>\n",
       "      <td>NaN</td>\n",
       "      <td>NaN</td>\n",
       "    </tr>\n",
       "  </tbody>\n",
       "</table>\n",
       "<p>23569 rows × 7 columns</p>\n",
       "</div>"
      ],
      "text/plain": [
       "                                                    text              name  \\\n",
       "0                                             Easy, boy.              Will   \n",
       "1      One They're What a and another before d'you ea...      Waymar Royce   \n",
       "2      I've I've Wildlings a a do ever in life. like ...              Will   \n",
       "3                                 How close did get? you      Waymar Royce   \n",
       "4                                Close any as man would.              Will   \n",
       "...                                                  ...               ...   \n",
       "23564  I agree all brothels. can over precedence ship...  Brienne of Tarth   \n",
       "23565      I a presumptuous statement. that's think very             Bronn   \n",
       "23566  I a a a and brothel. brought honeycomb into ja...  Tyrion Lannister   \n",
       "23567                            North! Queen The in the   Stark Bannerman   \n",
       "23568  North! North! North! North! North! Queen Queen...   Stark Bannermen   \n",
       "\n",
       "      lang translation check type transation  \n",
       "0      NaN         NaN   NaN  NaN        NaN  \n",
       "1      NaN         NaN   NaN  NaN        NaN  \n",
       "2      NaN         NaN   NaN  NaN        NaN  \n",
       "3      NaN         NaN   NaN  NaN        NaN  \n",
       "4      NaN         NaN   NaN  NaN        NaN  \n",
       "...    ...         ...   ...  ...        ...  \n",
       "23564  NaN         NaN   NaN  NaN        NaN  \n",
       "23565  NaN         NaN   NaN  NaN        NaN  \n",
       "23566  NaN         NaN   NaN  NaN        NaN  \n",
       "23567  NaN         NaN   NaN  NaN        NaN  \n",
       "23568  NaN         NaN   NaN  NaN        NaN  \n",
       "\n",
       "[23569 rows x 7 columns]"
      ]
     },
     "execution_count": 104,
     "metadata": {},
     "output_type": "execute_result"
    }
   ],
   "source": [
    "dq"
   ]
  },
  {
   "cell_type": "code",
   "execution_count": 105,
   "id": "461c2c6f",
   "metadata": {},
   "outputs": [],
   "source": [
    "\n",
    "dq = dq.groupby('name')['text'].agg(lambda x:'. '.join(x)).reset_index()"
   ]
  },
  {
   "cell_type": "code",
   "execution_count": 106,
   "id": "24034223",
   "metadata": {},
   "outputs": [
    {
     "data": {
      "text/html": [
       "<div>\n",
       "<style scoped>\n",
       "    .dataframe tbody tr th:only-of-type {\n",
       "        vertical-align: middle;\n",
       "    }\n",
       "\n",
       "    .dataframe tbody tr th {\n",
       "        vertical-align: top;\n",
       "    }\n",
       "\n",
       "    .dataframe thead th {\n",
       "        text-align: right;\n",
       "    }\n",
       "</style>\n",
       "<table border=\"1\" class=\"dataframe\">\n",
       "  <thead>\n",
       "    <tr style=\"text-align: right;\">\n",
       "      <th></th>\n",
       "      <th>name</th>\n",
       "      <th>text</th>\n",
       "    </tr>\n",
       "  </thead>\n",
       "  <tbody>\n",
       "    <tr>\n",
       "      <th>0</th>\n",
       "      <td>Addam Marbrand</td>\n",
       "      <td>Is Renly? Stannis about and it true. No We We ...</td>\n",
       "    </tr>\n",
       "    <tr>\n",
       "      <th>1</th>\n",
       "      <td>Adrack Humble</td>\n",
       "      <td>If Is here? it live? on paper says that this w...</td>\n",
       "    </tr>\n",
       "    <tr>\n",
       "      <th>2</th>\n",
       "      <td>Aeron Greyjoy</td>\n",
       "      <td>Balon Feed Lord, Pull ancestors and back benea...</td>\n",
       "    </tr>\n",
       "    <tr>\n",
       "      <th>3</th>\n",
       "      <td>Akho</td>\n",
       "      <td>Hannavenaki Majin Me avvirsae hannaveneesi, il...</td>\n",
       "    </tr>\n",
       "    <tr>\n",
       "      <th>4</th>\n",
       "      <td>Alliser Thorne</td>\n",
       "      <td>Do Grenn, If Lord Ned Pyp. Snow Stark's a a ar...</td>\n",
       "    </tr>\n",
       "    <tr>\n",
       "      <th>...</th>\n",
       "      <td>...</td>\n",
       "      <td>...</td>\n",
       "    </tr>\n",
       "    <tr>\n",
       "      <th>812</th>\n",
       "      <td>Young Rodrik Cassel</td>\n",
       "      <td>Give Ned. another go, him</td>\n",
       "    </tr>\n",
       "    <tr>\n",
       "      <th>813</th>\n",
       "      <td>Yunkai Child</td>\n",
       "      <td>Mhysa!</td>\n",
       "    </tr>\n",
       "    <tr>\n",
       "      <th>814</th>\n",
       "      <td>Yunkai Crowd</td>\n",
       "      <td>Mhysa! Mhysa! Mhysa! Mhysa! Mhysa!. Mhysa! Mhy...</td>\n",
       "    </tr>\n",
       "    <tr>\n",
       "      <th>815</th>\n",
       "      <td>Yunkai Man</td>\n",
       "      <td>Mhysa!</td>\n",
       "    </tr>\n",
       "    <tr>\n",
       "      <th>816</th>\n",
       "      <td>Zanrush</td>\n",
       "      <td>Muñe Zaldrīzoti dīntis. jemot jittas, jorrāeli...</td>\n",
       "    </tr>\n",
       "  </tbody>\n",
       "</table>\n",
       "<p>817 rows × 2 columns</p>\n",
       "</div>"
      ],
      "text/plain": [
       "                    name                                               text\n",
       "0         Addam Marbrand  Is Renly? Stannis about and it true. No We We ...\n",
       "1          Adrack Humble  If Is here? it live? on paper says that this w...\n",
       "2          Aeron Greyjoy  Balon Feed Lord, Pull ancestors and back benea...\n",
       "3                   Akho  Hannavenaki Majin Me avvirsae hannaveneesi, il...\n",
       "4         Alliser Thorne  Do Grenn, If Lord Ned Pyp. Snow Stark's a a ar...\n",
       "..                   ...                                                ...\n",
       "812  Young Rodrik Cassel                          Give Ned. another go, him\n",
       "813         Yunkai Child                                             Mhysa!\n",
       "814         Yunkai Crowd  Mhysa! Mhysa! Mhysa! Mhysa! Mhysa!. Mhysa! Mhy...\n",
       "815           Yunkai Man                                             Mhysa!\n",
       "816              Zanrush  Muñe Zaldrīzoti dīntis. jemot jittas, jorrāeli...\n",
       "\n",
       "[817 rows x 2 columns]"
      ]
     },
     "execution_count": 106,
     "metadata": {},
     "output_type": "execute_result"
    }
   ],
   "source": [
    "dq = pd.DataFrame(dq)\n",
    "dq"
   ]
  },
  {
   "cell_type": "code",
   "execution_count": 107,
   "id": "2805daf9",
   "metadata": {},
   "outputs": [
    {
     "data": {
      "text/plain": [
       "817"
      ]
     },
     "execution_count": 107,
     "metadata": {},
     "output_type": "execute_result"
    }
   ],
   "source": [
    "len(dq)"
   ]
  },
  {
   "cell_type": "code",
   "execution_count": 108,
   "id": "afec5096",
   "metadata": {},
   "outputs": [
    {
     "data": {
      "text/html": [
       "<div>\n",
       "<style scoped>\n",
       "    .dataframe tbody tr th:only-of-type {\n",
       "        vertical-align: middle;\n",
       "    }\n",
       "\n",
       "    .dataframe tbody tr th {\n",
       "        vertical-align: top;\n",
       "    }\n",
       "\n",
       "    .dataframe thead th {\n",
       "        text-align: right;\n",
       "    }\n",
       "</style>\n",
       "<table border=\"1\" class=\"dataframe\">\n",
       "  <thead>\n",
       "    <tr style=\"text-align: right;\">\n",
       "      <th></th>\n",
       "      <th>name</th>\n",
       "      <th>text</th>\n",
       "      <th>word_count</th>\n",
       "    </tr>\n",
       "  </thead>\n",
       "  <tbody>\n",
       "    <tr>\n",
       "      <th>0</th>\n",
       "      <td>Addam Marbrand</td>\n",
       "      <td>Is Renly? Stannis about and it true. No We We ...</td>\n",
       "      <td>22</td>\n",
       "    </tr>\n",
       "    <tr>\n",
       "      <th>1</th>\n",
       "      <td>Adrack Humble</td>\n",
       "      <td>If Is here? it live? on paper says that this w...</td>\n",
       "      <td>14</td>\n",
       "    </tr>\n",
       "    <tr>\n",
       "      <th>2</th>\n",
       "      <td>Aeron Greyjoy</td>\n",
       "      <td>Balon Feed Lord, Pull ancestors and back benea...</td>\n",
       "      <td>206</td>\n",
       "    </tr>\n",
       "    <tr>\n",
       "      <th>3</th>\n",
       "      <td>Akho</td>\n",
       "      <td>Hannavenaki Majin Me avvirsae hannaveneesi, il...</td>\n",
       "      <td>69</td>\n",
       "    </tr>\n",
       "    <tr>\n",
       "      <th>4</th>\n",
       "      <td>Alliser Thorne</td>\n",
       "      <td>Do Grenn, If Lord Ned Pyp. Snow Stark's a a ar...</td>\n",
       "      <td>1881</td>\n",
       "    </tr>\n",
       "    <tr>\n",
       "      <th>...</th>\n",
       "      <td>...</td>\n",
       "      <td>...</td>\n",
       "      <td>...</td>\n",
       "    </tr>\n",
       "    <tr>\n",
       "      <th>812</th>\n",
       "      <td>Young Rodrik Cassel</td>\n",
       "      <td>Give Ned. another go, him</td>\n",
       "      <td>5</td>\n",
       "    </tr>\n",
       "    <tr>\n",
       "      <th>813</th>\n",
       "      <td>Yunkai Child</td>\n",
       "      <td>Mhysa!</td>\n",
       "      <td>1</td>\n",
       "    </tr>\n",
       "    <tr>\n",
       "      <th>814</th>\n",
       "      <td>Yunkai Crowd</td>\n",
       "      <td>Mhysa! Mhysa! Mhysa! Mhysa! Mhysa!. Mhysa! Mhy...</td>\n",
       "      <td>20</td>\n",
       "    </tr>\n",
       "    <tr>\n",
       "      <th>815</th>\n",
       "      <td>Yunkai Man</td>\n",
       "      <td>Mhysa!</td>\n",
       "      <td>1</td>\n",
       "    </tr>\n",
       "    <tr>\n",
       "      <th>816</th>\n",
       "      <td>Zanrush</td>\n",
       "      <td>Muñe Zaldrīzoti dīntis. jemot jittas, jorrāeli...</td>\n",
       "      <td>72</td>\n",
       "    </tr>\n",
       "  </tbody>\n",
       "</table>\n",
       "<p>817 rows × 3 columns</p>\n",
       "</div>"
      ],
      "text/plain": [
       "                    name                                               text  \\\n",
       "0         Addam Marbrand  Is Renly? Stannis about and it true. No We We ...   \n",
       "1          Adrack Humble  If Is here? it live? on paper says that this w...   \n",
       "2          Aeron Greyjoy  Balon Feed Lord, Pull ancestors and back benea...   \n",
       "3                   Akho  Hannavenaki Majin Me avvirsae hannaveneesi, il...   \n",
       "4         Alliser Thorne  Do Grenn, If Lord Ned Pyp. Snow Stark's a a ar...   \n",
       "..                   ...                                                ...   \n",
       "812  Young Rodrik Cassel                          Give Ned. another go, him   \n",
       "813         Yunkai Child                                             Mhysa!   \n",
       "814         Yunkai Crowd  Mhysa! Mhysa! Mhysa! Mhysa! Mhysa!. Mhysa! Mhy...   \n",
       "815           Yunkai Man                                             Mhysa!   \n",
       "816              Zanrush  Muñe Zaldrīzoti dīntis. jemot jittas, jorrāeli...   \n",
       "\n",
       "     word_count  \n",
       "0            22  \n",
       "1            14  \n",
       "2           206  \n",
       "3            69  \n",
       "4          1881  \n",
       "..          ...  \n",
       "812           5  \n",
       "813           1  \n",
       "814          20  \n",
       "815           1  \n",
       "816          72  \n",
       "\n",
       "[817 rows x 3 columns]"
      ]
     },
     "execution_count": 108,
     "metadata": {},
     "output_type": "execute_result"
    }
   ],
   "source": [
    "dq['word_count'] = dq['text'].str.split().str.len()\n",
    "dq"
   ]
  },
  {
   "cell_type": "code",
   "execution_count": 109,
   "id": "30d7e12c",
   "metadata": {},
   "outputs": [
    {
     "data": {
      "text/plain": [
       "name                                           Tyrion Lannister\n",
       "text          It Mmh. Northern about girls. is say the they ...\n",
       "word_count                                                27625\n",
       "Name: 694, dtype: object"
      ]
     },
     "execution_count": 109,
     "metadata": {},
     "output_type": "execute_result"
    }
   ],
   "source": [
    "dq.loc[dq['word_count'].idxmax()]"
   ]
  },
  {
   "cell_type": "code",
   "execution_count": 114,
   "id": "ca3f4beb",
   "metadata": {},
   "outputs": [
    {
     "data": {
      "text/plain": [
       "(95, 3)"
      ]
     },
     "execution_count": 114,
     "metadata": {},
     "output_type": "execute_result"
    }
   ],
   "source": [
    "dq = dq.sort_values(by= 'word_count',ascending = False)\n",
    "dq = dq[dq['word_count'] > 500]\n",
    "dq.shape\n"
   ]
  },
  {
   "cell_type": "code",
   "execution_count": 117,
   "id": "2345ffb6",
   "metadata": {},
   "outputs": [
    {
     "data": {
      "text/html": [
       "<div>\n",
       "<style scoped>\n",
       "    .dataframe tbody tr th:only-of-type {\n",
       "        vertical-align: middle;\n",
       "    }\n",
       "\n",
       "    .dataframe tbody tr th {\n",
       "        vertical-align: top;\n",
       "    }\n",
       "\n",
       "    .dataframe thead th {\n",
       "        text-align: right;\n",
       "    }\n",
       "</style>\n",
       "<table border=\"1\" class=\"dataframe\">\n",
       "  <thead>\n",
       "    <tr style=\"text-align: right;\">\n",
       "      <th></th>\n",
       "      <th>name</th>\n",
       "      <th>text</th>\n",
       "      <th>word_count</th>\n",
       "    </tr>\n",
       "  </thead>\n",
       "  <tbody>\n",
       "    <tr>\n",
       "      <th>694</th>\n",
       "      <td>Tyrion Lannister</td>\n",
       "      <td>It Mmh. Northern about girls. is say the they ...</td>\n",
       "      <td>27625</td>\n",
       "    </tr>\n",
       "    <tr>\n",
       "      <th>79</th>\n",
       "      <td>Cersei Lannister</td>\n",
       "      <td>And And Casterly One Rock. When about afraid. ...</td>\n",
       "      <td>15234</td>\n",
       "    </tr>\n",
       "    <tr>\n",
       "      <th>225</th>\n",
       "      <td>Jon Snow</td>\n",
       "      <td>Father's Go on. watching.. And mother. your. B...</td>\n",
       "      <td>12591</td>\n",
       "    </tr>\n",
       "    <tr>\n",
       "      <th>98</th>\n",
       "      <td>Daenerys Targaryen</td>\n",
       "      <td>We've a and anything. asked been for for guest...</td>\n",
       "      <td>12218</td>\n",
       "    </tr>\n",
       "    <tr>\n",
       "      <th>217</th>\n",
       "      <td>Jaime Lannister</td>\n",
       "      <td>As I It's brother, duty feel it's much. my sho...</td>\n",
       "      <td>11728</td>\n",
       "    </tr>\n",
       "    <tr>\n",
       "      <th>...</th>\n",
       "      <td>...</td>\n",
       "      <td>...</td>\n",
       "      <td>...</td>\n",
       "    </tr>\n",
       "    <tr>\n",
       "      <th>393</th>\n",
       "      <td>Lyanna Mormont</td>\n",
       "      <td>Bear Island. Welcome to. I My Robb. She She a ...</td>\n",
       "      <td>565</td>\n",
       "    </tr>\n",
       "    <tr>\n",
       "      <th>804</th>\n",
       "      <td>Yohn Royce</td>\n",
       "      <td>Baelish?. You blood, don't foreign have you,. ...</td>\n",
       "      <td>538</td>\n",
       "    </tr>\n",
       "    <tr>\n",
       "      <th>111</th>\n",
       "      <td>Doreah</td>\n",
       "      <td>Khaleesi!. A Qarth come dragons from from me m...</td>\n",
       "      <td>529</td>\n",
       "    </tr>\n",
       "    <tr>\n",
       "      <th>110</th>\n",
       "      <td>Doran Martell</td>\n",
       "      <td>Captain. Let her pass.. By Oberyn a by combat....</td>\n",
       "      <td>526</td>\n",
       "    </tr>\n",
       "    <tr>\n",
       "      <th>452</th>\n",
       "      <td>Myranda</td>\n",
       "      <td>Shh.. Shh shh shh.. So about did it. lied only...</td>\n",
       "      <td>512</td>\n",
       "    </tr>\n",
       "  </tbody>\n",
       "</table>\n",
       "<p>95 rows × 3 columns</p>\n",
       "</div>"
      ],
      "text/plain": [
       "                   name                                               text  \\\n",
       "694    Tyrion Lannister  It Mmh. Northern about girls. is say the they ...   \n",
       "79     Cersei Lannister  And And Casterly One Rock. When about afraid. ...   \n",
       "225            Jon Snow  Father's Go on. watching.. And mother. your. B...   \n",
       "98   Daenerys Targaryen  We've a and anything. asked been for for guest...   \n",
       "217     Jaime Lannister  As I It's brother, duty feel it's much. my sho...   \n",
       "..                  ...                                                ...   \n",
       "393      Lyanna Mormont  Bear Island. Welcome to. I My Robb. She She a ...   \n",
       "804          Yohn Royce  Baelish?. You blood, don't foreign have you,. ...   \n",
       "111              Doreah  Khaleesi!. A Qarth come dragons from from me m...   \n",
       "110       Doran Martell  Captain. Let her pass.. By Oberyn a by combat....   \n",
       "452             Myranda  Shh.. Shh shh shh.. So about did it. lied only...   \n",
       "\n",
       "     word_count  \n",
       "694       27625  \n",
       "79        15234  \n",
       "225       12591  \n",
       "98        12218  \n",
       "217       11728  \n",
       "..          ...  \n",
       "393         565  \n",
       "804         538  \n",
       "111         529  \n",
       "110         526  \n",
       "452         512  \n",
       "\n",
       "[95 rows x 3 columns]"
      ]
     },
     "execution_count": 117,
     "metadata": {},
     "output_type": "execute_result"
    }
   ],
   "source": [
    "dq "
   ]
  },
  {
   "cell_type": "markdown",
   "id": "0e76d9ea",
   "metadata": {},
   "source": [
    "For every character is the words they have said , so we have convert \n",
    "there words in vectors. Bag of words techique- unique words and\n",
    "no of times it used by these character will become like a vector\n",
    "and vector which are near to each other will have same personlity \n"
   ]
  },
  {
   "cell_type": "code",
   "execution_count": 116,
   "id": "21e0ff1d",
   "metadata": {},
   "outputs": [],
   "source": [
    "from sklearn.feature_extraction.text import CountVectorizer\n",
    "cv = CountVectorizer(stop_words = 'english')# remove stop words like \n",
    "#the a an ets - built in list of english words"
   ]
  },
  {
   "cell_type": "code",
   "execution_count": 118,
   "id": "08cc807c",
   "metadata": {},
   "outputs": [],
   "source": [
    "embeddings = cv.fit_transform(dq['text']).toarray()"
   ]
  },
  {
   "cell_type": "code",
   "execution_count": 119,
   "id": "9f27ea2b",
   "metadata": {},
   "outputs": [
    {
     "data": {
      "text/plain": [
       "(95, 9466)"
      ]
     },
     "execution_count": 119,
     "metadata": {},
     "output_type": "execute_result"
    }
   ],
   "source": [
    "embeddings.shape"
   ]
  },
  {
   "cell_type": "code",
   "execution_count": 121,
   "id": "fc4f0264",
   "metadata": {},
   "outputs": [],
   "source": [
    "embeddings = embeddings.astype('float64')"
   ]
  },
  {
   "cell_type": "code",
   "execution_count": 122,
   "id": "992f009c",
   "metadata": {},
   "outputs": [],
   "source": [
    "from sklearn.manifold import TSNE"
   ]
  },
  {
   "cell_type": "code",
   "execution_count": 123,
   "id": "1f22c9bc",
   "metadata": {},
   "outputs": [
    {
     "name": "stderr",
     "output_type": "stream",
     "text": [
      "2024-07-12 16:57:26,530 [10069] WARNING  py.warnings:109: [JupyterRequire] /opt/anaconda3/lib/python3.9/site-packages/sklearn/manifold/_t_sne.py:780: FutureWarning: The default initialization in TSNE will change from 'random' to 'pca' in 1.2.\n",
      "  warnings.warn(\n",
      "\n",
      "2024-07-12 16:57:26,532 [10069] WARNING  py.warnings:109: [JupyterRequire] /opt/anaconda3/lib/python3.9/site-packages/sklearn/manifold/_t_sne.py:790: FutureWarning: The default learning rate in TSNE will change from 200.0 to 'auto' in 1.2.\n",
      "  warnings.warn(\n",
      "\n"
     ]
    },
    {
     "name": "stdout",
     "output_type": "stream",
     "text": [
      "[t-SNE] Computing 91 nearest neighbors...\n",
      "[t-SNE] Indexed 95 samples in 0.001s...\n",
      "[t-SNE] Computed neighbors for 95 samples in 0.019s...\n",
      "[t-SNE] Computed conditional probabilities for sample 95 / 95\n",
      "[t-SNE] Mean sigma: 16.826573\n",
      "[t-SNE] KL divergence after 250 iterations with early exaggeration: 58.264935\n",
      "[t-SNE] KL divergence after 1000 iterations: 0.257563\n"
     ]
    }
   ],
   "source": [
    "tsne = TSNE(n_components = 2, verbose = 1, random_state= 123)\n",
    "z = tsne.fit_transform(embeddings)\n"
   ]
  },
  {
   "cell_type": "code",
   "execution_count": 125,
   "id": "5b44cefc",
   "metadata": {},
   "outputs": [
    {
     "data": {
      "text/plain": [
       "(95, 2)"
      ]
     },
     "execution_count": 125,
     "metadata": {},
     "output_type": "execute_result"
    }
   ],
   "source": [
    "z.shape"
   ]
  },
  {
   "cell_type": "code",
   "execution_count": 126,
   "id": "0b8ee52b",
   "metadata": {},
   "outputs": [],
   "source": [
    "dq['x']= z.T[0]\n",
    "dq['y']= z.T[1]"
   ]
  },
  {
   "cell_type": "code",
   "execution_count": 127,
   "id": "4ddb031f",
   "metadata": {},
   "outputs": [
    {
     "data": {
      "text/html": [
       "<div>\n",
       "<style scoped>\n",
       "    .dataframe tbody tr th:only-of-type {\n",
       "        vertical-align: middle;\n",
       "    }\n",
       "\n",
       "    .dataframe tbody tr th {\n",
       "        vertical-align: top;\n",
       "    }\n",
       "\n",
       "    .dataframe thead th {\n",
       "        text-align: right;\n",
       "    }\n",
       "</style>\n",
       "<table border=\"1\" class=\"dataframe\">\n",
       "  <thead>\n",
       "    <tr style=\"text-align: right;\">\n",
       "      <th></th>\n",
       "      <th>name</th>\n",
       "      <th>text</th>\n",
       "      <th>word_count</th>\n",
       "      <th>x</th>\n",
       "      <th>y</th>\n",
       "    </tr>\n",
       "  </thead>\n",
       "  <tbody>\n",
       "    <tr>\n",
       "      <th>694</th>\n",
       "      <td>Tyrion Lannister</td>\n",
       "      <td>It Mmh. Northern about girls. is say the they ...</td>\n",
       "      <td>27625</td>\n",
       "      <td>7.323552</td>\n",
       "      <td>-0.609105</td>\n",
       "    </tr>\n",
       "    <tr>\n",
       "      <th>79</th>\n",
       "      <td>Cersei Lannister</td>\n",
       "      <td>And And Casterly One Rock. When about afraid. ...</td>\n",
       "      <td>15234</td>\n",
       "      <td>7.077956</td>\n",
       "      <td>-0.528232</td>\n",
       "    </tr>\n",
       "    <tr>\n",
       "      <th>225</th>\n",
       "      <td>Jon Snow</td>\n",
       "      <td>Father's Go on. watching.. And mother. your. B...</td>\n",
       "      <td>12591</td>\n",
       "      <td>6.902337</td>\n",
       "      <td>-0.609403</td>\n",
       "    </tr>\n",
       "    <tr>\n",
       "      <th>98</th>\n",
       "      <td>Daenerys Targaryen</td>\n",
       "      <td>We've a and anything. asked been for for guest...</td>\n",
       "      <td>12218</td>\n",
       "      <td>6.765988</td>\n",
       "      <td>0.245763</td>\n",
       "    </tr>\n",
       "    <tr>\n",
       "      <th>217</th>\n",
       "      <td>Jaime Lannister</td>\n",
       "      <td>As I It's brother, duty feel it's much. my sho...</td>\n",
       "      <td>11728</td>\n",
       "      <td>6.868314</td>\n",
       "      <td>-0.513678</td>\n",
       "    </tr>\n",
       "    <tr>\n",
       "      <th>...</th>\n",
       "      <td>...</td>\n",
       "      <td>...</td>\n",
       "      <td>...</td>\n",
       "      <td>...</td>\n",
       "      <td>...</td>\n",
       "    </tr>\n",
       "    <tr>\n",
       "      <th>393</th>\n",
       "      <td>Lyanna Mormont</td>\n",
       "      <td>Bear Island. Welcome to. I My Robb. She She a ...</td>\n",
       "      <td>565</td>\n",
       "      <td>0.401460</td>\n",
       "      <td>0.332010</td>\n",
       "    </tr>\n",
       "    <tr>\n",
       "      <th>804</th>\n",
       "      <td>Yohn Royce</td>\n",
       "      <td>Baelish?. You blood, don't foreign have you,. ...</td>\n",
       "      <td>538</td>\n",
       "      <td>0.832308</td>\n",
       "      <td>1.159280</td>\n",
       "    </tr>\n",
       "    <tr>\n",
       "      <th>111</th>\n",
       "      <td>Doreah</td>\n",
       "      <td>Khaleesi!. A Qarth come dragons from from me m...</td>\n",
       "      <td>529</td>\n",
       "      <td>0.133549</td>\n",
       "      <td>2.018600</td>\n",
       "    </tr>\n",
       "    <tr>\n",
       "      <th>110</th>\n",
       "      <td>Doran Martell</td>\n",
       "      <td>Captain. Let her pass.. By Oberyn a by combat....</td>\n",
       "      <td>526</td>\n",
       "      <td>0.875635</td>\n",
       "      <td>1.353525</td>\n",
       "    </tr>\n",
       "    <tr>\n",
       "      <th>452</th>\n",
       "      <td>Myranda</td>\n",
       "      <td>Shh.. Shh shh shh.. So about did it. lied only...</td>\n",
       "      <td>512</td>\n",
       "      <td>1.037694</td>\n",
       "      <td>1.502563</td>\n",
       "    </tr>\n",
       "  </tbody>\n",
       "</table>\n",
       "<p>95 rows × 5 columns</p>\n",
       "</div>"
      ],
      "text/plain": [
       "                   name                                               text  \\\n",
       "694    Tyrion Lannister  It Mmh. Northern about girls. is say the they ...   \n",
       "79     Cersei Lannister  And And Casterly One Rock. When about afraid. ...   \n",
       "225            Jon Snow  Father's Go on. watching.. And mother. your. B...   \n",
       "98   Daenerys Targaryen  We've a and anything. asked been for for guest...   \n",
       "217     Jaime Lannister  As I It's brother, duty feel it's much. my sho...   \n",
       "..                  ...                                                ...   \n",
       "393      Lyanna Mormont  Bear Island. Welcome to. I My Robb. She She a ...   \n",
       "804          Yohn Royce  Baelish?. You blood, don't foreign have you,. ...   \n",
       "111              Doreah  Khaleesi!. A Qarth come dragons from from me m...   \n",
       "110       Doran Martell  Captain. Let her pass.. By Oberyn a by combat....   \n",
       "452             Myranda  Shh.. Shh shh shh.. So about did it. lied only...   \n",
       "\n",
       "     word_count         x         y  \n",
       "694       27625  7.323552 -0.609105  \n",
       "79        15234  7.077956 -0.528232  \n",
       "225       12591  6.902337 -0.609403  \n",
       "98        12218  6.765988  0.245763  \n",
       "217       11728  6.868314 -0.513678  \n",
       "..          ...       ...       ...  \n",
       "393         565  0.401460  0.332010  \n",
       "804         538  0.832308  1.159280  \n",
       "111         529  0.133549  2.018600  \n",
       "110         526  0.875635  1.353525  \n",
       "452         512  1.037694  1.502563  \n",
       "\n",
       "[95 rows x 5 columns]"
      ]
     },
     "execution_count": 127,
     "metadata": {},
     "output_type": "execute_result"
    }
   ],
   "source": [
    "dq"
   ]
  },
  {
   "cell_type": "code",
   "execution_count": 131,
   "id": "f8bd2ae1",
   "metadata": {},
   "outputs": [
    {
     "data": {
      "application/vnd.plotly.v1+json": {
       "config": {
        "plotlyServerURL": "https://plot.ly"
       },
       "data": [
        {
         "hovertemplate": "name=%{text}<br>x=%{x}<br>y=%{y}<extra></extra>",
         "legendgroup": "Tyrion Lannister",
         "marker": {
          "color": "#636efa",
          "symbol": "circle"
         },
         "mode": "markers+text",
         "name": "Tyrion Lannister",
         "orientation": "v",
         "showlegend": true,
         "text": [
          "Tyrion Lannister"
         ],
         "type": "scatter",
         "x": [
          7.323551654815674
         ],
         "xaxis": "x",
         "y": [
          -0.609104573726654
         ],
         "yaxis": "y"
        },
        {
         "hovertemplate": "name=%{text}<br>x=%{x}<br>y=%{y}<extra></extra>",
         "legendgroup": "Cersei Lannister",
         "marker": {
          "color": "#EF553B",
          "symbol": "circle"
         },
         "mode": "markers+text",
         "name": "Cersei Lannister",
         "orientation": "v",
         "showlegend": true,
         "text": [
          "Cersei Lannister"
         ],
         "type": "scatter",
         "x": [
          7.077955722808838
         ],
         "xaxis": "x",
         "y": [
          -0.5282318592071533
         ],
         "yaxis": "y"
        },
        {
         "hovertemplate": "name=%{text}<br>x=%{x}<br>y=%{y}<extra></extra>",
         "legendgroup": "Jon Snow",
         "marker": {
          "color": "#00cc96",
          "symbol": "circle"
         },
         "mode": "markers+text",
         "name": "Jon Snow",
         "orientation": "v",
         "showlegend": true,
         "text": [
          "Jon Snow"
         ],
         "type": "scatter",
         "x": [
          6.902337074279785
         ],
         "xaxis": "x",
         "y": [
          -0.6094028353691101
         ],
         "yaxis": "y"
        },
        {
         "hovertemplate": "name=%{text}<br>x=%{x}<br>y=%{y}<extra></extra>",
         "legendgroup": "Daenerys Targaryen",
         "marker": {
          "color": "#ab63fa",
          "symbol": "circle"
         },
         "mode": "markers+text",
         "name": "Daenerys Targaryen",
         "orientation": "v",
         "showlegend": true,
         "text": [
          "Daenerys Targaryen"
         ],
         "type": "scatter",
         "x": [
          6.765987873077393
         ],
         "xaxis": "x",
         "y": [
          0.2457628697156906
         ],
         "yaxis": "y"
        },
        {
         "hovertemplate": "name=%{text}<br>x=%{x}<br>y=%{y}<extra></extra>",
         "legendgroup": "Jaime Lannister",
         "marker": {
          "color": "#FFA15A",
          "symbol": "circle"
         },
         "mode": "markers+text",
         "name": "Jaime Lannister",
         "orientation": "v",
         "showlegend": true,
         "text": [
          "Jaime Lannister"
         ],
         "type": "scatter",
         "x": [
          6.868313789367676
         ],
         "xaxis": "x",
         "y": [
          -0.513677716255188
         ],
         "yaxis": "y"
        },
        {
         "hovertemplate": "name=%{text}<br>x=%{x}<br>y=%{y}<extra></extra>",
         "legendgroup": "Sansa Stark",
         "marker": {
          "color": "#19d3f3",
          "symbol": "circle"
         },
         "mode": "markers+text",
         "name": "Sansa Stark",
         "orientation": "v",
         "showlegend": true,
         "text": [
          "Sansa Stark"
         ],
         "type": "scatter",
         "x": [
          6.55409049987793
         ],
         "xaxis": "x",
         "y": [
          -0.3567470908164978
         ],
         "yaxis": "y"
        },
        {
         "hovertemplate": "name=%{text}<br>x=%{x}<br>y=%{y}<extra></extra>",
         "legendgroup": "Petyr Baelish",
         "marker": {
          "color": "#FF6692",
          "symbol": "circle"
         },
         "mode": "markers+text",
         "name": "Petyr Baelish",
         "orientation": "v",
         "showlegend": true,
         "text": [
          "Petyr Baelish"
         ],
         "type": "scatter",
         "x": [
          6.363088607788086
         ],
         "xaxis": "x",
         "y": [
          0.10250448435544968
         ],
         "yaxis": "y"
        },
        {
         "hovertemplate": "name=%{text}<br>x=%{x}<br>y=%{y}<extra></extra>",
         "legendgroup": "Lord Varys",
         "marker": {
          "color": "#B6E880",
          "symbol": "circle"
         },
         "mode": "markers+text",
         "name": "Lord Varys",
         "orientation": "v",
         "showlegend": true,
         "text": [
          "Lord Varys"
         ],
         "type": "scatter",
         "x": [
          6.268197536468506
         ],
         "xaxis": "x",
         "y": [
          0.23918840289115906
         ],
         "yaxis": "y"
        },
        {
         "hovertemplate": "name=%{text}<br>x=%{x}<br>y=%{y}<extra></extra>",
         "legendgroup": "Samwell Tarly",
         "marker": {
          "color": "#FF97FF",
          "symbol": "circle"
         },
         "mode": "markers+text",
         "name": "Samwell Tarly",
         "orientation": "v",
         "showlegend": true,
         "text": [
          "Samwell Tarly"
         ],
         "type": "scatter",
         "x": [
          5.52813720703125
         ],
         "xaxis": "x",
         "y": [
          -0.4262411594390869
         ],
         "yaxis": "y"
        },
        {
         "hovertemplate": "name=%{text}<br>x=%{x}<br>y=%{y}<extra></extra>",
         "legendgroup": "Davos Seaworth",
         "marker": {
          "color": "#FECB52",
          "symbol": "circle"
         },
         "mode": "markers+text",
         "name": "Davos Seaworth",
         "orientation": "v",
         "showlegend": true,
         "text": [
          "Davos Seaworth"
         ],
         "type": "scatter",
         "x": [
          6.0015740394592285
         ],
         "xaxis": "x",
         "y": [
          0.360182523727417
         ],
         "yaxis": "y"
        },
        {
         "hovertemplate": "name=%{text}<br>x=%{x}<br>y=%{y}<extra></extra>",
         "legendgroup": "Arya Stark",
         "marker": {
          "color": "#636efa",
          "symbol": "circle"
         },
         "mode": "markers+text",
         "name": "Arya Stark",
         "orientation": "v",
         "showlegend": true,
         "text": [
          "Arya Stark"
         ],
         "type": "scatter",
         "x": [
          5.867990493774414
         ],
         "xaxis": "x",
         "y": [
          -0.9455272555351257
         ],
         "yaxis": "y"
        },
        {
         "hovertemplate": "name=%{text}<br>x=%{x}<br>y=%{y}<extra></extra>",
         "legendgroup": "Tywin Lannister",
         "marker": {
          "color": "#EF553B",
          "symbol": "circle"
         },
         "mode": "markers+text",
         "name": "Tywin Lannister",
         "orientation": "v",
         "showlegend": true,
         "text": [
          "Tywin Lannister"
         ],
         "type": "scatter",
         "x": [
          5.363423824310303
         ],
         "xaxis": "x",
         "y": [
          0.6329333186149597
         ],
         "yaxis": "y"
        },
        {
         "hovertemplate": "name=%{text}<br>x=%{x}<br>y=%{y}<extra></extra>",
         "legendgroup": "Theon Greyjoy",
         "marker": {
          "color": "#00cc96",
          "symbol": "circle"
         },
         "mode": "markers+text",
         "name": "Theon Greyjoy",
         "orientation": "v",
         "showlegend": true,
         "text": [
          "Theon Greyjoy"
         ],
         "type": "scatter",
         "x": [
          5.602250576019287
         ],
         "xaxis": "x",
         "y": [
          -0.1342131793498993
         ],
         "yaxis": "y"
        },
        {
         "hovertemplate": "name=%{text}<br>x=%{x}<br>y=%{y}<extra></extra>",
         "legendgroup": "Jorah Mormont",
         "marker": {
          "color": "#ab63fa",
          "symbol": "circle"
         },
         "mode": "markers+text",
         "name": "Jorah Mormont",
         "orientation": "v",
         "showlegend": true,
         "text": [
          "Jorah Mormont"
         ],
         "type": "scatter",
         "x": [
          5.182316780090332
         ],
         "xaxis": "x",
         "y": [
          1.7023999691009521
         ],
         "yaxis": "y"
        },
        {
         "hovertemplate": "name=%{text}<br>x=%{x}<br>y=%{y}<extra></extra>",
         "legendgroup": "Bronn",
         "marker": {
          "color": "#FFA15A",
          "symbol": "circle"
         },
         "mode": "markers+text",
         "name": "Bronn",
         "orientation": "v",
         "showlegend": true,
         "text": [
          "Bronn"
         ],
         "type": "scatter",
         "x": [
          5.264491558074951
         ],
         "xaxis": "x",
         "y": [
          -1.2309515476226807
         ],
         "yaxis": "y"
        },
        {
         "hovertemplate": "name=%{text}<br>x=%{x}<br>y=%{y}<extra></extra>",
         "legendgroup": "Brienne of Tarth",
         "marker": {
          "color": "#19d3f3",
          "symbol": "circle"
         },
         "mode": "markers+text",
         "name": "Brienne of Tarth",
         "orientation": "v",
         "showlegend": true,
         "text": [
          "Brienne of Tarth"
         ],
         "type": "scatter",
         "x": [
          4.372908592224121
         ],
         "xaxis": "x",
         "y": [
          -0.684630274772644
         ],
         "yaxis": "y"
        },
        {
         "hovertemplate": "name=%{text}<br>x=%{x}<br>y=%{y}<extra></extra>",
         "legendgroup": "Sandor Clegane",
         "marker": {
          "color": "#FF6692",
          "symbol": "circle"
         },
         "mode": "markers+text",
         "name": "Sandor Clegane",
         "orientation": "v",
         "showlegend": true,
         "text": [
          "Sandor Clegane"
         ],
         "type": "scatter",
         "x": [
          5.262269020080566
         ],
         "xaxis": "x",
         "y": [
          -1.2696682214736938
         ],
         "yaxis": "y"
        },
        {
         "hovertemplate": "name=%{text}<br>x=%{x}<br>y=%{y}<extra></extra>",
         "legendgroup": "Olenna Tyrell",
         "marker": {
          "color": "#B6E880",
          "symbol": "circle"
         },
         "mode": "markers+text",
         "name": "Olenna Tyrell",
         "orientation": "v",
         "showlegend": true,
         "text": [
          "Olenna Tyrell"
         ],
         "type": "scatter",
         "x": [
          3.6819632053375244
         ],
         "xaxis": "x",
         "y": [
          -0.03149748966097832
         ],
         "yaxis": "y"
        },
        {
         "hovertemplate": "name=%{text}<br>x=%{x}<br>y=%{y}<extra></extra>",
         "legendgroup": "Robb Stark",
         "marker": {
          "color": "#FF97FF",
          "symbol": "circle"
         },
         "mode": "markers+text",
         "name": "Robb Stark",
         "orientation": "v",
         "showlegend": true,
         "text": [
          "Robb Stark"
         ],
         "type": "scatter",
         "x": [
          5.231531143188477
         ],
         "xaxis": "x",
         "y": [
          0.17373375594615936
         ],
         "yaxis": "y"
        },
        {
         "hovertemplate": "name=%{text}<br>x=%{x}<br>y=%{y}<extra></extra>",
         "legendgroup": "Stannis Baratheon",
         "marker": {
          "color": "#FECB52",
          "symbol": "circle"
         },
         "mode": "markers+text",
         "name": "Stannis Baratheon",
         "orientation": "v",
         "showlegend": true,
         "text": [
          "Stannis Baratheon"
         ],
         "type": "scatter",
         "x": [
          5.051855087280273
         ],
         "xaxis": "x",
         "y": [
          0.758755624294281
         ],
         "yaxis": "y"
        },
        {
         "hovertemplate": "name=%{text}<br>x=%{x}<br>y=%{y}<extra></extra>",
         "legendgroup": "Margaery Tyrell",
         "marker": {
          "color": "#636efa",
          "symbol": "circle"
         },
         "mode": "markers+text",
         "name": "Margaery Tyrell",
         "orientation": "v",
         "showlegend": true,
         "text": [
          "Margaery Tyrell"
         ],
         "type": "scatter",
         "x": [
          3.4468116760253906
         ],
         "xaxis": "x",
         "y": [
          -0.8014363050460815
         ],
         "yaxis": "y"
        },
        {
         "hovertemplate": "name=%{text}<br>x=%{x}<br>y=%{y}<extra></extra>",
         "legendgroup": "Eddard Stark",
         "marker": {
          "color": "#EF553B",
          "symbol": "circle"
         },
         "mode": "markers+text",
         "name": "Eddard Stark",
         "orientation": "v",
         "showlegend": true,
         "text": [
          "Eddard Stark"
         ],
         "type": "scatter",
         "x": [
          5.037147521972656
         ],
         "xaxis": "x",
         "y": [
          0.5133876800537109
         ],
         "yaxis": "y"
        },
        {
         "hovertemplate": "name=%{text}<br>x=%{x}<br>y=%{y}<extra></extra>",
         "legendgroup": "Catelyn Stark",
         "marker": {
          "color": "#00cc96",
          "symbol": "circle"
         },
         "mode": "markers+text",
         "name": "Catelyn Stark",
         "orientation": "v",
         "showlegend": true,
         "text": [
          "Catelyn Stark"
         ],
         "type": "scatter",
         "x": [
          4.933671474456787
         ],
         "xaxis": "x",
         "y": [
          0.1884734034538269
         ],
         "yaxis": "y"
        },
        {
         "hovertemplate": "name=%{text}<br>x=%{x}<br>y=%{y}<extra></extra>",
         "legendgroup": "Ramsay Snow",
         "marker": {
          "color": "#ab63fa",
          "symbol": "circle"
         },
         "mode": "markers+text",
         "name": "Ramsay Snow",
         "orientation": "v",
         "showlegend": true,
         "text": [
          "Ramsay Snow"
         ],
         "type": "scatter",
         "x": [
          3.8250672817230225
         ],
         "xaxis": "x",
         "y": [
          0.38751769065856934
         ],
         "yaxis": "y"
        },
        {
         "hovertemplate": "name=%{text}<br>x=%{x}<br>y=%{y}<extra></extra>",
         "legendgroup": "Melisandre",
         "marker": {
          "color": "#FFA15A",
          "symbol": "circle"
         },
         "mode": "markers+text",
         "name": "Melisandre",
         "orientation": "v",
         "showlegend": true,
         "text": [
          "Melisandre"
         ],
         "type": "scatter",
         "x": [
          1.758223056793213
         ],
         "xaxis": "x",
         "y": [
          -1.3314425945281982
         ],
         "yaxis": "y"
        }
       ],
       "layout": {
        "legend": {
         "title": {
          "text": "name"
         },
         "tracegroupgap": 0
        },
        "margin": {
         "t": 60
        },
        "template": {
         "data": {
          "bar": [
           {
            "error_x": {
             "color": "#2a3f5f"
            },
            "error_y": {
             "color": "#2a3f5f"
            },
            "marker": {
             "line": {
              "color": "#E5ECF6",
              "width": 0.5
             },
             "pattern": {
              "fillmode": "overlay",
              "size": 10,
              "solidity": 0.2
             }
            },
            "type": "bar"
           }
          ],
          "barpolar": [
           {
            "marker": {
             "line": {
              "color": "#E5ECF6",
              "width": 0.5
             },
             "pattern": {
              "fillmode": "overlay",
              "size": 10,
              "solidity": 0.2
             }
            },
            "type": "barpolar"
           }
          ],
          "carpet": [
           {
            "aaxis": {
             "endlinecolor": "#2a3f5f",
             "gridcolor": "white",
             "linecolor": "white",
             "minorgridcolor": "white",
             "startlinecolor": "#2a3f5f"
            },
            "baxis": {
             "endlinecolor": "#2a3f5f",
             "gridcolor": "white",
             "linecolor": "white",
             "minorgridcolor": "white",
             "startlinecolor": "#2a3f5f"
            },
            "type": "carpet"
           }
          ],
          "choropleth": [
           {
            "colorbar": {
             "outlinewidth": 0,
             "ticks": ""
            },
            "type": "choropleth"
           }
          ],
          "contour": [
           {
            "colorbar": {
             "outlinewidth": 0,
             "ticks": ""
            },
            "colorscale": [
             [
              0,
              "#0d0887"
             ],
             [
              0.1111111111111111,
              "#46039f"
             ],
             [
              0.2222222222222222,
              "#7201a8"
             ],
             [
              0.3333333333333333,
              "#9c179e"
             ],
             [
              0.4444444444444444,
              "#bd3786"
             ],
             [
              0.5555555555555556,
              "#d8576b"
             ],
             [
              0.6666666666666666,
              "#ed7953"
             ],
             [
              0.7777777777777778,
              "#fb9f3a"
             ],
             [
              0.8888888888888888,
              "#fdca26"
             ],
             [
              1,
              "#f0f921"
             ]
            ],
            "type": "contour"
           }
          ],
          "contourcarpet": [
           {
            "colorbar": {
             "outlinewidth": 0,
             "ticks": ""
            },
            "type": "contourcarpet"
           }
          ],
          "heatmap": [
           {
            "colorbar": {
             "outlinewidth": 0,
             "ticks": ""
            },
            "colorscale": [
             [
              0,
              "#0d0887"
             ],
             [
              0.1111111111111111,
              "#46039f"
             ],
             [
              0.2222222222222222,
              "#7201a8"
             ],
             [
              0.3333333333333333,
              "#9c179e"
             ],
             [
              0.4444444444444444,
              "#bd3786"
             ],
             [
              0.5555555555555556,
              "#d8576b"
             ],
             [
              0.6666666666666666,
              "#ed7953"
             ],
             [
              0.7777777777777778,
              "#fb9f3a"
             ],
             [
              0.8888888888888888,
              "#fdca26"
             ],
             [
              1,
              "#f0f921"
             ]
            ],
            "type": "heatmap"
           }
          ],
          "heatmapgl": [
           {
            "colorbar": {
             "outlinewidth": 0,
             "ticks": ""
            },
            "colorscale": [
             [
              0,
              "#0d0887"
             ],
             [
              0.1111111111111111,
              "#46039f"
             ],
             [
              0.2222222222222222,
              "#7201a8"
             ],
             [
              0.3333333333333333,
              "#9c179e"
             ],
             [
              0.4444444444444444,
              "#bd3786"
             ],
             [
              0.5555555555555556,
              "#d8576b"
             ],
             [
              0.6666666666666666,
              "#ed7953"
             ],
             [
              0.7777777777777778,
              "#fb9f3a"
             ],
             [
              0.8888888888888888,
              "#fdca26"
             ],
             [
              1,
              "#f0f921"
             ]
            ],
            "type": "heatmapgl"
           }
          ],
          "histogram": [
           {
            "marker": {
             "pattern": {
              "fillmode": "overlay",
              "size": 10,
              "solidity": 0.2
             }
            },
            "type": "histogram"
           }
          ],
          "histogram2d": [
           {
            "colorbar": {
             "outlinewidth": 0,
             "ticks": ""
            },
            "colorscale": [
             [
              0,
              "#0d0887"
             ],
             [
              0.1111111111111111,
              "#46039f"
             ],
             [
              0.2222222222222222,
              "#7201a8"
             ],
             [
              0.3333333333333333,
              "#9c179e"
             ],
             [
              0.4444444444444444,
              "#bd3786"
             ],
             [
              0.5555555555555556,
              "#d8576b"
             ],
             [
              0.6666666666666666,
              "#ed7953"
             ],
             [
              0.7777777777777778,
              "#fb9f3a"
             ],
             [
              0.8888888888888888,
              "#fdca26"
             ],
             [
              1,
              "#f0f921"
             ]
            ],
            "type": "histogram2d"
           }
          ],
          "histogram2dcontour": [
           {
            "colorbar": {
             "outlinewidth": 0,
             "ticks": ""
            },
            "colorscale": [
             [
              0,
              "#0d0887"
             ],
             [
              0.1111111111111111,
              "#46039f"
             ],
             [
              0.2222222222222222,
              "#7201a8"
             ],
             [
              0.3333333333333333,
              "#9c179e"
             ],
             [
              0.4444444444444444,
              "#bd3786"
             ],
             [
              0.5555555555555556,
              "#d8576b"
             ],
             [
              0.6666666666666666,
              "#ed7953"
             ],
             [
              0.7777777777777778,
              "#fb9f3a"
             ],
             [
              0.8888888888888888,
              "#fdca26"
             ],
             [
              1,
              "#f0f921"
             ]
            ],
            "type": "histogram2dcontour"
           }
          ],
          "mesh3d": [
           {
            "colorbar": {
             "outlinewidth": 0,
             "ticks": ""
            },
            "type": "mesh3d"
           }
          ],
          "parcoords": [
           {
            "line": {
             "colorbar": {
              "outlinewidth": 0,
              "ticks": ""
             }
            },
            "type": "parcoords"
           }
          ],
          "pie": [
           {
            "automargin": true,
            "type": "pie"
           }
          ],
          "scatter": [
           {
            "fillpattern": {
             "fillmode": "overlay",
             "size": 10,
             "solidity": 0.2
            },
            "type": "scatter"
           }
          ],
          "scatter3d": [
           {
            "line": {
             "colorbar": {
              "outlinewidth": 0,
              "ticks": ""
             }
            },
            "marker": {
             "colorbar": {
              "outlinewidth": 0,
              "ticks": ""
             }
            },
            "type": "scatter3d"
           }
          ],
          "scattercarpet": [
           {
            "marker": {
             "colorbar": {
              "outlinewidth": 0,
              "ticks": ""
             }
            },
            "type": "scattercarpet"
           }
          ],
          "scattergeo": [
           {
            "marker": {
             "colorbar": {
              "outlinewidth": 0,
              "ticks": ""
             }
            },
            "type": "scattergeo"
           }
          ],
          "scattergl": [
           {
            "marker": {
             "colorbar": {
              "outlinewidth": 0,
              "ticks": ""
             }
            },
            "type": "scattergl"
           }
          ],
          "scattermapbox": [
           {
            "marker": {
             "colorbar": {
              "outlinewidth": 0,
              "ticks": ""
             }
            },
            "type": "scattermapbox"
           }
          ],
          "scatterpolar": [
           {
            "marker": {
             "colorbar": {
              "outlinewidth": 0,
              "ticks": ""
             }
            },
            "type": "scatterpolar"
           }
          ],
          "scatterpolargl": [
           {
            "marker": {
             "colorbar": {
              "outlinewidth": 0,
              "ticks": ""
             }
            },
            "type": "scatterpolargl"
           }
          ],
          "scatterternary": [
           {
            "marker": {
             "colorbar": {
              "outlinewidth": 0,
              "ticks": ""
             }
            },
            "type": "scatterternary"
           }
          ],
          "surface": [
           {
            "colorbar": {
             "outlinewidth": 0,
             "ticks": ""
            },
            "colorscale": [
             [
              0,
              "#0d0887"
             ],
             [
              0.1111111111111111,
              "#46039f"
             ],
             [
              0.2222222222222222,
              "#7201a8"
             ],
             [
              0.3333333333333333,
              "#9c179e"
             ],
             [
              0.4444444444444444,
              "#bd3786"
             ],
             [
              0.5555555555555556,
              "#d8576b"
             ],
             [
              0.6666666666666666,
              "#ed7953"
             ],
             [
              0.7777777777777778,
              "#fb9f3a"
             ],
             [
              0.8888888888888888,
              "#fdca26"
             ],
             [
              1,
              "#f0f921"
             ]
            ],
            "type": "surface"
           }
          ],
          "table": [
           {
            "cells": {
             "fill": {
              "color": "#EBF0F8"
             },
             "line": {
              "color": "white"
             }
            },
            "header": {
             "fill": {
              "color": "#C8D4E3"
             },
             "line": {
              "color": "white"
             }
            },
            "type": "table"
           }
          ]
         },
         "layout": {
          "annotationdefaults": {
           "arrowcolor": "#2a3f5f",
           "arrowhead": 0,
           "arrowwidth": 1
          },
          "autotypenumbers": "strict",
          "coloraxis": {
           "colorbar": {
            "outlinewidth": 0,
            "ticks": ""
           }
          },
          "colorscale": {
           "diverging": [
            [
             0,
             "#8e0152"
            ],
            [
             0.1,
             "#c51b7d"
            ],
            [
             0.2,
             "#de77ae"
            ],
            [
             0.3,
             "#f1b6da"
            ],
            [
             0.4,
             "#fde0ef"
            ],
            [
             0.5,
             "#f7f7f7"
            ],
            [
             0.6,
             "#e6f5d0"
            ],
            [
             0.7,
             "#b8e186"
            ],
            [
             0.8,
             "#7fbc41"
            ],
            [
             0.9,
             "#4d9221"
            ],
            [
             1,
             "#276419"
            ]
           ],
           "sequential": [
            [
             0,
             "#0d0887"
            ],
            [
             0.1111111111111111,
             "#46039f"
            ],
            [
             0.2222222222222222,
             "#7201a8"
            ],
            [
             0.3333333333333333,
             "#9c179e"
            ],
            [
             0.4444444444444444,
             "#bd3786"
            ],
            [
             0.5555555555555556,
             "#d8576b"
            ],
            [
             0.6666666666666666,
             "#ed7953"
            ],
            [
             0.7777777777777778,
             "#fb9f3a"
            ],
            [
             0.8888888888888888,
             "#fdca26"
            ],
            [
             1,
             "#f0f921"
            ]
           ],
           "sequentialminus": [
            [
             0,
             "#0d0887"
            ],
            [
             0.1111111111111111,
             "#46039f"
            ],
            [
             0.2222222222222222,
             "#7201a8"
            ],
            [
             0.3333333333333333,
             "#9c179e"
            ],
            [
             0.4444444444444444,
             "#bd3786"
            ],
            [
             0.5555555555555556,
             "#d8576b"
            ],
            [
             0.6666666666666666,
             "#ed7953"
            ],
            [
             0.7777777777777778,
             "#fb9f3a"
            ],
            [
             0.8888888888888888,
             "#fdca26"
            ],
            [
             1,
             "#f0f921"
            ]
           ]
          },
          "colorway": [
           "#636efa",
           "#EF553B",
           "#00cc96",
           "#ab63fa",
           "#FFA15A",
           "#19d3f3",
           "#FF6692",
           "#B6E880",
           "#FF97FF",
           "#FECB52"
          ],
          "font": {
           "color": "#2a3f5f"
          },
          "geo": {
           "bgcolor": "white",
           "lakecolor": "white",
           "landcolor": "#E5ECF6",
           "showlakes": true,
           "showland": true,
           "subunitcolor": "white"
          },
          "hoverlabel": {
           "align": "left"
          },
          "hovermode": "closest",
          "mapbox": {
           "style": "light"
          },
          "paper_bgcolor": "white",
          "plot_bgcolor": "#E5ECF6",
          "polar": {
           "angularaxis": {
            "gridcolor": "white",
            "linecolor": "white",
            "ticks": ""
           },
           "bgcolor": "#E5ECF6",
           "radialaxis": {
            "gridcolor": "white",
            "linecolor": "white",
            "ticks": ""
           }
          },
          "scene": {
           "xaxis": {
            "backgroundcolor": "#E5ECF6",
            "gridcolor": "white",
            "gridwidth": 2,
            "linecolor": "white",
            "showbackground": true,
            "ticks": "",
            "zerolinecolor": "white"
           },
           "yaxis": {
            "backgroundcolor": "#E5ECF6",
            "gridcolor": "white",
            "gridwidth": 2,
            "linecolor": "white",
            "showbackground": true,
            "ticks": "",
            "zerolinecolor": "white"
           },
           "zaxis": {
            "backgroundcolor": "#E5ECF6",
            "gridcolor": "white",
            "gridwidth": 2,
            "linecolor": "white",
            "showbackground": true,
            "ticks": "",
            "zerolinecolor": "white"
           }
          },
          "shapedefaults": {
           "line": {
            "color": "#2a3f5f"
           }
          },
          "ternary": {
           "aaxis": {
            "gridcolor": "white",
            "linecolor": "white",
            "ticks": ""
           },
           "baxis": {
            "gridcolor": "white",
            "linecolor": "white",
            "ticks": ""
           },
           "bgcolor": "#E5ECF6",
           "caxis": {
            "gridcolor": "white",
            "linecolor": "white",
            "ticks": ""
           }
          },
          "title": {
           "x": 0.05
          },
          "xaxis": {
           "automargin": true,
           "gridcolor": "white",
           "linecolor": "white",
           "ticks": "",
           "title": {
            "standoff": 15
           },
           "zerolinecolor": "white",
           "zerolinewidth": 2
          },
          "yaxis": {
           "automargin": true,
           "gridcolor": "white",
           "linecolor": "white",
           "ticks": "",
           "title": {
            "standoff": 15
           },
           "zerolinecolor": "white",
           "zerolinewidth": 2
          }
         }
        },
        "xaxis": {
         "anchor": "y",
         "domain": [
          0,
          1
         ],
         "title": {
          "text": "x"
         }
        },
        "yaxis": {
         "anchor": "x",
         "domain": [
          0,
          1
         ],
         "title": {
          "text": "y"
         }
        }
       }
      },
      "text/html": [
       "<div>                            <div id=\"2efd0c11-e173-4b7b-8a0a-71fa6fb09f33\" class=\"plotly-graph-div\" style=\"height:525px; width:100%;\"></div>            <script type=\"text/javascript\">                require([\"plotly\"], function(Plotly) {                    window.PLOTLYENV=window.PLOTLYENV || {};                                    if (document.getElementById(\"2efd0c11-e173-4b7b-8a0a-71fa6fb09f33\")) {                    Plotly.newPlot(                        \"2efd0c11-e173-4b7b-8a0a-71fa6fb09f33\",                        [{\"hovertemplate\":\"name=%{text}<br>x=%{x}<br>y=%{y}<extra></extra>\",\"legendgroup\":\"Tyrion Lannister\",\"marker\":{\"color\":\"#636efa\",\"symbol\":\"circle\"},\"mode\":\"markers+text\",\"name\":\"Tyrion Lannister\",\"orientation\":\"v\",\"showlegend\":true,\"text\":[\"Tyrion Lannister\"],\"x\":[7.323551654815674],\"xaxis\":\"x\",\"y\":[-0.609104573726654],\"yaxis\":\"y\",\"type\":\"scatter\"},{\"hovertemplate\":\"name=%{text}<br>x=%{x}<br>y=%{y}<extra></extra>\",\"legendgroup\":\"Cersei Lannister\",\"marker\":{\"color\":\"#EF553B\",\"symbol\":\"circle\"},\"mode\":\"markers+text\",\"name\":\"Cersei Lannister\",\"orientation\":\"v\",\"showlegend\":true,\"text\":[\"Cersei Lannister\"],\"x\":[7.077955722808838],\"xaxis\":\"x\",\"y\":[-0.5282318592071533],\"yaxis\":\"y\",\"type\":\"scatter\"},{\"hovertemplate\":\"name=%{text}<br>x=%{x}<br>y=%{y}<extra></extra>\",\"legendgroup\":\"Jon Snow\",\"marker\":{\"color\":\"#00cc96\",\"symbol\":\"circle\"},\"mode\":\"markers+text\",\"name\":\"Jon Snow\",\"orientation\":\"v\",\"showlegend\":true,\"text\":[\"Jon Snow\"],\"x\":[6.902337074279785],\"xaxis\":\"x\",\"y\":[-0.6094028353691101],\"yaxis\":\"y\",\"type\":\"scatter\"},{\"hovertemplate\":\"name=%{text}<br>x=%{x}<br>y=%{y}<extra></extra>\",\"legendgroup\":\"Daenerys Targaryen\",\"marker\":{\"color\":\"#ab63fa\",\"symbol\":\"circle\"},\"mode\":\"markers+text\",\"name\":\"Daenerys Targaryen\",\"orientation\":\"v\",\"showlegend\":true,\"text\":[\"Daenerys Targaryen\"],\"x\":[6.765987873077393],\"xaxis\":\"x\",\"y\":[0.2457628697156906],\"yaxis\":\"y\",\"type\":\"scatter\"},{\"hovertemplate\":\"name=%{text}<br>x=%{x}<br>y=%{y}<extra></extra>\",\"legendgroup\":\"Jaime Lannister\",\"marker\":{\"color\":\"#FFA15A\",\"symbol\":\"circle\"},\"mode\":\"markers+text\",\"name\":\"Jaime Lannister\",\"orientation\":\"v\",\"showlegend\":true,\"text\":[\"Jaime Lannister\"],\"x\":[6.868313789367676],\"xaxis\":\"x\",\"y\":[-0.513677716255188],\"yaxis\":\"y\",\"type\":\"scatter\"},{\"hovertemplate\":\"name=%{text}<br>x=%{x}<br>y=%{y}<extra></extra>\",\"legendgroup\":\"Sansa Stark\",\"marker\":{\"color\":\"#19d3f3\",\"symbol\":\"circle\"},\"mode\":\"markers+text\",\"name\":\"Sansa Stark\",\"orientation\":\"v\",\"showlegend\":true,\"text\":[\"Sansa Stark\"],\"x\":[6.55409049987793],\"xaxis\":\"x\",\"y\":[-0.3567470908164978],\"yaxis\":\"y\",\"type\":\"scatter\"},{\"hovertemplate\":\"name=%{text}<br>x=%{x}<br>y=%{y}<extra></extra>\",\"legendgroup\":\"Petyr Baelish\",\"marker\":{\"color\":\"#FF6692\",\"symbol\":\"circle\"},\"mode\":\"markers+text\",\"name\":\"Petyr Baelish\",\"orientation\":\"v\",\"showlegend\":true,\"text\":[\"Petyr Baelish\"],\"x\":[6.363088607788086],\"xaxis\":\"x\",\"y\":[0.10250448435544968],\"yaxis\":\"y\",\"type\":\"scatter\"},{\"hovertemplate\":\"name=%{text}<br>x=%{x}<br>y=%{y}<extra></extra>\",\"legendgroup\":\"Lord Varys\",\"marker\":{\"color\":\"#B6E880\",\"symbol\":\"circle\"},\"mode\":\"markers+text\",\"name\":\"Lord Varys\",\"orientation\":\"v\",\"showlegend\":true,\"text\":[\"Lord Varys\"],\"x\":[6.268197536468506],\"xaxis\":\"x\",\"y\":[0.23918840289115906],\"yaxis\":\"y\",\"type\":\"scatter\"},{\"hovertemplate\":\"name=%{text}<br>x=%{x}<br>y=%{y}<extra></extra>\",\"legendgroup\":\"Samwell Tarly\",\"marker\":{\"color\":\"#FF97FF\",\"symbol\":\"circle\"},\"mode\":\"markers+text\",\"name\":\"Samwell Tarly\",\"orientation\":\"v\",\"showlegend\":true,\"text\":[\"Samwell Tarly\"],\"x\":[5.52813720703125],\"xaxis\":\"x\",\"y\":[-0.4262411594390869],\"yaxis\":\"y\",\"type\":\"scatter\"},{\"hovertemplate\":\"name=%{text}<br>x=%{x}<br>y=%{y}<extra></extra>\",\"legendgroup\":\"Davos Seaworth\",\"marker\":{\"color\":\"#FECB52\",\"symbol\":\"circle\"},\"mode\":\"markers+text\",\"name\":\"Davos Seaworth\",\"orientation\":\"v\",\"showlegend\":true,\"text\":[\"Davos Seaworth\"],\"x\":[6.0015740394592285],\"xaxis\":\"x\",\"y\":[0.360182523727417],\"yaxis\":\"y\",\"type\":\"scatter\"},{\"hovertemplate\":\"name=%{text}<br>x=%{x}<br>y=%{y}<extra></extra>\",\"legendgroup\":\"Arya Stark\",\"marker\":{\"color\":\"#636efa\",\"symbol\":\"circle\"},\"mode\":\"markers+text\",\"name\":\"Arya Stark\",\"orientation\":\"v\",\"showlegend\":true,\"text\":[\"Arya Stark\"],\"x\":[5.867990493774414],\"xaxis\":\"x\",\"y\":[-0.9455272555351257],\"yaxis\":\"y\",\"type\":\"scatter\"},{\"hovertemplate\":\"name=%{text}<br>x=%{x}<br>y=%{y}<extra></extra>\",\"legendgroup\":\"Tywin Lannister\",\"marker\":{\"color\":\"#EF553B\",\"symbol\":\"circle\"},\"mode\":\"markers+text\",\"name\":\"Tywin Lannister\",\"orientation\":\"v\",\"showlegend\":true,\"text\":[\"Tywin Lannister\"],\"x\":[5.363423824310303],\"xaxis\":\"x\",\"y\":[0.6329333186149597],\"yaxis\":\"y\",\"type\":\"scatter\"},{\"hovertemplate\":\"name=%{text}<br>x=%{x}<br>y=%{y}<extra></extra>\",\"legendgroup\":\"Theon Greyjoy\",\"marker\":{\"color\":\"#00cc96\",\"symbol\":\"circle\"},\"mode\":\"markers+text\",\"name\":\"Theon Greyjoy\",\"orientation\":\"v\",\"showlegend\":true,\"text\":[\"Theon Greyjoy\"],\"x\":[5.602250576019287],\"xaxis\":\"x\",\"y\":[-0.1342131793498993],\"yaxis\":\"y\",\"type\":\"scatter\"},{\"hovertemplate\":\"name=%{text}<br>x=%{x}<br>y=%{y}<extra></extra>\",\"legendgroup\":\"Jorah Mormont\",\"marker\":{\"color\":\"#ab63fa\",\"symbol\":\"circle\"},\"mode\":\"markers+text\",\"name\":\"Jorah Mormont\",\"orientation\":\"v\",\"showlegend\":true,\"text\":[\"Jorah Mormont\"],\"x\":[5.182316780090332],\"xaxis\":\"x\",\"y\":[1.7023999691009521],\"yaxis\":\"y\",\"type\":\"scatter\"},{\"hovertemplate\":\"name=%{text}<br>x=%{x}<br>y=%{y}<extra></extra>\",\"legendgroup\":\"Bronn\",\"marker\":{\"color\":\"#FFA15A\",\"symbol\":\"circle\"},\"mode\":\"markers+text\",\"name\":\"Bronn\",\"orientation\":\"v\",\"showlegend\":true,\"text\":[\"Bronn\"],\"x\":[5.264491558074951],\"xaxis\":\"x\",\"y\":[-1.2309515476226807],\"yaxis\":\"y\",\"type\":\"scatter\"},{\"hovertemplate\":\"name=%{text}<br>x=%{x}<br>y=%{y}<extra></extra>\",\"legendgroup\":\"Brienne of Tarth\",\"marker\":{\"color\":\"#19d3f3\",\"symbol\":\"circle\"},\"mode\":\"markers+text\",\"name\":\"Brienne of Tarth\",\"orientation\":\"v\",\"showlegend\":true,\"text\":[\"Brienne of Tarth\"],\"x\":[4.372908592224121],\"xaxis\":\"x\",\"y\":[-0.684630274772644],\"yaxis\":\"y\",\"type\":\"scatter\"},{\"hovertemplate\":\"name=%{text}<br>x=%{x}<br>y=%{y}<extra></extra>\",\"legendgroup\":\"Sandor Clegane\",\"marker\":{\"color\":\"#FF6692\",\"symbol\":\"circle\"},\"mode\":\"markers+text\",\"name\":\"Sandor Clegane\",\"orientation\":\"v\",\"showlegend\":true,\"text\":[\"Sandor Clegane\"],\"x\":[5.262269020080566],\"xaxis\":\"x\",\"y\":[-1.2696682214736938],\"yaxis\":\"y\",\"type\":\"scatter\"},{\"hovertemplate\":\"name=%{text}<br>x=%{x}<br>y=%{y}<extra></extra>\",\"legendgroup\":\"Olenna Tyrell\",\"marker\":{\"color\":\"#B6E880\",\"symbol\":\"circle\"},\"mode\":\"markers+text\",\"name\":\"Olenna Tyrell\",\"orientation\":\"v\",\"showlegend\":true,\"text\":[\"Olenna Tyrell\"],\"x\":[3.6819632053375244],\"xaxis\":\"x\",\"y\":[-0.03149748966097832],\"yaxis\":\"y\",\"type\":\"scatter\"},{\"hovertemplate\":\"name=%{text}<br>x=%{x}<br>y=%{y}<extra></extra>\",\"legendgroup\":\"Robb Stark\",\"marker\":{\"color\":\"#FF97FF\",\"symbol\":\"circle\"},\"mode\":\"markers+text\",\"name\":\"Robb Stark\",\"orientation\":\"v\",\"showlegend\":true,\"text\":[\"Robb Stark\"],\"x\":[5.231531143188477],\"xaxis\":\"x\",\"y\":[0.17373375594615936],\"yaxis\":\"y\",\"type\":\"scatter\"},{\"hovertemplate\":\"name=%{text}<br>x=%{x}<br>y=%{y}<extra></extra>\",\"legendgroup\":\"Stannis Baratheon\",\"marker\":{\"color\":\"#FECB52\",\"symbol\":\"circle\"},\"mode\":\"markers+text\",\"name\":\"Stannis Baratheon\",\"orientation\":\"v\",\"showlegend\":true,\"text\":[\"Stannis Baratheon\"],\"x\":[5.051855087280273],\"xaxis\":\"x\",\"y\":[0.758755624294281],\"yaxis\":\"y\",\"type\":\"scatter\"},{\"hovertemplate\":\"name=%{text}<br>x=%{x}<br>y=%{y}<extra></extra>\",\"legendgroup\":\"Margaery Tyrell\",\"marker\":{\"color\":\"#636efa\",\"symbol\":\"circle\"},\"mode\":\"markers+text\",\"name\":\"Margaery Tyrell\",\"orientation\":\"v\",\"showlegend\":true,\"text\":[\"Margaery Tyrell\"],\"x\":[3.4468116760253906],\"xaxis\":\"x\",\"y\":[-0.8014363050460815],\"yaxis\":\"y\",\"type\":\"scatter\"},{\"hovertemplate\":\"name=%{text}<br>x=%{x}<br>y=%{y}<extra></extra>\",\"legendgroup\":\"Eddard Stark\",\"marker\":{\"color\":\"#EF553B\",\"symbol\":\"circle\"},\"mode\":\"markers+text\",\"name\":\"Eddard Stark\",\"orientation\":\"v\",\"showlegend\":true,\"text\":[\"Eddard Stark\"],\"x\":[5.037147521972656],\"xaxis\":\"x\",\"y\":[0.5133876800537109],\"yaxis\":\"y\",\"type\":\"scatter\"},{\"hovertemplate\":\"name=%{text}<br>x=%{x}<br>y=%{y}<extra></extra>\",\"legendgroup\":\"Catelyn Stark\",\"marker\":{\"color\":\"#00cc96\",\"symbol\":\"circle\"},\"mode\":\"markers+text\",\"name\":\"Catelyn Stark\",\"orientation\":\"v\",\"showlegend\":true,\"text\":[\"Catelyn Stark\"],\"x\":[4.933671474456787],\"xaxis\":\"x\",\"y\":[0.1884734034538269],\"yaxis\":\"y\",\"type\":\"scatter\"},{\"hovertemplate\":\"name=%{text}<br>x=%{x}<br>y=%{y}<extra></extra>\",\"legendgroup\":\"Ramsay Snow\",\"marker\":{\"color\":\"#ab63fa\",\"symbol\":\"circle\"},\"mode\":\"markers+text\",\"name\":\"Ramsay Snow\",\"orientation\":\"v\",\"showlegend\":true,\"text\":[\"Ramsay Snow\"],\"x\":[3.8250672817230225],\"xaxis\":\"x\",\"y\":[0.38751769065856934],\"yaxis\":\"y\",\"type\":\"scatter\"},{\"hovertemplate\":\"name=%{text}<br>x=%{x}<br>y=%{y}<extra></extra>\",\"legendgroup\":\"Melisandre\",\"marker\":{\"color\":\"#FFA15A\",\"symbol\":\"circle\"},\"mode\":\"markers+text\",\"name\":\"Melisandre\",\"orientation\":\"v\",\"showlegend\":true,\"text\":[\"Melisandre\"],\"x\":[1.758223056793213],\"xaxis\":\"x\",\"y\":[-1.3314425945281982],\"yaxis\":\"y\",\"type\":\"scatter\"}],                        {\"template\":{\"data\":{\"histogram2dcontour\":[{\"type\":\"histogram2dcontour\",\"colorbar\":{\"outlinewidth\":0,\"ticks\":\"\"},\"colorscale\":[[0.0,\"#0d0887\"],[0.1111111111111111,\"#46039f\"],[0.2222222222222222,\"#7201a8\"],[0.3333333333333333,\"#9c179e\"],[0.4444444444444444,\"#bd3786\"],[0.5555555555555556,\"#d8576b\"],[0.6666666666666666,\"#ed7953\"],[0.7777777777777778,\"#fb9f3a\"],[0.8888888888888888,\"#fdca26\"],[1.0,\"#f0f921\"]]}],\"choropleth\":[{\"type\":\"choropleth\",\"colorbar\":{\"outlinewidth\":0,\"ticks\":\"\"}}],\"histogram2d\":[{\"type\":\"histogram2d\",\"colorbar\":{\"outlinewidth\":0,\"ticks\":\"\"},\"colorscale\":[[0.0,\"#0d0887\"],[0.1111111111111111,\"#46039f\"],[0.2222222222222222,\"#7201a8\"],[0.3333333333333333,\"#9c179e\"],[0.4444444444444444,\"#bd3786\"],[0.5555555555555556,\"#d8576b\"],[0.6666666666666666,\"#ed7953\"],[0.7777777777777778,\"#fb9f3a\"],[0.8888888888888888,\"#fdca26\"],[1.0,\"#f0f921\"]]}],\"heatmap\":[{\"type\":\"heatmap\",\"colorbar\":{\"outlinewidth\":0,\"ticks\":\"\"},\"colorscale\":[[0.0,\"#0d0887\"],[0.1111111111111111,\"#46039f\"],[0.2222222222222222,\"#7201a8\"],[0.3333333333333333,\"#9c179e\"],[0.4444444444444444,\"#bd3786\"],[0.5555555555555556,\"#d8576b\"],[0.6666666666666666,\"#ed7953\"],[0.7777777777777778,\"#fb9f3a\"],[0.8888888888888888,\"#fdca26\"],[1.0,\"#f0f921\"]]}],\"heatmapgl\":[{\"type\":\"heatmapgl\",\"colorbar\":{\"outlinewidth\":0,\"ticks\":\"\"},\"colorscale\":[[0.0,\"#0d0887\"],[0.1111111111111111,\"#46039f\"],[0.2222222222222222,\"#7201a8\"],[0.3333333333333333,\"#9c179e\"],[0.4444444444444444,\"#bd3786\"],[0.5555555555555556,\"#d8576b\"],[0.6666666666666666,\"#ed7953\"],[0.7777777777777778,\"#fb9f3a\"],[0.8888888888888888,\"#fdca26\"],[1.0,\"#f0f921\"]]}],\"contourcarpet\":[{\"type\":\"contourcarpet\",\"colorbar\":{\"outlinewidth\":0,\"ticks\":\"\"}}],\"contour\":[{\"type\":\"contour\",\"colorbar\":{\"outlinewidth\":0,\"ticks\":\"\"},\"colorscale\":[[0.0,\"#0d0887\"],[0.1111111111111111,\"#46039f\"],[0.2222222222222222,\"#7201a8\"],[0.3333333333333333,\"#9c179e\"],[0.4444444444444444,\"#bd3786\"],[0.5555555555555556,\"#d8576b\"],[0.6666666666666666,\"#ed7953\"],[0.7777777777777778,\"#fb9f3a\"],[0.8888888888888888,\"#fdca26\"],[1.0,\"#f0f921\"]]}],\"surface\":[{\"type\":\"surface\",\"colorbar\":{\"outlinewidth\":0,\"ticks\":\"\"},\"colorscale\":[[0.0,\"#0d0887\"],[0.1111111111111111,\"#46039f\"],[0.2222222222222222,\"#7201a8\"],[0.3333333333333333,\"#9c179e\"],[0.4444444444444444,\"#bd3786\"],[0.5555555555555556,\"#d8576b\"],[0.6666666666666666,\"#ed7953\"],[0.7777777777777778,\"#fb9f3a\"],[0.8888888888888888,\"#fdca26\"],[1.0,\"#f0f921\"]]}],\"mesh3d\":[{\"type\":\"mesh3d\",\"colorbar\":{\"outlinewidth\":0,\"ticks\":\"\"}}],\"scatter\":[{\"fillpattern\":{\"fillmode\":\"overlay\",\"size\":10,\"solidity\":0.2},\"type\":\"scatter\"}],\"parcoords\":[{\"type\":\"parcoords\",\"line\":{\"colorbar\":{\"outlinewidth\":0,\"ticks\":\"\"}}}],\"scatterpolargl\":[{\"type\":\"scatterpolargl\",\"marker\":{\"colorbar\":{\"outlinewidth\":0,\"ticks\":\"\"}}}],\"bar\":[{\"error_x\":{\"color\":\"#2a3f5f\"},\"error_y\":{\"color\":\"#2a3f5f\"},\"marker\":{\"line\":{\"color\":\"#E5ECF6\",\"width\":0.5},\"pattern\":{\"fillmode\":\"overlay\",\"size\":10,\"solidity\":0.2}},\"type\":\"bar\"}],\"scattergeo\":[{\"type\":\"scattergeo\",\"marker\":{\"colorbar\":{\"outlinewidth\":0,\"ticks\":\"\"}}}],\"scatterpolar\":[{\"type\":\"scatterpolar\",\"marker\":{\"colorbar\":{\"outlinewidth\":0,\"ticks\":\"\"}}}],\"histogram\":[{\"marker\":{\"pattern\":{\"fillmode\":\"overlay\",\"size\":10,\"solidity\":0.2}},\"type\":\"histogram\"}],\"scattergl\":[{\"type\":\"scattergl\",\"marker\":{\"colorbar\":{\"outlinewidth\":0,\"ticks\":\"\"}}}],\"scatter3d\":[{\"type\":\"scatter3d\",\"line\":{\"colorbar\":{\"outlinewidth\":0,\"ticks\":\"\"}},\"marker\":{\"colorbar\":{\"outlinewidth\":0,\"ticks\":\"\"}}}],\"scattermapbox\":[{\"type\":\"scattermapbox\",\"marker\":{\"colorbar\":{\"outlinewidth\":0,\"ticks\":\"\"}}}],\"scatterternary\":[{\"type\":\"scatterternary\",\"marker\":{\"colorbar\":{\"outlinewidth\":0,\"ticks\":\"\"}}}],\"scattercarpet\":[{\"type\":\"scattercarpet\",\"marker\":{\"colorbar\":{\"outlinewidth\":0,\"ticks\":\"\"}}}],\"carpet\":[{\"aaxis\":{\"endlinecolor\":\"#2a3f5f\",\"gridcolor\":\"white\",\"linecolor\":\"white\",\"minorgridcolor\":\"white\",\"startlinecolor\":\"#2a3f5f\"},\"baxis\":{\"endlinecolor\":\"#2a3f5f\",\"gridcolor\":\"white\",\"linecolor\":\"white\",\"minorgridcolor\":\"white\",\"startlinecolor\":\"#2a3f5f\"},\"type\":\"carpet\"}],\"table\":[{\"cells\":{\"fill\":{\"color\":\"#EBF0F8\"},\"line\":{\"color\":\"white\"}},\"header\":{\"fill\":{\"color\":\"#C8D4E3\"},\"line\":{\"color\":\"white\"}},\"type\":\"table\"}],\"barpolar\":[{\"marker\":{\"line\":{\"color\":\"#E5ECF6\",\"width\":0.5},\"pattern\":{\"fillmode\":\"overlay\",\"size\":10,\"solidity\":0.2}},\"type\":\"barpolar\"}],\"pie\":[{\"automargin\":true,\"type\":\"pie\"}]},\"layout\":{\"autotypenumbers\":\"strict\",\"colorway\":[\"#636efa\",\"#EF553B\",\"#00cc96\",\"#ab63fa\",\"#FFA15A\",\"#19d3f3\",\"#FF6692\",\"#B6E880\",\"#FF97FF\",\"#FECB52\"],\"font\":{\"color\":\"#2a3f5f\"},\"hovermode\":\"closest\",\"hoverlabel\":{\"align\":\"left\"},\"paper_bgcolor\":\"white\",\"plot_bgcolor\":\"#E5ECF6\",\"polar\":{\"bgcolor\":\"#E5ECF6\",\"angularaxis\":{\"gridcolor\":\"white\",\"linecolor\":\"white\",\"ticks\":\"\"},\"radialaxis\":{\"gridcolor\":\"white\",\"linecolor\":\"white\",\"ticks\":\"\"}},\"ternary\":{\"bgcolor\":\"#E5ECF6\",\"aaxis\":{\"gridcolor\":\"white\",\"linecolor\":\"white\",\"ticks\":\"\"},\"baxis\":{\"gridcolor\":\"white\",\"linecolor\":\"white\",\"ticks\":\"\"},\"caxis\":{\"gridcolor\":\"white\",\"linecolor\":\"white\",\"ticks\":\"\"}},\"coloraxis\":{\"colorbar\":{\"outlinewidth\":0,\"ticks\":\"\"}},\"colorscale\":{\"sequential\":[[0.0,\"#0d0887\"],[0.1111111111111111,\"#46039f\"],[0.2222222222222222,\"#7201a8\"],[0.3333333333333333,\"#9c179e\"],[0.4444444444444444,\"#bd3786\"],[0.5555555555555556,\"#d8576b\"],[0.6666666666666666,\"#ed7953\"],[0.7777777777777778,\"#fb9f3a\"],[0.8888888888888888,\"#fdca26\"],[1.0,\"#f0f921\"]],\"sequentialminus\":[[0.0,\"#0d0887\"],[0.1111111111111111,\"#46039f\"],[0.2222222222222222,\"#7201a8\"],[0.3333333333333333,\"#9c179e\"],[0.4444444444444444,\"#bd3786\"],[0.5555555555555556,\"#d8576b\"],[0.6666666666666666,\"#ed7953\"],[0.7777777777777778,\"#fb9f3a\"],[0.8888888888888888,\"#fdca26\"],[1.0,\"#f0f921\"]],\"diverging\":[[0,\"#8e0152\"],[0.1,\"#c51b7d\"],[0.2,\"#de77ae\"],[0.3,\"#f1b6da\"],[0.4,\"#fde0ef\"],[0.5,\"#f7f7f7\"],[0.6,\"#e6f5d0\"],[0.7,\"#b8e186\"],[0.8,\"#7fbc41\"],[0.9,\"#4d9221\"],[1,\"#276419\"]]},\"xaxis\":{\"gridcolor\":\"white\",\"linecolor\":\"white\",\"ticks\":\"\",\"title\":{\"standoff\":15},\"zerolinecolor\":\"white\",\"automargin\":true,\"zerolinewidth\":2},\"yaxis\":{\"gridcolor\":\"white\",\"linecolor\":\"white\",\"ticks\":\"\",\"title\":{\"standoff\":15},\"zerolinecolor\":\"white\",\"automargin\":true,\"zerolinewidth\":2},\"scene\":{\"xaxis\":{\"backgroundcolor\":\"#E5ECF6\",\"gridcolor\":\"white\",\"linecolor\":\"white\",\"showbackground\":true,\"ticks\":\"\",\"zerolinecolor\":\"white\",\"gridwidth\":2},\"yaxis\":{\"backgroundcolor\":\"#E5ECF6\",\"gridcolor\":\"white\",\"linecolor\":\"white\",\"showbackground\":true,\"ticks\":\"\",\"zerolinecolor\":\"white\",\"gridwidth\":2},\"zaxis\":{\"backgroundcolor\":\"#E5ECF6\",\"gridcolor\":\"white\",\"linecolor\":\"white\",\"showbackground\":true,\"ticks\":\"\",\"zerolinecolor\":\"white\",\"gridwidth\":2}},\"shapedefaults\":{\"line\":{\"color\":\"#2a3f5f\"}},\"annotationdefaults\":{\"arrowcolor\":\"#2a3f5f\",\"arrowhead\":0,\"arrowwidth\":1},\"geo\":{\"bgcolor\":\"white\",\"landcolor\":\"#E5ECF6\",\"subunitcolor\":\"white\",\"showland\":true,\"showlakes\":true,\"lakecolor\":\"white\"},\"title\":{\"x\":0.05},\"mapbox\":{\"style\":\"light\"}}},\"xaxis\":{\"anchor\":\"y\",\"domain\":[0.0,1.0],\"title\":{\"text\":\"x\"}},\"yaxis\":{\"anchor\":\"x\",\"domain\":[0.0,1.0],\"title\":{\"text\":\"y\"}},\"legend\":{\"title\":{\"text\":\"name\"},\"tracegroupgap\":0},\"margin\":{\"t\":60}},                        {\"responsive\": true}                    ).then(function(){\n",
       "                            \n",
       "var gd = document.getElementById('2efd0c11-e173-4b7b-8a0a-71fa6fb09f33');\n",
       "var x = new MutationObserver(function (mutations, observer) {{\n",
       "        var display = window.getComputedStyle(gd).display;\n",
       "        if (!display || display === 'none') {{\n",
       "            console.log([gd, 'removed!']);\n",
       "            Plotly.purge(gd);\n",
       "            observer.disconnect();\n",
       "        }}\n",
       "}});\n",
       "\n",
       "// Listen for the removal of the full notebook cells\n",
       "var notebookContainer = gd.closest('#notebook-container');\n",
       "if (notebookContainer) {{\n",
       "    x.observe(notebookContainer, {childList: true});\n",
       "}}\n",
       "\n",
       "// Listen for the clearing of the current output cell\n",
       "var outputEl = gd.closest('.output');\n",
       "if (outputEl) {{\n",
       "    x.observe(outputEl, {childList: true});\n",
       "}}\n",
       "\n",
       "                        })                };                });            </script>        </div>"
      ]
     },
     "metadata": {},
     "output_type": "display_data"
    }
   ],
   "source": [
    "import plotly.express as px\n",
    "fig = px.scatter(dq.head(25),x = \"x\",y=\"y\",color = 'name',text = 'name')\n",
    "fig.show()"
   ]
  },
  {
   "cell_type": "code",
   "execution_count": 132,
   "id": "55d89804",
   "metadata": {},
   "outputs": [],
   "source": [
    "import requests\n",
    "import plotly.graph_objects as go\n",
    "\n",
    "# API endpoint URL\n",
    "url = \"https://thronesapi.com/api/v2/Characters\"\n",
    "\n",
    "# Fetch data (replace with error handling)\n",
    "response = requests.get(url)\n",
    "data = response.json()\n"
   ]
  },
  {
   "cell_type": "code",
   "execution_count": 136,
   "id": "bda3d18b",
   "metadata": {},
   "outputs": [],
   "source": [
    "dq['name'] = dq['name'].str.replace('Jaime','Jamie')\n",
    "dq['name'] = dq['name'].str.replace('Lord Varys','Varys')\n",
    "dq['name'] = dq['name'].str.replace('Bronn','Lord Bronn')\n",
    "dq['name'] = dq['name'].str.replace('Sandor Clegane','The Hound')\n",
    "dq['name'] = dq['name'].str.replace('Robb Stark','Rob Stark')"
   ]
  },
  {
   "cell_type": "code",
   "execution_count": 137,
   "id": "d63894a3",
   "metadata": {},
   "outputs": [],
   "source": [
    "# Extract character information\n",
    "characters = []\n",
    "for character in data:\n",
    "    name = character[\"fullName\"]\n",
    "    image_url = f\"https://thronesapi.com/assets/images/{character['imageUrl']}\"\n",
    "    characters.append({\"name\": name, \"image_url\": image_url})\n"
   ]
  },
  {
   "cell_type": "code",
   "execution_count": 135,
   "id": "3a793c87",
   "metadata": {},
   "outputs": [
    {
     "data": {
      "text/plain": [
       "[{'name': 'Daenerys Targaryen',\n",
       "  'image_url': 'https://thronesapi.com/assets/images/https://thronesapi.com/assets/images/daenerys.jpg'},\n",
       " {'name': 'Samwell Tarly',\n",
       "  'image_url': 'https://thronesapi.com/assets/images/https://thronesapi.com/assets/images/sam.jpg'},\n",
       " {'name': 'Jon Snow',\n",
       "  'image_url': 'https://thronesapi.com/assets/images/https://thronesapi.com/assets/images/jon-snow.jpg'},\n",
       " {'name': 'Arya Stark',\n",
       "  'image_url': 'https://thronesapi.com/assets/images/https://thronesapi.com/assets/images/arya-stark.jpg'},\n",
       " {'name': 'Sansa Stark',\n",
       "  'image_url': 'https://thronesapi.com/assets/images/https://thronesapi.com/assets/images/sansa-stark.jpeg'},\n",
       " {'name': 'Brandon Stark',\n",
       "  'image_url': 'https://thronesapi.com/assets/images/https://thronesapi.com/assets/images/bran-stark.jpg'},\n",
       " {'name': 'Ned Stark',\n",
       "  'image_url': 'https://thronesapi.com/assets/images/https://thronesapi.com/assets/images/ned-stark.jpg'},\n",
       " {'name': 'Robert Baratheon',\n",
       "  'image_url': 'https://thronesapi.com/assets/images/https://thronesapi.com/assets/images/robert-baratheon.jpeg'},\n",
       " {'name': 'Jamie Lannister',\n",
       "  'image_url': 'https://thronesapi.com/assets/images/https://thronesapi.com/assets/images/jaime-lannister.jpg'},\n",
       " {'name': 'Cersei Lannister',\n",
       "  'image_url': 'https://thronesapi.com/assets/images/https://thronesapi.com/assets/images/cersei.jpg'},\n",
       " {'name': 'Catelyn Stark',\n",
       "  'image_url': 'https://thronesapi.com/assets/images/https://thronesapi.com/assets/images/catelyn-stark.jpg'},\n",
       " {'name': 'Rob Stark',\n",
       "  'image_url': 'https://thronesapi.com/assets/images/https://thronesapi.com/assets/images/robb-stark.jpg'},\n",
       " {'name': 'Theon Greyjoy',\n",
       "  'image_url': 'https://thronesapi.com/assets/images/https://thronesapi.com/assets/images/theon.jpg'},\n",
       " {'name': 'Joffrey Baratheon',\n",
       "  'image_url': 'https://thronesapi.com/assets/images/https://thronesapi.com/assets/images/joffrey.jpg'},\n",
       " {'name': 'Tyrion Lannister',\n",
       "  'image_url': 'https://thronesapi.com/assets/images/https://thronesapi.com/assets/images/tyrion-lannister.jpg'},\n",
       " {'name': 'The Hound',\n",
       "  'image_url': 'https://thronesapi.com/assets/images/https://thronesapi.com/assets/images/the-hound.jpg'},\n",
       " {'name': 'Petyr Baelish',\n",
       "  'image_url': 'https://thronesapi.com/assets/images/https://thronesapi.com/assets/images/littlefinger.jpg'},\n",
       " {'name': 'Davos Seaworth',\n",
       "  'image_url': 'https://thronesapi.com/assets/images/https://thronesapi.com/assets/images/davos-seaworth.png'},\n",
       " {'name': 'Stannis Baratheon',\n",
       "  'image_url': 'https://thronesapi.com/assets/images/https://thronesapi.com/assets/images/stannis.jpg'},\n",
       " {'name': 'Varys',\n",
       "  'image_url': 'https://thronesapi.com/assets/images/https://thronesapi.com/assets/images/varys.jpg'},\n",
       " {'name': 'Khal Drogo',\n",
       "  'image_url': 'https://thronesapi.com/assets/images/https://thronesapi.com/assets/images/khal-drogo.jpg'},\n",
       " {'name': 'Margaery Tyrell',\n",
       "  'image_url': 'https://thronesapi.com/assets/images/https://thronesapi.com/assets/images/margaery-tyrell.jpg'},\n",
       " {'name': 'Ygritte',\n",
       "  'image_url': 'https://thronesapi.com/assets/images/https://thronesapi.com/assets/images/ygritte.jpg'},\n",
       " {'name': 'Brienne of Tarth',\n",
       "  'image_url': 'https://thronesapi.com/assets/images/https://thronesapi.com/assets/images/brienne-tarth.jpeg'},\n",
       " {'name': 'Missandei',\n",
       "  'image_url': 'https://thronesapi.com/assets/images/https://thronesapi.com/assets/images/missandei.jpeg'},\n",
       " {'name': 'Gilly',\n",
       "  'image_url': 'https://thronesapi.com/assets/images/https://thronesapi.com/assets/images/gilly.jpg'},\n",
       " {'name': 'Viserys Targaryn',\n",
       "  'image_url': 'https://thronesapi.com/assets/images/https://thronesapi.com/assets/images/viserys-targaryan.jpg'},\n",
       " {'name': 'Rickon Stark',\n",
       "  'image_url': 'https://thronesapi.com/assets/images/https://thronesapi.com/assets/images/rickon.jpg'},\n",
       " {'name': 'Roose Bolton',\n",
       "  'image_url': 'https://thronesapi.com/assets/images/https://thronesapi.com/assets/images/roose-bolton.jpg'},\n",
       " {'name': 'Daario',\n",
       "  'image_url': 'https://thronesapi.com/assets/images/https://thronesapi.com/assets/images/daario.jpg'},\n",
       " {'name': 'Shae',\n",
       "  'image_url': 'https://thronesapi.com/assets/images/https://thronesapi.com/assets/images/shae.jpg'},\n",
       " {'name': 'Tommen Baratheon',\n",
       "  'image_url': 'https://thronesapi.com/assets/images/https://thronesapi.com/assets/images/tommen.jpg'},\n",
       " {'name': 'Gendry Baratheon',\n",
       "  'image_url': 'https://thronesapi.com/assets/images/https://thronesapi.com/assets/images/gendry.jpg'},\n",
       " {'name': 'Jorah Mormont',\n",
       "  'image_url': 'https://thronesapi.com/assets/images/https://thronesapi.com/assets/images/jorah-mormont.jpg'},\n",
       " {'name': 'Robert Baratheon',\n",
       "  'image_url': 'https://thronesapi.com/assets/images/https://thronesapi.com/assets/images/king-robert.jpg'},\n",
       " {'name': 'Ramsey Bolton',\n",
       "  'image_url': 'https://thronesapi.com/assets/images/https://thronesapi.com/assets/images/ramsey-bolton.jpg'},\n",
       " {'name': 'Talisa Stark',\n",
       "  'image_url': 'https://thronesapi.com/assets/images/https://thronesapi.com/assets/images/talisa-stark.jpg'},\n",
       " {'name': 'Jeor Mormont',\n",
       "  'image_url': 'https://thronesapi.com/assets/images/https://thronesapi.com/assets/images/lord-commander-mormont.jpg'},\n",
       " {'name': 'The High Sparrow',\n",
       "  'image_url': 'https://thronesapi.com/assets/images/https://thronesapi.com/assets/images/the-high-sparrow.jpg'},\n",
       " {'name': 'Oberyn Martell',\n",
       "  'image_url': 'https://thronesapi.com/assets/images/https://thronesapi.com/assets/images/red-viper.jpg'},\n",
       " {'name': 'Melisandre',\n",
       "  'image_url': 'https://thronesapi.com/assets/images/https://thronesapi.com/assets/images/melisandre.jpg'},\n",
       " {'name': \"Jaqen H'ghar\",\n",
       "  'image_url': 'https://thronesapi.com/assets/images/https://thronesapi.com/assets/images/jaqen-hghar.jpg'},\n",
       " {'name': 'Tywin Lannister',\n",
       "  'image_url': 'https://thronesapi.com/assets/images/https://thronesapi.com/assets/images/tywin-lannister.jpg'},\n",
       " {'name': 'Ellaria Sand',\n",
       "  'image_url': 'https://thronesapi.com/assets/images/https://thronesapi.com/assets/images/ellaria-sand.jpg'},\n",
       " {'name': 'Tormund Giantsbane',\n",
       "  'image_url': 'https://thronesapi.com/assets/images/https://thronesapi.com/assets/images/tormund-giantsbane.jpg'},\n",
       " {'name': 'Yara Greyjoy',\n",
       "  'image_url': 'https://thronesapi.com/assets/images/https://thronesapi.com/assets/images/yara-greyjoy.jpg'},\n",
       " {'name': 'Euron Greyjoy',\n",
       "  'image_url': 'https://thronesapi.com/assets/images/https://thronesapi.com/assets/images/euron-greyjoy.jpg'},\n",
       " {'name': 'Hodor',\n",
       "  'image_url': 'https://thronesapi.com/assets/images/https://thronesapi.com/assets/images/hodor.jpg'},\n",
       " {'name': 'Pycelle',\n",
       "  'image_url': 'https://thronesapi.com/assets/images/https://thronesapi.com/assets/images/pycelle.jpg'},\n",
       " {'name': 'Grey Worm',\n",
       "  'image_url': 'https://thronesapi.com/assets/images/https://thronesapi.com/assets/images/greyworm.jpg'},\n",
       " {'name': 'Olenna Tyrell',\n",
       "  'image_url': 'https://thronesapi.com/assets/images/https://thronesapi.com/assets/images/olenna-tyrell.jpg'},\n",
       " {'name': 'Qyburn',\n",
       "  'image_url': 'https://thronesapi.com/assets/images/https://thronesapi.com/assets/images/qyburn.jpg'},\n",
       " {'name': 'Lord Bronn',\n",
       "  'image_url': 'https://thronesapi.com/assets/images/https://thronesapi.com/assets/images/bronn.jpg'}]"
      ]
     },
     "execution_count": 135,
     "metadata": {},
     "output_type": "execute_result"
    }
   ],
   "source": [
    "characters"
   ]
  },
  {
   "cell_type": "code",
   "execution_count": 141,
   "id": "5c2a1f66",
   "metadata": {},
   "outputs": [
    {
     "ename": "ImportError",
     "evalue": "cannot import name 'graph_objects' from 'plotly.graph_objects' (/opt/anaconda3/lib/python3.9/site-packages/plotly/graph_objects/__init__.py)",
     "output_type": "error",
     "traceback": [
      "\u001b[0;31m---------------------------------------------------------------------------\u001b[0m",
      "\u001b[0;31mImportError\u001b[0m                               Traceback (most recent call last)",
      "\u001b[0;32m/var/folders/ym/ht65qg1n1w18jq7chjcggtbr0000gn/T/ipykernel_10069/134501797.py\u001b[0m in \u001b[0;36m<module>\u001b[0;34m\u001b[0m\n\u001b[1;32m      2\u001b[0m \u001b[0;32mfrom\u001b[0m \u001b[0mio\u001b[0m \u001b[0;32mimport\u001b[0m \u001b[0mBytesIO\u001b[0m\u001b[0;34m\u001b[0m\u001b[0;34m\u001b[0m\u001b[0m\n\u001b[1;32m      3\u001b[0m \u001b[0;32mimport\u001b[0m \u001b[0mplotly\u001b[0m\u001b[0;34m.\u001b[0m\u001b[0mexpress\u001b[0m \u001b[0;32mas\u001b[0m \u001b[0mpx\u001b[0m\u001b[0;34m\u001b[0m\u001b[0;34m\u001b[0m\u001b[0m\n\u001b[0;32m----> 4\u001b[0;31m \u001b[0;32mfrom\u001b[0m \u001b[0mplotly\u001b[0m\u001b[0;34m.\u001b[0m\u001b[0mgraph_objects\u001b[0m \u001b[0;32mimport\u001b[0m \u001b[0mgraph_objects\u001b[0m\u001b[0;34m\u001b[0m\u001b[0;34m\u001b[0m\u001b[0m\n\u001b[0m\u001b[1;32m      5\u001b[0m \u001b[0;34m\u001b[0m\u001b[0m\n\u001b[1;32m      6\u001b[0m \u001b[0;34m\u001b[0m\u001b[0m\n",
      "\u001b[0;31mImportError\u001b[0m: cannot import name 'graph_objects' from 'plotly.graph_objects' (/opt/anaconda3/lib/python3.9/site-packages/plotly/graph_objects/__init__.py)"
     ]
    }
   ],
   "source": [
    "import requests\n",
    "from io import BytesIO\n",
    "import plotly.express as px\n",
    "from plotly.graph_objects import graph_objects\n",
    "\n",
    "\n",
    "images = {}\n",
    "for name, url in characters.items():\n",
    "    response = requests.get(url)\n",
    "    if response.status_code == 200:\n",
    "        image = go.layout.Image(source=BytesIO(response.content), sizex=50, sizey=50)  # Adjust size as needed\n",
    "        images[name] = image"
   ]
  },
  {
   "cell_type": "code",
   "execution_count": 134,
   "id": "7de95f84",
   "metadata": {},
   "outputs": [
    {
     "data": {
      "application/vnd.plotly.v1+json": {
       "config": {
        "plotlyServerURL": "https://plot.ly"
       },
       "data": [],
       "layout": {
        "annotations": [
         {
          "showarrow": false,
          "text": "Daenerys Targaryen",
          "x": 0.5,
          "y": 0.8
         },
         {
          "showarrow": false,
          "text": "Samwell Tarly",
          "x": 0.5,
          "y": 0.7000000000000001
         },
         {
          "showarrow": false,
          "text": "Jon Snow",
          "x": 0.5,
          "y": 0.6000000000000001
         },
         {
          "showarrow": false,
          "text": "Arya Stark",
          "x": 0.5,
          "y": 0.5
         },
         {
          "showarrow": false,
          "text": "Sansa Stark",
          "x": 0.5,
          "y": 0.4
         },
         {
          "showarrow": false,
          "text": "Brandon Stark",
          "x": 0.5,
          "y": 0.30000000000000004
         },
         {
          "showarrow": false,
          "text": "Ned Stark",
          "x": 0.5,
          "y": 0.19999999999999996
         },
         {
          "showarrow": false,
          "text": "Robert Baratheon",
          "x": 0.5,
          "y": 0.09999999999999998
         },
         {
          "showarrow": false,
          "text": "Jamie Lannister",
          "x": 0.5,
          "y": 0
         },
         {
          "showarrow": false,
          "text": "Cersei Lannister",
          "x": 0.5,
          "y": -0.09999999999999998
         },
         {
          "showarrow": false,
          "text": "Catelyn Stark",
          "x": 0.5,
          "y": -0.19999999999999996
         },
         {
          "showarrow": false,
          "text": "Rob Stark",
          "x": 0.5,
          "y": -0.30000000000000004
         },
         {
          "showarrow": false,
          "text": "Theon Greyjoy",
          "x": 0.5,
          "y": -0.40000000000000013
         },
         {
          "showarrow": false,
          "text": "Joffrey Baratheon",
          "x": 0.5,
          "y": -0.5
         },
         {
          "showarrow": false,
          "text": "Tyrion Lannister",
          "x": 0.5,
          "y": -0.6000000000000001
         },
         {
          "showarrow": false,
          "text": "The Hound",
          "x": 0.5,
          "y": -0.7
         },
         {
          "showarrow": false,
          "text": "Petyr Baelish",
          "x": 0.5,
          "y": -0.8
         },
         {
          "showarrow": false,
          "text": "Davos Seaworth",
          "x": 0.5,
          "y": -0.9000000000000001
         },
         {
          "showarrow": false,
          "text": "Stannis Baratheon",
          "x": 0.5,
          "y": -1
         },
         {
          "showarrow": false,
          "text": "Varys",
          "x": 0.5,
          "y": -1.1
         },
         {
          "showarrow": false,
          "text": "Khal Drogo",
          "x": 0.5,
          "y": -1.2
         },
         {
          "showarrow": false,
          "text": "Margaery Tyrell",
          "x": 0.5,
          "y": -1.3
         },
         {
          "showarrow": false,
          "text": "Ygritte",
          "x": 0.5,
          "y": -1.4000000000000001
         },
         {
          "showarrow": false,
          "text": "Brienne of Tarth",
          "x": 0.5,
          "y": -1.5000000000000002
         },
         {
          "showarrow": false,
          "text": "Missandei",
          "x": 0.5,
          "y": -1.6000000000000003
         },
         {
          "showarrow": false,
          "text": "Gilly",
          "x": 0.5,
          "y": -1.7
         },
         {
          "showarrow": false,
          "text": "Viserys Targaryn",
          "x": 0.5,
          "y": -1.8
         },
         {
          "showarrow": false,
          "text": "Rickon Stark",
          "x": 0.5,
          "y": -1.9000000000000001
         },
         {
          "showarrow": false,
          "text": "Roose Bolton",
          "x": 0.5,
          "y": -2
         },
         {
          "showarrow": false,
          "text": "Daario",
          "x": 0.5,
          "y": -2.1000000000000005
         },
         {
          "showarrow": false,
          "text": "Shae",
          "x": 0.5,
          "y": -2.2
         },
         {
          "showarrow": false,
          "text": "Tommen Baratheon",
          "x": 0.5,
          "y": -2.3
         },
         {
          "showarrow": false,
          "text": "Gendry Baratheon",
          "x": 0.5,
          "y": -2.4000000000000004
         },
         {
          "showarrow": false,
          "text": "Jorah Mormont",
          "x": 0.5,
          "y": -2.5
         },
         {
          "showarrow": false,
          "text": "Robert Baratheon",
          "x": 0.5,
          "y": -2.6000000000000005
         },
         {
          "showarrow": false,
          "text": "Ramsey Bolton",
          "x": 0.5,
          "y": -2.7
         },
         {
          "showarrow": false,
          "text": "Talisa Stark",
          "x": 0.5,
          "y": -2.8
         },
         {
          "showarrow": false,
          "text": "Jeor Mormont",
          "x": 0.5,
          "y": -2.9000000000000004
         },
         {
          "showarrow": false,
          "text": "The High Sparrow",
          "x": 0.5,
          "y": -3
         },
         {
          "showarrow": false,
          "text": "Oberyn Martell",
          "x": 0.5,
          "y": -3.1000000000000005
         },
         {
          "showarrow": false,
          "text": "Melisandre",
          "x": 0.5,
          "y": -3.2
         },
         {
          "showarrow": false,
          "text": "Jaqen H'ghar",
          "x": 0.5,
          "y": -3.3000000000000007
         },
         {
          "showarrow": false,
          "text": "Tywin Lannister",
          "x": 0.5,
          "y": -3.4000000000000004
         },
         {
          "showarrow": false,
          "text": "Ellaria Sand",
          "x": 0.5,
          "y": -3.5
         },
         {
          "showarrow": false,
          "text": "Tormund Giantsbane",
          "x": 0.5,
          "y": -3.6000000000000005
         },
         {
          "showarrow": false,
          "text": "Yara Greyjoy",
          "x": 0.5,
          "y": -3.7
         },
         {
          "showarrow": false,
          "text": "Euron Greyjoy",
          "x": 0.5,
          "y": -3.8000000000000007
         },
         {
          "showarrow": false,
          "text": "Hodor",
          "x": 0.5,
          "y": -3.9000000000000004
         },
         {
          "showarrow": false,
          "text": "Pycelle",
          "x": 0.5,
          "y": -4.000000000000001
         },
         {
          "showarrow": false,
          "text": "Grey Worm",
          "x": 0.5,
          "y": -4.1000000000000005
         },
         {
          "showarrow": false,
          "text": "Olenna Tyrell",
          "x": 0.5,
          "y": -4.2
         },
         {
          "showarrow": false,
          "text": "Qyburn",
          "x": 0.5,
          "y": -4.300000000000001
         },
         {
          "showarrow": false,
          "text": "Lord Bronn",
          "x": 0.5,
          "y": -4.4
         }
        ],
        "images": [
         {
          "sizex": 50,
          "sizey": 50,
          "source": "https://thronesapi.com/assets/images/https://thronesapi.com/assets/images/daenerys.jpg",
          "x": 0.1,
          "y": 0.8
         },
         {
          "sizex": 50,
          "sizey": 50,
          "source": "https://thronesapi.com/assets/images/https://thronesapi.com/assets/images/sam.jpg",
          "x": 0.1,
          "y": 0.7000000000000001
         },
         {
          "sizex": 50,
          "sizey": 50,
          "source": "https://thronesapi.com/assets/images/https://thronesapi.com/assets/images/jon-snow.jpg",
          "x": 0.1,
          "y": 0.6000000000000001
         },
         {
          "sizex": 50,
          "sizey": 50,
          "source": "https://thronesapi.com/assets/images/https://thronesapi.com/assets/images/arya-stark.jpg",
          "x": 0.1,
          "y": 0.5
         },
         {
          "sizex": 50,
          "sizey": 50,
          "source": "https://thronesapi.com/assets/images/https://thronesapi.com/assets/images/sansa-stark.jpeg",
          "x": 0.1,
          "y": 0.4
         },
         {
          "sizex": 50,
          "sizey": 50,
          "source": "https://thronesapi.com/assets/images/https://thronesapi.com/assets/images/bran-stark.jpg",
          "x": 0.1,
          "y": 0.30000000000000004
         },
         {
          "sizex": 50,
          "sizey": 50,
          "source": "https://thronesapi.com/assets/images/https://thronesapi.com/assets/images/ned-stark.jpg",
          "x": 0.1,
          "y": 0.19999999999999996
         },
         {
          "sizex": 50,
          "sizey": 50,
          "source": "https://thronesapi.com/assets/images/https://thronesapi.com/assets/images/robert-baratheon.jpeg",
          "x": 0.1,
          "y": 0.09999999999999998
         },
         {
          "sizex": 50,
          "sizey": 50,
          "source": "https://thronesapi.com/assets/images/https://thronesapi.com/assets/images/jaime-lannister.jpg",
          "x": 0.1,
          "y": 0
         },
         {
          "sizex": 50,
          "sizey": 50,
          "source": "https://thronesapi.com/assets/images/https://thronesapi.com/assets/images/cersei.jpg",
          "x": 0.1,
          "y": -0.09999999999999998
         },
         {
          "sizex": 50,
          "sizey": 50,
          "source": "https://thronesapi.com/assets/images/https://thronesapi.com/assets/images/catelyn-stark.jpg",
          "x": 0.1,
          "y": -0.19999999999999996
         },
         {
          "sizex": 50,
          "sizey": 50,
          "source": "https://thronesapi.com/assets/images/https://thronesapi.com/assets/images/robb-stark.jpg",
          "x": 0.1,
          "y": -0.30000000000000004
         },
         {
          "sizex": 50,
          "sizey": 50,
          "source": "https://thronesapi.com/assets/images/https://thronesapi.com/assets/images/theon.jpg",
          "x": 0.1,
          "y": -0.40000000000000013
         },
         {
          "sizex": 50,
          "sizey": 50,
          "source": "https://thronesapi.com/assets/images/https://thronesapi.com/assets/images/joffrey.jpg",
          "x": 0.1,
          "y": -0.5
         },
         {
          "sizex": 50,
          "sizey": 50,
          "source": "https://thronesapi.com/assets/images/https://thronesapi.com/assets/images/tyrion-lannister.jpg",
          "x": 0.1,
          "y": -0.6000000000000001
         },
         {
          "sizex": 50,
          "sizey": 50,
          "source": "https://thronesapi.com/assets/images/https://thronesapi.com/assets/images/the-hound.jpg",
          "x": 0.1,
          "y": -0.7
         },
         {
          "sizex": 50,
          "sizey": 50,
          "source": "https://thronesapi.com/assets/images/https://thronesapi.com/assets/images/littlefinger.jpg",
          "x": 0.1,
          "y": -0.8
         },
         {
          "sizex": 50,
          "sizey": 50,
          "source": "https://thronesapi.com/assets/images/https://thronesapi.com/assets/images/davos-seaworth.png",
          "x": 0.1,
          "y": -0.9000000000000001
         },
         {
          "sizex": 50,
          "sizey": 50,
          "source": "https://thronesapi.com/assets/images/https://thronesapi.com/assets/images/stannis.jpg",
          "x": 0.1,
          "y": -1
         },
         {
          "sizex": 50,
          "sizey": 50,
          "source": "https://thronesapi.com/assets/images/https://thronesapi.com/assets/images/varys.jpg",
          "x": 0.1,
          "y": -1.1
         },
         {
          "sizex": 50,
          "sizey": 50,
          "source": "https://thronesapi.com/assets/images/https://thronesapi.com/assets/images/khal-drogo.jpg",
          "x": 0.1,
          "y": -1.2
         },
         {
          "sizex": 50,
          "sizey": 50,
          "source": "https://thronesapi.com/assets/images/https://thronesapi.com/assets/images/margaery-tyrell.jpg",
          "x": 0.1,
          "y": -1.3
         },
         {
          "sizex": 50,
          "sizey": 50,
          "source": "https://thronesapi.com/assets/images/https://thronesapi.com/assets/images/ygritte.jpg",
          "x": 0.1,
          "y": -1.4000000000000001
         },
         {
          "sizex": 50,
          "sizey": 50,
          "source": "https://thronesapi.com/assets/images/https://thronesapi.com/assets/images/brienne-tarth.jpeg",
          "x": 0.1,
          "y": -1.5000000000000002
         },
         {
          "sizex": 50,
          "sizey": 50,
          "source": "https://thronesapi.com/assets/images/https://thronesapi.com/assets/images/missandei.jpeg",
          "x": 0.1,
          "y": -1.6000000000000003
         },
         {
          "sizex": 50,
          "sizey": 50,
          "source": "https://thronesapi.com/assets/images/https://thronesapi.com/assets/images/gilly.jpg",
          "x": 0.1,
          "y": -1.7
         },
         {
          "sizex": 50,
          "sizey": 50,
          "source": "https://thronesapi.com/assets/images/https://thronesapi.com/assets/images/viserys-targaryan.jpg",
          "x": 0.1,
          "y": -1.8
         },
         {
          "sizex": 50,
          "sizey": 50,
          "source": "https://thronesapi.com/assets/images/https://thronesapi.com/assets/images/rickon.jpg",
          "x": 0.1,
          "y": -1.9000000000000001
         },
         {
          "sizex": 50,
          "sizey": 50,
          "source": "https://thronesapi.com/assets/images/https://thronesapi.com/assets/images/roose-bolton.jpg",
          "x": 0.1,
          "y": -2
         },
         {
          "sizex": 50,
          "sizey": 50,
          "source": "https://thronesapi.com/assets/images/https://thronesapi.com/assets/images/daario.jpg",
          "x": 0.1,
          "y": -2.1000000000000005
         },
         {
          "sizex": 50,
          "sizey": 50,
          "source": "https://thronesapi.com/assets/images/https://thronesapi.com/assets/images/shae.jpg",
          "x": 0.1,
          "y": -2.2
         },
         {
          "sizex": 50,
          "sizey": 50,
          "source": "https://thronesapi.com/assets/images/https://thronesapi.com/assets/images/tommen.jpg",
          "x": 0.1,
          "y": -2.3
         },
         {
          "sizex": 50,
          "sizey": 50,
          "source": "https://thronesapi.com/assets/images/https://thronesapi.com/assets/images/gendry.jpg",
          "x": 0.1,
          "y": -2.4000000000000004
         },
         {
          "sizex": 50,
          "sizey": 50,
          "source": "https://thronesapi.com/assets/images/https://thronesapi.com/assets/images/jorah-mormont.jpg",
          "x": 0.1,
          "y": -2.5
         },
         {
          "sizex": 50,
          "sizey": 50,
          "source": "https://thronesapi.com/assets/images/https://thronesapi.com/assets/images/king-robert.jpg",
          "x": 0.1,
          "y": -2.6000000000000005
         },
         {
          "sizex": 50,
          "sizey": 50,
          "source": "https://thronesapi.com/assets/images/https://thronesapi.com/assets/images/ramsey-bolton.jpg",
          "x": 0.1,
          "y": -2.7
         },
         {
          "sizex": 50,
          "sizey": 50,
          "source": "https://thronesapi.com/assets/images/https://thronesapi.com/assets/images/talisa-stark.jpg",
          "x": 0.1,
          "y": -2.8
         },
         {
          "sizex": 50,
          "sizey": 50,
          "source": "https://thronesapi.com/assets/images/https://thronesapi.com/assets/images/lord-commander-mormont.jpg",
          "x": 0.1,
          "y": -2.9000000000000004
         },
         {
          "sizex": 50,
          "sizey": 50,
          "source": "https://thronesapi.com/assets/images/https://thronesapi.com/assets/images/the-high-sparrow.jpg",
          "x": 0.1,
          "y": -3
         },
         {
          "sizex": 50,
          "sizey": 50,
          "source": "https://thronesapi.com/assets/images/https://thronesapi.com/assets/images/red-viper.jpg",
          "x": 0.1,
          "y": -3.1000000000000005
         },
         {
          "sizex": 50,
          "sizey": 50,
          "source": "https://thronesapi.com/assets/images/https://thronesapi.com/assets/images/melisandre.jpg",
          "x": 0.1,
          "y": -3.2
         },
         {
          "sizex": 50,
          "sizey": 50,
          "source": "https://thronesapi.com/assets/images/https://thronesapi.com/assets/images/jaqen-hghar.jpg",
          "x": 0.1,
          "y": -3.3000000000000007
         },
         {
          "sizex": 50,
          "sizey": 50,
          "source": "https://thronesapi.com/assets/images/https://thronesapi.com/assets/images/tywin-lannister.jpg",
          "x": 0.1,
          "y": -3.4000000000000004
         },
         {
          "sizex": 50,
          "sizey": 50,
          "source": "https://thronesapi.com/assets/images/https://thronesapi.com/assets/images/ellaria-sand.jpg",
          "x": 0.1,
          "y": -3.5
         },
         {
          "sizex": 50,
          "sizey": 50,
          "source": "https://thronesapi.com/assets/images/https://thronesapi.com/assets/images/tormund-giantsbane.jpg",
          "x": 0.1,
          "y": -3.6000000000000005
         },
         {
          "sizex": 50,
          "sizey": 50,
          "source": "https://thronesapi.com/assets/images/https://thronesapi.com/assets/images/yara-greyjoy.jpg",
          "x": 0.1,
          "y": -3.7
         },
         {
          "sizex": 50,
          "sizey": 50,
          "source": "https://thronesapi.com/assets/images/https://thronesapi.com/assets/images/euron-greyjoy.jpg",
          "x": 0.1,
          "y": -3.8000000000000007
         },
         {
          "sizex": 50,
          "sizey": 50,
          "source": "https://thronesapi.com/assets/images/https://thronesapi.com/assets/images/hodor.jpg",
          "x": 0.1,
          "y": -3.9000000000000004
         },
         {
          "sizex": 50,
          "sizey": 50,
          "source": "https://thronesapi.com/assets/images/https://thronesapi.com/assets/images/pycelle.jpg",
          "x": 0.1,
          "y": -4.000000000000001
         },
         {
          "sizex": 50,
          "sizey": 50,
          "source": "https://thronesapi.com/assets/images/https://thronesapi.com/assets/images/greyworm.jpg",
          "x": 0.1,
          "y": -4.1000000000000005
         },
         {
          "sizex": 50,
          "sizey": 50,
          "source": "https://thronesapi.com/assets/images/https://thronesapi.com/assets/images/olenna-tyrell.jpg",
          "x": 0.1,
          "y": -4.2
         },
         {
          "sizex": 50,
          "sizey": 50,
          "source": "https://thronesapi.com/assets/images/https://thronesapi.com/assets/images/qyburn.jpg",
          "x": 0.1,
          "y": -4.300000000000001
         },
         {
          "sizex": 50,
          "sizey": 50,
          "source": "https://thronesapi.com/assets/images/https://thronesapi.com/assets/images/bronn.jpg",
          "x": 0.1,
          "y": -4.4
         }
        ],
        "template": {
         "data": {
          "bar": [
           {
            "error_x": {
             "color": "#2a3f5f"
            },
            "error_y": {
             "color": "#2a3f5f"
            },
            "marker": {
             "line": {
              "color": "#E5ECF6",
              "width": 0.5
             },
             "pattern": {
              "fillmode": "overlay",
              "size": 10,
              "solidity": 0.2
             }
            },
            "type": "bar"
           }
          ],
          "barpolar": [
           {
            "marker": {
             "line": {
              "color": "#E5ECF6",
              "width": 0.5
             },
             "pattern": {
              "fillmode": "overlay",
              "size": 10,
              "solidity": 0.2
             }
            },
            "type": "barpolar"
           }
          ],
          "carpet": [
           {
            "aaxis": {
             "endlinecolor": "#2a3f5f",
             "gridcolor": "white",
             "linecolor": "white",
             "minorgridcolor": "white",
             "startlinecolor": "#2a3f5f"
            },
            "baxis": {
             "endlinecolor": "#2a3f5f",
             "gridcolor": "white",
             "linecolor": "white",
             "minorgridcolor": "white",
             "startlinecolor": "#2a3f5f"
            },
            "type": "carpet"
           }
          ],
          "choropleth": [
           {
            "colorbar": {
             "outlinewidth": 0,
             "ticks": ""
            },
            "type": "choropleth"
           }
          ],
          "contour": [
           {
            "colorbar": {
             "outlinewidth": 0,
             "ticks": ""
            },
            "colorscale": [
             [
              0,
              "#0d0887"
             ],
             [
              0.1111111111111111,
              "#46039f"
             ],
             [
              0.2222222222222222,
              "#7201a8"
             ],
             [
              0.3333333333333333,
              "#9c179e"
             ],
             [
              0.4444444444444444,
              "#bd3786"
             ],
             [
              0.5555555555555556,
              "#d8576b"
             ],
             [
              0.6666666666666666,
              "#ed7953"
             ],
             [
              0.7777777777777778,
              "#fb9f3a"
             ],
             [
              0.8888888888888888,
              "#fdca26"
             ],
             [
              1,
              "#f0f921"
             ]
            ],
            "type": "contour"
           }
          ],
          "contourcarpet": [
           {
            "colorbar": {
             "outlinewidth": 0,
             "ticks": ""
            },
            "type": "contourcarpet"
           }
          ],
          "heatmap": [
           {
            "colorbar": {
             "outlinewidth": 0,
             "ticks": ""
            },
            "colorscale": [
             [
              0,
              "#0d0887"
             ],
             [
              0.1111111111111111,
              "#46039f"
             ],
             [
              0.2222222222222222,
              "#7201a8"
             ],
             [
              0.3333333333333333,
              "#9c179e"
             ],
             [
              0.4444444444444444,
              "#bd3786"
             ],
             [
              0.5555555555555556,
              "#d8576b"
             ],
             [
              0.6666666666666666,
              "#ed7953"
             ],
             [
              0.7777777777777778,
              "#fb9f3a"
             ],
             [
              0.8888888888888888,
              "#fdca26"
             ],
             [
              1,
              "#f0f921"
             ]
            ],
            "type": "heatmap"
           }
          ],
          "heatmapgl": [
           {
            "colorbar": {
             "outlinewidth": 0,
             "ticks": ""
            },
            "colorscale": [
             [
              0,
              "#0d0887"
             ],
             [
              0.1111111111111111,
              "#46039f"
             ],
             [
              0.2222222222222222,
              "#7201a8"
             ],
             [
              0.3333333333333333,
              "#9c179e"
             ],
             [
              0.4444444444444444,
              "#bd3786"
             ],
             [
              0.5555555555555556,
              "#d8576b"
             ],
             [
              0.6666666666666666,
              "#ed7953"
             ],
             [
              0.7777777777777778,
              "#fb9f3a"
             ],
             [
              0.8888888888888888,
              "#fdca26"
             ],
             [
              1,
              "#f0f921"
             ]
            ],
            "type": "heatmapgl"
           }
          ],
          "histogram": [
           {
            "marker": {
             "pattern": {
              "fillmode": "overlay",
              "size": 10,
              "solidity": 0.2
             }
            },
            "type": "histogram"
           }
          ],
          "histogram2d": [
           {
            "colorbar": {
             "outlinewidth": 0,
             "ticks": ""
            },
            "colorscale": [
             [
              0,
              "#0d0887"
             ],
             [
              0.1111111111111111,
              "#46039f"
             ],
             [
              0.2222222222222222,
              "#7201a8"
             ],
             [
              0.3333333333333333,
              "#9c179e"
             ],
             [
              0.4444444444444444,
              "#bd3786"
             ],
             [
              0.5555555555555556,
              "#d8576b"
             ],
             [
              0.6666666666666666,
              "#ed7953"
             ],
             [
              0.7777777777777778,
              "#fb9f3a"
             ],
             [
              0.8888888888888888,
              "#fdca26"
             ],
             [
              1,
              "#f0f921"
             ]
            ],
            "type": "histogram2d"
           }
          ],
          "histogram2dcontour": [
           {
            "colorbar": {
             "outlinewidth": 0,
             "ticks": ""
            },
            "colorscale": [
             [
              0,
              "#0d0887"
             ],
             [
              0.1111111111111111,
              "#46039f"
             ],
             [
              0.2222222222222222,
              "#7201a8"
             ],
             [
              0.3333333333333333,
              "#9c179e"
             ],
             [
              0.4444444444444444,
              "#bd3786"
             ],
             [
              0.5555555555555556,
              "#d8576b"
             ],
             [
              0.6666666666666666,
              "#ed7953"
             ],
             [
              0.7777777777777778,
              "#fb9f3a"
             ],
             [
              0.8888888888888888,
              "#fdca26"
             ],
             [
              1,
              "#f0f921"
             ]
            ],
            "type": "histogram2dcontour"
           }
          ],
          "mesh3d": [
           {
            "colorbar": {
             "outlinewidth": 0,
             "ticks": ""
            },
            "type": "mesh3d"
           }
          ],
          "parcoords": [
           {
            "line": {
             "colorbar": {
              "outlinewidth": 0,
              "ticks": ""
             }
            },
            "type": "parcoords"
           }
          ],
          "pie": [
           {
            "automargin": true,
            "type": "pie"
           }
          ],
          "scatter": [
           {
            "fillpattern": {
             "fillmode": "overlay",
             "size": 10,
             "solidity": 0.2
            },
            "type": "scatter"
           }
          ],
          "scatter3d": [
           {
            "line": {
             "colorbar": {
              "outlinewidth": 0,
              "ticks": ""
             }
            },
            "marker": {
             "colorbar": {
              "outlinewidth": 0,
              "ticks": ""
             }
            },
            "type": "scatter3d"
           }
          ],
          "scattercarpet": [
           {
            "marker": {
             "colorbar": {
              "outlinewidth": 0,
              "ticks": ""
             }
            },
            "type": "scattercarpet"
           }
          ],
          "scattergeo": [
           {
            "marker": {
             "colorbar": {
              "outlinewidth": 0,
              "ticks": ""
             }
            },
            "type": "scattergeo"
           }
          ],
          "scattergl": [
           {
            "marker": {
             "colorbar": {
              "outlinewidth": 0,
              "ticks": ""
             }
            },
            "type": "scattergl"
           }
          ],
          "scattermapbox": [
           {
            "marker": {
             "colorbar": {
              "outlinewidth": 0,
              "ticks": ""
             }
            },
            "type": "scattermapbox"
           }
          ],
          "scatterpolar": [
           {
            "marker": {
             "colorbar": {
              "outlinewidth": 0,
              "ticks": ""
             }
            },
            "type": "scatterpolar"
           }
          ],
          "scatterpolargl": [
           {
            "marker": {
             "colorbar": {
              "outlinewidth": 0,
              "ticks": ""
             }
            },
            "type": "scatterpolargl"
           }
          ],
          "scatterternary": [
           {
            "marker": {
             "colorbar": {
              "outlinewidth": 0,
              "ticks": ""
             }
            },
            "type": "scatterternary"
           }
          ],
          "surface": [
           {
            "colorbar": {
             "outlinewidth": 0,
             "ticks": ""
            },
            "colorscale": [
             [
              0,
              "#0d0887"
             ],
             [
              0.1111111111111111,
              "#46039f"
             ],
             [
              0.2222222222222222,
              "#7201a8"
             ],
             [
              0.3333333333333333,
              "#9c179e"
             ],
             [
              0.4444444444444444,
              "#bd3786"
             ],
             [
              0.5555555555555556,
              "#d8576b"
             ],
             [
              0.6666666666666666,
              "#ed7953"
             ],
             [
              0.7777777777777778,
              "#fb9f3a"
             ],
             [
              0.8888888888888888,
              "#fdca26"
             ],
             [
              1,
              "#f0f921"
             ]
            ],
            "type": "surface"
           }
          ],
          "table": [
           {
            "cells": {
             "fill": {
              "color": "#EBF0F8"
             },
             "line": {
              "color": "white"
             }
            },
            "header": {
             "fill": {
              "color": "#C8D4E3"
             },
             "line": {
              "color": "white"
             }
            },
            "type": "table"
           }
          ]
         },
         "layout": {
          "annotationdefaults": {
           "arrowcolor": "#2a3f5f",
           "arrowhead": 0,
           "arrowwidth": 1
          },
          "autotypenumbers": "strict",
          "coloraxis": {
           "colorbar": {
            "outlinewidth": 0,
            "ticks": ""
           }
          },
          "colorscale": {
           "diverging": [
            [
             0,
             "#8e0152"
            ],
            [
             0.1,
             "#c51b7d"
            ],
            [
             0.2,
             "#de77ae"
            ],
            [
             0.3,
             "#f1b6da"
            ],
            [
             0.4,
             "#fde0ef"
            ],
            [
             0.5,
             "#f7f7f7"
            ],
            [
             0.6,
             "#e6f5d0"
            ],
            [
             0.7,
             "#b8e186"
            ],
            [
             0.8,
             "#7fbc41"
            ],
            [
             0.9,
             "#4d9221"
            ],
            [
             1,
             "#276419"
            ]
           ],
           "sequential": [
            [
             0,
             "#0d0887"
            ],
            [
             0.1111111111111111,
             "#46039f"
            ],
            [
             0.2222222222222222,
             "#7201a8"
            ],
            [
             0.3333333333333333,
             "#9c179e"
            ],
            [
             0.4444444444444444,
             "#bd3786"
            ],
            [
             0.5555555555555556,
             "#d8576b"
            ],
            [
             0.6666666666666666,
             "#ed7953"
            ],
            [
             0.7777777777777778,
             "#fb9f3a"
            ],
            [
             0.8888888888888888,
             "#fdca26"
            ],
            [
             1,
             "#f0f921"
            ]
           ],
           "sequentialminus": [
            [
             0,
             "#0d0887"
            ],
            [
             0.1111111111111111,
             "#46039f"
            ],
            [
             0.2222222222222222,
             "#7201a8"
            ],
            [
             0.3333333333333333,
             "#9c179e"
            ],
            [
             0.4444444444444444,
             "#bd3786"
            ],
            [
             0.5555555555555556,
             "#d8576b"
            ],
            [
             0.6666666666666666,
             "#ed7953"
            ],
            [
             0.7777777777777778,
             "#fb9f3a"
            ],
            [
             0.8888888888888888,
             "#fdca26"
            ],
            [
             1,
             "#f0f921"
            ]
           ]
          },
          "colorway": [
           "#636efa",
           "#EF553B",
           "#00cc96",
           "#ab63fa",
           "#FFA15A",
           "#19d3f3",
           "#FF6692",
           "#B6E880",
           "#FF97FF",
           "#FECB52"
          ],
          "font": {
           "color": "#2a3f5f"
          },
          "geo": {
           "bgcolor": "white",
           "lakecolor": "white",
           "landcolor": "#E5ECF6",
           "showlakes": true,
           "showland": true,
           "subunitcolor": "white"
          },
          "hoverlabel": {
           "align": "left"
          },
          "hovermode": "closest",
          "mapbox": {
           "style": "light"
          },
          "paper_bgcolor": "white",
          "plot_bgcolor": "#E5ECF6",
          "polar": {
           "angularaxis": {
            "gridcolor": "white",
            "linecolor": "white",
            "ticks": ""
           },
           "bgcolor": "#E5ECF6",
           "radialaxis": {
            "gridcolor": "white",
            "linecolor": "white",
            "ticks": ""
           }
          },
          "scene": {
           "xaxis": {
            "backgroundcolor": "#E5ECF6",
            "gridcolor": "white",
            "gridwidth": 2,
            "linecolor": "white",
            "showbackground": true,
            "ticks": "",
            "zerolinecolor": "white"
           },
           "yaxis": {
            "backgroundcolor": "#E5ECF6",
            "gridcolor": "white",
            "gridwidth": 2,
            "linecolor": "white",
            "showbackground": true,
            "ticks": "",
            "zerolinecolor": "white"
           },
           "zaxis": {
            "backgroundcolor": "#E5ECF6",
            "gridcolor": "white",
            "gridwidth": 2,
            "linecolor": "white",
            "showbackground": true,
            "ticks": "",
            "zerolinecolor": "white"
           }
          },
          "shapedefaults": {
           "line": {
            "color": "#2a3f5f"
           }
          },
          "ternary": {
           "aaxis": {
            "gridcolor": "white",
            "linecolor": "white",
            "ticks": ""
           },
           "baxis": {
            "gridcolor": "white",
            "linecolor": "white",
            "ticks": ""
           },
           "bgcolor": "#E5ECF6",
           "caxis": {
            "gridcolor": "white",
            "linecolor": "white",
            "ticks": ""
           }
          },
          "title": {
           "x": 0.05
          },
          "xaxis": {
           "automargin": true,
           "gridcolor": "white",
           "linecolor": "white",
           "ticks": "",
           "title": {
            "standoff": 15
           },
           "zerolinecolor": "white",
           "zerolinewidth": 2
          },
          "yaxis": {
           "automargin": true,
           "gridcolor": "white",
           "linecolor": "white",
           "ticks": "",
           "title": {
            "standoff": 15
           },
           "zerolinecolor": "white",
           "zerolinewidth": 2
          }
         }
        },
        "title": {
         "text": "Game of Thrones Characters"
        },
        "xaxis": {
         "showticklabels": false
        },
        "yaxis": {
         "showticklabels": false
        }
       }
      },
      "text/html": [
       "<div>                            <div id=\"4771d053-48e2-4e10-99fe-d3a12c57673d\" class=\"plotly-graph-div\" style=\"height:525px; width:100%;\"></div>            <script type=\"text/javascript\">                require([\"plotly\"], function(Plotly) {                    window.PLOTLYENV=window.PLOTLYENV || {};                                    if (document.getElementById(\"4771d053-48e2-4e10-99fe-d3a12c57673d\")) {                    Plotly.newPlot(                        \"4771d053-48e2-4e10-99fe-d3a12c57673d\",                        [],                        {\"template\":{\"data\":{\"histogram2dcontour\":[{\"type\":\"histogram2dcontour\",\"colorbar\":{\"outlinewidth\":0,\"ticks\":\"\"},\"colorscale\":[[0.0,\"#0d0887\"],[0.1111111111111111,\"#46039f\"],[0.2222222222222222,\"#7201a8\"],[0.3333333333333333,\"#9c179e\"],[0.4444444444444444,\"#bd3786\"],[0.5555555555555556,\"#d8576b\"],[0.6666666666666666,\"#ed7953\"],[0.7777777777777778,\"#fb9f3a\"],[0.8888888888888888,\"#fdca26\"],[1.0,\"#f0f921\"]]}],\"choropleth\":[{\"type\":\"choropleth\",\"colorbar\":{\"outlinewidth\":0,\"ticks\":\"\"}}],\"histogram2d\":[{\"type\":\"histogram2d\",\"colorbar\":{\"outlinewidth\":0,\"ticks\":\"\"},\"colorscale\":[[0.0,\"#0d0887\"],[0.1111111111111111,\"#46039f\"],[0.2222222222222222,\"#7201a8\"],[0.3333333333333333,\"#9c179e\"],[0.4444444444444444,\"#bd3786\"],[0.5555555555555556,\"#d8576b\"],[0.6666666666666666,\"#ed7953\"],[0.7777777777777778,\"#fb9f3a\"],[0.8888888888888888,\"#fdca26\"],[1.0,\"#f0f921\"]]}],\"heatmap\":[{\"type\":\"heatmap\",\"colorbar\":{\"outlinewidth\":0,\"ticks\":\"\"},\"colorscale\":[[0.0,\"#0d0887\"],[0.1111111111111111,\"#46039f\"],[0.2222222222222222,\"#7201a8\"],[0.3333333333333333,\"#9c179e\"],[0.4444444444444444,\"#bd3786\"],[0.5555555555555556,\"#d8576b\"],[0.6666666666666666,\"#ed7953\"],[0.7777777777777778,\"#fb9f3a\"],[0.8888888888888888,\"#fdca26\"],[1.0,\"#f0f921\"]]}],\"heatmapgl\":[{\"type\":\"heatmapgl\",\"colorbar\":{\"outlinewidth\":0,\"ticks\":\"\"},\"colorscale\":[[0.0,\"#0d0887\"],[0.1111111111111111,\"#46039f\"],[0.2222222222222222,\"#7201a8\"],[0.3333333333333333,\"#9c179e\"],[0.4444444444444444,\"#bd3786\"],[0.5555555555555556,\"#d8576b\"],[0.6666666666666666,\"#ed7953\"],[0.7777777777777778,\"#fb9f3a\"],[0.8888888888888888,\"#fdca26\"],[1.0,\"#f0f921\"]]}],\"contourcarpet\":[{\"type\":\"contourcarpet\",\"colorbar\":{\"outlinewidth\":0,\"ticks\":\"\"}}],\"contour\":[{\"type\":\"contour\",\"colorbar\":{\"outlinewidth\":0,\"ticks\":\"\"},\"colorscale\":[[0.0,\"#0d0887\"],[0.1111111111111111,\"#46039f\"],[0.2222222222222222,\"#7201a8\"],[0.3333333333333333,\"#9c179e\"],[0.4444444444444444,\"#bd3786\"],[0.5555555555555556,\"#d8576b\"],[0.6666666666666666,\"#ed7953\"],[0.7777777777777778,\"#fb9f3a\"],[0.8888888888888888,\"#fdca26\"],[1.0,\"#f0f921\"]]}],\"surface\":[{\"type\":\"surface\",\"colorbar\":{\"outlinewidth\":0,\"ticks\":\"\"},\"colorscale\":[[0.0,\"#0d0887\"],[0.1111111111111111,\"#46039f\"],[0.2222222222222222,\"#7201a8\"],[0.3333333333333333,\"#9c179e\"],[0.4444444444444444,\"#bd3786\"],[0.5555555555555556,\"#d8576b\"],[0.6666666666666666,\"#ed7953\"],[0.7777777777777778,\"#fb9f3a\"],[0.8888888888888888,\"#fdca26\"],[1.0,\"#f0f921\"]]}],\"mesh3d\":[{\"type\":\"mesh3d\",\"colorbar\":{\"outlinewidth\":0,\"ticks\":\"\"}}],\"scatter\":[{\"fillpattern\":{\"fillmode\":\"overlay\",\"size\":10,\"solidity\":0.2},\"type\":\"scatter\"}],\"parcoords\":[{\"type\":\"parcoords\",\"line\":{\"colorbar\":{\"outlinewidth\":0,\"ticks\":\"\"}}}],\"scatterpolargl\":[{\"type\":\"scatterpolargl\",\"marker\":{\"colorbar\":{\"outlinewidth\":0,\"ticks\":\"\"}}}],\"bar\":[{\"error_x\":{\"color\":\"#2a3f5f\"},\"error_y\":{\"color\":\"#2a3f5f\"},\"marker\":{\"line\":{\"color\":\"#E5ECF6\",\"width\":0.5},\"pattern\":{\"fillmode\":\"overlay\",\"size\":10,\"solidity\":0.2}},\"type\":\"bar\"}],\"scattergeo\":[{\"type\":\"scattergeo\",\"marker\":{\"colorbar\":{\"outlinewidth\":0,\"ticks\":\"\"}}}],\"scatterpolar\":[{\"type\":\"scatterpolar\",\"marker\":{\"colorbar\":{\"outlinewidth\":0,\"ticks\":\"\"}}}],\"histogram\":[{\"marker\":{\"pattern\":{\"fillmode\":\"overlay\",\"size\":10,\"solidity\":0.2}},\"type\":\"histogram\"}],\"scattergl\":[{\"type\":\"scattergl\",\"marker\":{\"colorbar\":{\"outlinewidth\":0,\"ticks\":\"\"}}}],\"scatter3d\":[{\"type\":\"scatter3d\",\"line\":{\"colorbar\":{\"outlinewidth\":0,\"ticks\":\"\"}},\"marker\":{\"colorbar\":{\"outlinewidth\":0,\"ticks\":\"\"}}}],\"scattermapbox\":[{\"type\":\"scattermapbox\",\"marker\":{\"colorbar\":{\"outlinewidth\":0,\"ticks\":\"\"}}}],\"scatterternary\":[{\"type\":\"scatterternary\",\"marker\":{\"colorbar\":{\"outlinewidth\":0,\"ticks\":\"\"}}}],\"scattercarpet\":[{\"type\":\"scattercarpet\",\"marker\":{\"colorbar\":{\"outlinewidth\":0,\"ticks\":\"\"}}}],\"carpet\":[{\"aaxis\":{\"endlinecolor\":\"#2a3f5f\",\"gridcolor\":\"white\",\"linecolor\":\"white\",\"minorgridcolor\":\"white\",\"startlinecolor\":\"#2a3f5f\"},\"baxis\":{\"endlinecolor\":\"#2a3f5f\",\"gridcolor\":\"white\",\"linecolor\":\"white\",\"minorgridcolor\":\"white\",\"startlinecolor\":\"#2a3f5f\"},\"type\":\"carpet\"}],\"table\":[{\"cells\":{\"fill\":{\"color\":\"#EBF0F8\"},\"line\":{\"color\":\"white\"}},\"header\":{\"fill\":{\"color\":\"#C8D4E3\"},\"line\":{\"color\":\"white\"}},\"type\":\"table\"}],\"barpolar\":[{\"marker\":{\"line\":{\"color\":\"#E5ECF6\",\"width\":0.5},\"pattern\":{\"fillmode\":\"overlay\",\"size\":10,\"solidity\":0.2}},\"type\":\"barpolar\"}],\"pie\":[{\"automargin\":true,\"type\":\"pie\"}]},\"layout\":{\"autotypenumbers\":\"strict\",\"colorway\":[\"#636efa\",\"#EF553B\",\"#00cc96\",\"#ab63fa\",\"#FFA15A\",\"#19d3f3\",\"#FF6692\",\"#B6E880\",\"#FF97FF\",\"#FECB52\"],\"font\":{\"color\":\"#2a3f5f\"},\"hovermode\":\"closest\",\"hoverlabel\":{\"align\":\"left\"},\"paper_bgcolor\":\"white\",\"plot_bgcolor\":\"#E5ECF6\",\"polar\":{\"bgcolor\":\"#E5ECF6\",\"angularaxis\":{\"gridcolor\":\"white\",\"linecolor\":\"white\",\"ticks\":\"\"},\"radialaxis\":{\"gridcolor\":\"white\",\"linecolor\":\"white\",\"ticks\":\"\"}},\"ternary\":{\"bgcolor\":\"#E5ECF6\",\"aaxis\":{\"gridcolor\":\"white\",\"linecolor\":\"white\",\"ticks\":\"\"},\"baxis\":{\"gridcolor\":\"white\",\"linecolor\":\"white\",\"ticks\":\"\"},\"caxis\":{\"gridcolor\":\"white\",\"linecolor\":\"white\",\"ticks\":\"\"}},\"coloraxis\":{\"colorbar\":{\"outlinewidth\":0,\"ticks\":\"\"}},\"colorscale\":{\"sequential\":[[0.0,\"#0d0887\"],[0.1111111111111111,\"#46039f\"],[0.2222222222222222,\"#7201a8\"],[0.3333333333333333,\"#9c179e\"],[0.4444444444444444,\"#bd3786\"],[0.5555555555555556,\"#d8576b\"],[0.6666666666666666,\"#ed7953\"],[0.7777777777777778,\"#fb9f3a\"],[0.8888888888888888,\"#fdca26\"],[1.0,\"#f0f921\"]],\"sequentialminus\":[[0.0,\"#0d0887\"],[0.1111111111111111,\"#46039f\"],[0.2222222222222222,\"#7201a8\"],[0.3333333333333333,\"#9c179e\"],[0.4444444444444444,\"#bd3786\"],[0.5555555555555556,\"#d8576b\"],[0.6666666666666666,\"#ed7953\"],[0.7777777777777778,\"#fb9f3a\"],[0.8888888888888888,\"#fdca26\"],[1.0,\"#f0f921\"]],\"diverging\":[[0,\"#8e0152\"],[0.1,\"#c51b7d\"],[0.2,\"#de77ae\"],[0.3,\"#f1b6da\"],[0.4,\"#fde0ef\"],[0.5,\"#f7f7f7\"],[0.6,\"#e6f5d0\"],[0.7,\"#b8e186\"],[0.8,\"#7fbc41\"],[0.9,\"#4d9221\"],[1,\"#276419\"]]},\"xaxis\":{\"gridcolor\":\"white\",\"linecolor\":\"white\",\"ticks\":\"\",\"title\":{\"standoff\":15},\"zerolinecolor\":\"white\",\"automargin\":true,\"zerolinewidth\":2},\"yaxis\":{\"gridcolor\":\"white\",\"linecolor\":\"white\",\"ticks\":\"\",\"title\":{\"standoff\":15},\"zerolinecolor\":\"white\",\"automargin\":true,\"zerolinewidth\":2},\"scene\":{\"xaxis\":{\"backgroundcolor\":\"#E5ECF6\",\"gridcolor\":\"white\",\"linecolor\":\"white\",\"showbackground\":true,\"ticks\":\"\",\"zerolinecolor\":\"white\",\"gridwidth\":2},\"yaxis\":{\"backgroundcolor\":\"#E5ECF6\",\"gridcolor\":\"white\",\"linecolor\":\"white\",\"showbackground\":true,\"ticks\":\"\",\"zerolinecolor\":\"white\",\"gridwidth\":2},\"zaxis\":{\"backgroundcolor\":\"#E5ECF6\",\"gridcolor\":\"white\",\"linecolor\":\"white\",\"showbackground\":true,\"ticks\":\"\",\"zerolinecolor\":\"white\",\"gridwidth\":2}},\"shapedefaults\":{\"line\":{\"color\":\"#2a3f5f\"}},\"annotationdefaults\":{\"arrowcolor\":\"#2a3f5f\",\"arrowhead\":0,\"arrowwidth\":1},\"geo\":{\"bgcolor\":\"white\",\"landcolor\":\"#E5ECF6\",\"subunitcolor\":\"white\",\"showland\":true,\"showlakes\":true,\"lakecolor\":\"white\"},\"title\":{\"x\":0.05},\"mapbox\":{\"style\":\"light\"}}},\"images\":[{\"sizex\":50,\"sizey\":50,\"source\":\"https://thronesapi.com/assets/images/https://thronesapi.com/assets/images/daenerys.jpg\",\"x\":0.1,\"y\":0.8},{\"sizex\":50,\"sizey\":50,\"source\":\"https://thronesapi.com/assets/images/https://thronesapi.com/assets/images/sam.jpg\",\"x\":0.1,\"y\":0.7000000000000001},{\"sizex\":50,\"sizey\":50,\"source\":\"https://thronesapi.com/assets/images/https://thronesapi.com/assets/images/jon-snow.jpg\",\"x\":0.1,\"y\":0.6000000000000001},{\"sizex\":50,\"sizey\":50,\"source\":\"https://thronesapi.com/assets/images/https://thronesapi.com/assets/images/arya-stark.jpg\",\"x\":0.1,\"y\":0.5},{\"sizex\":50,\"sizey\":50,\"source\":\"https://thronesapi.com/assets/images/https://thronesapi.com/assets/images/sansa-stark.jpeg\",\"x\":0.1,\"y\":0.4},{\"sizex\":50,\"sizey\":50,\"source\":\"https://thronesapi.com/assets/images/https://thronesapi.com/assets/images/bran-stark.jpg\",\"x\":0.1,\"y\":0.30000000000000004},{\"sizex\":50,\"sizey\":50,\"source\":\"https://thronesapi.com/assets/images/https://thronesapi.com/assets/images/ned-stark.jpg\",\"x\":0.1,\"y\":0.19999999999999996},{\"sizex\":50,\"sizey\":50,\"source\":\"https://thronesapi.com/assets/images/https://thronesapi.com/assets/images/robert-baratheon.jpeg\",\"x\":0.1,\"y\":0.09999999999999998},{\"sizex\":50,\"sizey\":50,\"source\":\"https://thronesapi.com/assets/images/https://thronesapi.com/assets/images/jaime-lannister.jpg\",\"x\":0.1,\"y\":0.0},{\"sizex\":50,\"sizey\":50,\"source\":\"https://thronesapi.com/assets/images/https://thronesapi.com/assets/images/cersei.jpg\",\"x\":0.1,\"y\":-0.09999999999999998},{\"sizex\":50,\"sizey\":50,\"source\":\"https://thronesapi.com/assets/images/https://thronesapi.com/assets/images/catelyn-stark.jpg\",\"x\":0.1,\"y\":-0.19999999999999996},{\"sizex\":50,\"sizey\":50,\"source\":\"https://thronesapi.com/assets/images/https://thronesapi.com/assets/images/robb-stark.jpg\",\"x\":0.1,\"y\":-0.30000000000000004},{\"sizex\":50,\"sizey\":50,\"source\":\"https://thronesapi.com/assets/images/https://thronesapi.com/assets/images/theon.jpg\",\"x\":0.1,\"y\":-0.40000000000000013},{\"sizex\":50,\"sizey\":50,\"source\":\"https://thronesapi.com/assets/images/https://thronesapi.com/assets/images/joffrey.jpg\",\"x\":0.1,\"y\":-0.5},{\"sizex\":50,\"sizey\":50,\"source\":\"https://thronesapi.com/assets/images/https://thronesapi.com/assets/images/tyrion-lannister.jpg\",\"x\":0.1,\"y\":-0.6000000000000001},{\"sizex\":50,\"sizey\":50,\"source\":\"https://thronesapi.com/assets/images/https://thronesapi.com/assets/images/the-hound.jpg\",\"x\":0.1,\"y\":-0.7},{\"sizex\":50,\"sizey\":50,\"source\":\"https://thronesapi.com/assets/images/https://thronesapi.com/assets/images/littlefinger.jpg\",\"x\":0.1,\"y\":-0.8},{\"sizex\":50,\"sizey\":50,\"source\":\"https://thronesapi.com/assets/images/https://thronesapi.com/assets/images/davos-seaworth.png\",\"x\":0.1,\"y\":-0.9000000000000001},{\"sizex\":50,\"sizey\":50,\"source\":\"https://thronesapi.com/assets/images/https://thronesapi.com/assets/images/stannis.jpg\",\"x\":0.1,\"y\":-1.0},{\"sizex\":50,\"sizey\":50,\"source\":\"https://thronesapi.com/assets/images/https://thronesapi.com/assets/images/varys.jpg\",\"x\":0.1,\"y\":-1.1},{\"sizex\":50,\"sizey\":50,\"source\":\"https://thronesapi.com/assets/images/https://thronesapi.com/assets/images/khal-drogo.jpg\",\"x\":0.1,\"y\":-1.2},{\"sizex\":50,\"sizey\":50,\"source\":\"https://thronesapi.com/assets/images/https://thronesapi.com/assets/images/margaery-tyrell.jpg\",\"x\":0.1,\"y\":-1.3},{\"sizex\":50,\"sizey\":50,\"source\":\"https://thronesapi.com/assets/images/https://thronesapi.com/assets/images/ygritte.jpg\",\"x\":0.1,\"y\":-1.4000000000000001},{\"sizex\":50,\"sizey\":50,\"source\":\"https://thronesapi.com/assets/images/https://thronesapi.com/assets/images/brienne-tarth.jpeg\",\"x\":0.1,\"y\":-1.5000000000000002},{\"sizex\":50,\"sizey\":50,\"source\":\"https://thronesapi.com/assets/images/https://thronesapi.com/assets/images/missandei.jpeg\",\"x\":0.1,\"y\":-1.6000000000000003},{\"sizex\":50,\"sizey\":50,\"source\":\"https://thronesapi.com/assets/images/https://thronesapi.com/assets/images/gilly.jpg\",\"x\":0.1,\"y\":-1.7},{\"sizex\":50,\"sizey\":50,\"source\":\"https://thronesapi.com/assets/images/https://thronesapi.com/assets/images/viserys-targaryan.jpg\",\"x\":0.1,\"y\":-1.8},{\"sizex\":50,\"sizey\":50,\"source\":\"https://thronesapi.com/assets/images/https://thronesapi.com/assets/images/rickon.jpg\",\"x\":0.1,\"y\":-1.9000000000000001},{\"sizex\":50,\"sizey\":50,\"source\":\"https://thronesapi.com/assets/images/https://thronesapi.com/assets/images/roose-bolton.jpg\",\"x\":0.1,\"y\":-2.0},{\"sizex\":50,\"sizey\":50,\"source\":\"https://thronesapi.com/assets/images/https://thronesapi.com/assets/images/daario.jpg\",\"x\":0.1,\"y\":-2.1000000000000005},{\"sizex\":50,\"sizey\":50,\"source\":\"https://thronesapi.com/assets/images/https://thronesapi.com/assets/images/shae.jpg\",\"x\":0.1,\"y\":-2.2},{\"sizex\":50,\"sizey\":50,\"source\":\"https://thronesapi.com/assets/images/https://thronesapi.com/assets/images/tommen.jpg\",\"x\":0.1,\"y\":-2.3},{\"sizex\":50,\"sizey\":50,\"source\":\"https://thronesapi.com/assets/images/https://thronesapi.com/assets/images/gendry.jpg\",\"x\":0.1,\"y\":-2.4000000000000004},{\"sizex\":50,\"sizey\":50,\"source\":\"https://thronesapi.com/assets/images/https://thronesapi.com/assets/images/jorah-mormont.jpg\",\"x\":0.1,\"y\":-2.5},{\"sizex\":50,\"sizey\":50,\"source\":\"https://thronesapi.com/assets/images/https://thronesapi.com/assets/images/king-robert.jpg\",\"x\":0.1,\"y\":-2.6000000000000005},{\"sizex\":50,\"sizey\":50,\"source\":\"https://thronesapi.com/assets/images/https://thronesapi.com/assets/images/ramsey-bolton.jpg\",\"x\":0.1,\"y\":-2.7},{\"sizex\":50,\"sizey\":50,\"source\":\"https://thronesapi.com/assets/images/https://thronesapi.com/assets/images/talisa-stark.jpg\",\"x\":0.1,\"y\":-2.8},{\"sizex\":50,\"sizey\":50,\"source\":\"https://thronesapi.com/assets/images/https://thronesapi.com/assets/images/lord-commander-mormont.jpg\",\"x\":0.1,\"y\":-2.9000000000000004},{\"sizex\":50,\"sizey\":50,\"source\":\"https://thronesapi.com/assets/images/https://thronesapi.com/assets/images/the-high-sparrow.jpg\",\"x\":0.1,\"y\":-3.0},{\"sizex\":50,\"sizey\":50,\"source\":\"https://thronesapi.com/assets/images/https://thronesapi.com/assets/images/red-viper.jpg\",\"x\":0.1,\"y\":-3.1000000000000005},{\"sizex\":50,\"sizey\":50,\"source\":\"https://thronesapi.com/assets/images/https://thronesapi.com/assets/images/melisandre.jpg\",\"x\":0.1,\"y\":-3.2},{\"sizex\":50,\"sizey\":50,\"source\":\"https://thronesapi.com/assets/images/https://thronesapi.com/assets/images/jaqen-hghar.jpg\",\"x\":0.1,\"y\":-3.3000000000000007},{\"sizex\":50,\"sizey\":50,\"source\":\"https://thronesapi.com/assets/images/https://thronesapi.com/assets/images/tywin-lannister.jpg\",\"x\":0.1,\"y\":-3.4000000000000004},{\"sizex\":50,\"sizey\":50,\"source\":\"https://thronesapi.com/assets/images/https://thronesapi.com/assets/images/ellaria-sand.jpg\",\"x\":0.1,\"y\":-3.5},{\"sizex\":50,\"sizey\":50,\"source\":\"https://thronesapi.com/assets/images/https://thronesapi.com/assets/images/tormund-giantsbane.jpg\",\"x\":0.1,\"y\":-3.6000000000000005},{\"sizex\":50,\"sizey\":50,\"source\":\"https://thronesapi.com/assets/images/https://thronesapi.com/assets/images/yara-greyjoy.jpg\",\"x\":0.1,\"y\":-3.7},{\"sizex\":50,\"sizey\":50,\"source\":\"https://thronesapi.com/assets/images/https://thronesapi.com/assets/images/euron-greyjoy.jpg\",\"x\":0.1,\"y\":-3.8000000000000007},{\"sizex\":50,\"sizey\":50,\"source\":\"https://thronesapi.com/assets/images/https://thronesapi.com/assets/images/hodor.jpg\",\"x\":0.1,\"y\":-3.9000000000000004},{\"sizex\":50,\"sizey\":50,\"source\":\"https://thronesapi.com/assets/images/https://thronesapi.com/assets/images/pycelle.jpg\",\"x\":0.1,\"y\":-4.000000000000001},{\"sizex\":50,\"sizey\":50,\"source\":\"https://thronesapi.com/assets/images/https://thronesapi.com/assets/images/greyworm.jpg\",\"x\":0.1,\"y\":-4.1000000000000005},{\"sizex\":50,\"sizey\":50,\"source\":\"https://thronesapi.com/assets/images/https://thronesapi.com/assets/images/olenna-tyrell.jpg\",\"x\":0.1,\"y\":-4.2},{\"sizex\":50,\"sizey\":50,\"source\":\"https://thronesapi.com/assets/images/https://thronesapi.com/assets/images/qyburn.jpg\",\"x\":0.1,\"y\":-4.300000000000001},{\"sizex\":50,\"sizey\":50,\"source\":\"https://thronesapi.com/assets/images/https://thronesapi.com/assets/images/bronn.jpg\",\"x\":0.1,\"y\":-4.4}],\"annotations\":[{\"showarrow\":false,\"text\":\"Daenerys Targaryen\",\"x\":0.5,\"y\":0.8},{\"showarrow\":false,\"text\":\"Samwell Tarly\",\"x\":0.5,\"y\":0.7000000000000001},{\"showarrow\":false,\"text\":\"Jon Snow\",\"x\":0.5,\"y\":0.6000000000000001},{\"showarrow\":false,\"text\":\"Arya Stark\",\"x\":0.5,\"y\":0.5},{\"showarrow\":false,\"text\":\"Sansa Stark\",\"x\":0.5,\"y\":0.4},{\"showarrow\":false,\"text\":\"Brandon Stark\",\"x\":0.5,\"y\":0.30000000000000004},{\"showarrow\":false,\"text\":\"Ned Stark\",\"x\":0.5,\"y\":0.19999999999999996},{\"showarrow\":false,\"text\":\"Robert Baratheon\",\"x\":0.5,\"y\":0.09999999999999998},{\"showarrow\":false,\"text\":\"Jamie Lannister\",\"x\":0.5,\"y\":0.0},{\"showarrow\":false,\"text\":\"Cersei Lannister\",\"x\":0.5,\"y\":-0.09999999999999998},{\"showarrow\":false,\"text\":\"Catelyn Stark\",\"x\":0.5,\"y\":-0.19999999999999996},{\"showarrow\":false,\"text\":\"Rob Stark\",\"x\":0.5,\"y\":-0.30000000000000004},{\"showarrow\":false,\"text\":\"Theon Greyjoy\",\"x\":0.5,\"y\":-0.40000000000000013},{\"showarrow\":false,\"text\":\"Joffrey Baratheon\",\"x\":0.5,\"y\":-0.5},{\"showarrow\":false,\"text\":\"Tyrion Lannister\",\"x\":0.5,\"y\":-0.6000000000000001},{\"showarrow\":false,\"text\":\"The Hound\",\"x\":0.5,\"y\":-0.7},{\"showarrow\":false,\"text\":\"Petyr Baelish\",\"x\":0.5,\"y\":-0.8},{\"showarrow\":false,\"text\":\"Davos Seaworth\",\"x\":0.5,\"y\":-0.9000000000000001},{\"showarrow\":false,\"text\":\"Stannis Baratheon\",\"x\":0.5,\"y\":-1.0},{\"showarrow\":false,\"text\":\"Varys\",\"x\":0.5,\"y\":-1.1},{\"showarrow\":false,\"text\":\"Khal Drogo\",\"x\":0.5,\"y\":-1.2},{\"showarrow\":false,\"text\":\"Margaery Tyrell\",\"x\":0.5,\"y\":-1.3},{\"showarrow\":false,\"text\":\"Ygritte\",\"x\":0.5,\"y\":-1.4000000000000001},{\"showarrow\":false,\"text\":\"Brienne of Tarth\",\"x\":0.5,\"y\":-1.5000000000000002},{\"showarrow\":false,\"text\":\"Missandei\",\"x\":0.5,\"y\":-1.6000000000000003},{\"showarrow\":false,\"text\":\"Gilly\",\"x\":0.5,\"y\":-1.7},{\"showarrow\":false,\"text\":\"Viserys Targaryn\",\"x\":0.5,\"y\":-1.8},{\"showarrow\":false,\"text\":\"Rickon Stark\",\"x\":0.5,\"y\":-1.9000000000000001},{\"showarrow\":false,\"text\":\"Roose Bolton\",\"x\":0.5,\"y\":-2.0},{\"showarrow\":false,\"text\":\"Daario\",\"x\":0.5,\"y\":-2.1000000000000005},{\"showarrow\":false,\"text\":\"Shae\",\"x\":0.5,\"y\":-2.2},{\"showarrow\":false,\"text\":\"Tommen Baratheon\",\"x\":0.5,\"y\":-2.3},{\"showarrow\":false,\"text\":\"Gendry Baratheon\",\"x\":0.5,\"y\":-2.4000000000000004},{\"showarrow\":false,\"text\":\"Jorah Mormont\",\"x\":0.5,\"y\":-2.5},{\"showarrow\":false,\"text\":\"Robert Baratheon\",\"x\":0.5,\"y\":-2.6000000000000005},{\"showarrow\":false,\"text\":\"Ramsey Bolton\",\"x\":0.5,\"y\":-2.7},{\"showarrow\":false,\"text\":\"Talisa Stark\",\"x\":0.5,\"y\":-2.8},{\"showarrow\":false,\"text\":\"Jeor Mormont\",\"x\":0.5,\"y\":-2.9000000000000004},{\"showarrow\":false,\"text\":\"The High Sparrow\",\"x\":0.5,\"y\":-3.0},{\"showarrow\":false,\"text\":\"Oberyn Martell\",\"x\":0.5,\"y\":-3.1000000000000005},{\"showarrow\":false,\"text\":\"Melisandre\",\"x\":0.5,\"y\":-3.2},{\"showarrow\":false,\"text\":\"Jaqen H'ghar\",\"x\":0.5,\"y\":-3.3000000000000007},{\"showarrow\":false,\"text\":\"Tywin Lannister\",\"x\":0.5,\"y\":-3.4000000000000004},{\"showarrow\":false,\"text\":\"Ellaria Sand\",\"x\":0.5,\"y\":-3.5},{\"showarrow\":false,\"text\":\"Tormund Giantsbane\",\"x\":0.5,\"y\":-3.6000000000000005},{\"showarrow\":false,\"text\":\"Yara Greyjoy\",\"x\":0.5,\"y\":-3.7},{\"showarrow\":false,\"text\":\"Euron Greyjoy\",\"x\":0.5,\"y\":-3.8000000000000007},{\"showarrow\":false,\"text\":\"Hodor\",\"x\":0.5,\"y\":-3.9000000000000004},{\"showarrow\":false,\"text\":\"Pycelle\",\"x\":0.5,\"y\":-4.000000000000001},{\"showarrow\":false,\"text\":\"Grey Worm\",\"x\":0.5,\"y\":-4.1000000000000005},{\"showarrow\":false,\"text\":\"Olenna Tyrell\",\"x\":0.5,\"y\":-4.2},{\"showarrow\":false,\"text\":\"Qyburn\",\"x\":0.5,\"y\":-4.300000000000001},{\"showarrow\":false,\"text\":\"Lord Bronn\",\"x\":0.5,\"y\":-4.4}],\"xaxis\":{\"showticklabels\":false},\"yaxis\":{\"showticklabels\":false},\"title\":{\"text\":\"Game of Thrones Characters\"}},                        {\"responsive\": true}                    ).then(function(){\n",
       "                            \n",
       "var gd = document.getElementById('4771d053-48e2-4e10-99fe-d3a12c57673d');\n",
       "var x = new MutationObserver(function (mutations, observer) {{\n",
       "        var display = window.getComputedStyle(gd).display;\n",
       "        if (!display || display === 'none') {{\n",
       "            console.log([gd, 'removed!']);\n",
       "            Plotly.purge(gd);\n",
       "            observer.disconnect();\n",
       "        }}\n",
       "}});\n",
       "\n",
       "// Listen for the removal of the full notebook cells\n",
       "var notebookContainer = gd.closest('#notebook-container');\n",
       "if (notebookContainer) {{\n",
       "    x.observe(notebookContainer, {childList: true});\n",
       "}}\n",
       "\n",
       "// Listen for the clearing of the current output cell\n",
       "var outputEl = gd.closest('.output');\n",
       "if (outputEl) {{\n",
       "    x.observe(outputEl, {childList: true});\n",
       "}}\n",
       "\n",
       "                        })                };                });            </script>        </div>"
      ]
     },
     "metadata": {},
     "output_type": "display_data"
    }
   ],
   "source": [
    "fig = go.Figure()\n",
    "\n",
    "# Add image traces for each character\n",
    "for character in characters:\n",
    "    img = go.layout.Image(source=character[\"image_url\"], sizex=50, sizey=50)  # Adjust size as needed\n",
    "    fig.add_layout_image(img, x=0.1, y=0.8 - 0.1 * characters.index(character))  # Position images\n",
    "\n",
    "# Add character names as annotations\n",
    "for i, character in enumerate(characters):\n",
    "    fig.add_annotation(x=0.5, y=0.8 - 0.1 * i, text=character[\"name\"], showarrow=False)\n",
    "\n",
    "# Customize layout (optional)\n",
    "fig.update_layout(title=\"Game of Thrones Characters\", xaxis_showticklabels=False, yaxis_showticklabels=False)\n"
   ]
  },
  {
   "cell_type": "code",
   "execution_count": null,
   "id": "db6e36b0",
   "metadata": {},
   "outputs": [],
   "source": []
  }
 ],
 "metadata": {
  "kernelspec": {
   "display_name": "Python 3 (ipykernel)",
   "language": "python",
   "name": "python3"
  },
  "language_info": {
   "codemirror_mode": {
    "name": "ipython",
    "version": 3
   },
   "file_extension": ".py",
   "mimetype": "text/x-python",
   "name": "python",
   "nbconvert_exporter": "python",
   "pygments_lexer": "ipython3",
   "version": "3.9.13"
  }
 },
 "nbformat": 4,
 "nbformat_minor": 5
}
